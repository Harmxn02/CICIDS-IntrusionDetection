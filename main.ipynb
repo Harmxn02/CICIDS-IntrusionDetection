{
 "cells": [
  {
   "cell_type": "markdown",
   "metadata": {},
   "source": [
    "# CICIDS\n",
    "\n",
    "The CICIDS2017 dataset is a comprehensive dataset for network intrusion detection, created by the Canadian Institute for Cybersecurity. It includes a diverse set of attack scenarios and normal traffic, making it suitable for training and evaluating intrusion detection systems.\n",
    "\n",
    "The dataset includes various types of attacks such as Brute Force, Heartbleed, Botnet, DoS (Denial of Service), DDoS (Distributed Denial of Service), Web attacks, and Infiltration of the network from inside."
   ]
  },
  {
   "cell_type": "code",
   "execution_count": 1,
   "metadata": {},
   "outputs": [],
   "source": [
    "import warnings\n",
    "from sklearn.exceptions import UndefinedMetricWarning\n",
    "warnings.filterwarnings(\"ignore\", category=UndefinedMetricWarning)"
   ]
  },
  {
   "cell_type": "markdown",
   "metadata": {},
   "source": [
    "## Step 1. EDA"
   ]
  },
  {
   "cell_type": "code",
   "execution_count": 2,
   "metadata": {},
   "outputs": [],
   "source": [
    "import pandas as pd\n",
    "import numpy as np\n",
    "import matplotlib.pyplot as plt\n",
    "import seaborn as sns\n",
    "\n",
    "sns.set(style=\"whitegrid\")\n",
    "\n",
    "df_train = pd.read_csv(\"./data/original/Tuesday-WorkingHours.pcap_ISCX.csv\")"
   ]
  },
  {
   "cell_type": "code",
   "execution_count": 3,
   "metadata": {},
   "outputs": [
    {
     "data": {
      "application/vnd.microsoft.datawrangler.viewer.v0+json": {
       "columns": [
        {
         "name": "index",
         "rawType": "int64",
         "type": "integer"
        },
        {
         "name": " Destination Port",
         "rawType": "int64",
         "type": "integer"
        },
        {
         "name": " Flow Duration",
         "rawType": "int64",
         "type": "integer"
        },
        {
         "name": " Total Fwd Packets",
         "rawType": "int64",
         "type": "integer"
        },
        {
         "name": " Total Backward Packets",
         "rawType": "int64",
         "type": "integer"
        },
        {
         "name": "Total Length of Fwd Packets",
         "rawType": "int64",
         "type": "integer"
        },
        {
         "name": " Total Length of Bwd Packets",
         "rawType": "int64",
         "type": "integer"
        },
        {
         "name": " Fwd Packet Length Max",
         "rawType": "int64",
         "type": "integer"
        },
        {
         "name": " Fwd Packet Length Min",
         "rawType": "int64",
         "type": "integer"
        },
        {
         "name": " Fwd Packet Length Mean",
         "rawType": "float64",
         "type": "float"
        },
        {
         "name": " Fwd Packet Length Std",
         "rawType": "float64",
         "type": "float"
        },
        {
         "name": "Bwd Packet Length Max",
         "rawType": "int64",
         "type": "integer"
        },
        {
         "name": " Bwd Packet Length Min",
         "rawType": "int64",
         "type": "integer"
        },
        {
         "name": " Bwd Packet Length Mean",
         "rawType": "float64",
         "type": "float"
        },
        {
         "name": " Bwd Packet Length Std",
         "rawType": "float64",
         "type": "float"
        },
        {
         "name": "Flow Bytes/s",
         "rawType": "float64",
         "type": "float"
        },
        {
         "name": " Flow Packets/s",
         "rawType": "float64",
         "type": "float"
        },
        {
         "name": " Flow IAT Mean",
         "rawType": "float64",
         "type": "float"
        },
        {
         "name": " Flow IAT Std",
         "rawType": "float64",
         "type": "float"
        },
        {
         "name": " Flow IAT Max",
         "rawType": "int64",
         "type": "integer"
        },
        {
         "name": " Flow IAT Min",
         "rawType": "int64",
         "type": "integer"
        },
        {
         "name": "Fwd IAT Total",
         "rawType": "int64",
         "type": "integer"
        },
        {
         "name": " Fwd IAT Mean",
         "rawType": "float64",
         "type": "float"
        },
        {
         "name": " Fwd IAT Std",
         "rawType": "float64",
         "type": "float"
        },
        {
         "name": " Fwd IAT Max",
         "rawType": "int64",
         "type": "integer"
        },
        {
         "name": " Fwd IAT Min",
         "rawType": "int64",
         "type": "integer"
        },
        {
         "name": "Bwd IAT Total",
         "rawType": "int64",
         "type": "integer"
        },
        {
         "name": " Bwd IAT Mean",
         "rawType": "float64",
         "type": "float"
        },
        {
         "name": " Bwd IAT Std",
         "rawType": "float64",
         "type": "float"
        },
        {
         "name": " Bwd IAT Max",
         "rawType": "int64",
         "type": "integer"
        },
        {
         "name": " Bwd IAT Min",
         "rawType": "int64",
         "type": "integer"
        },
        {
         "name": "Fwd PSH Flags",
         "rawType": "int64",
         "type": "integer"
        },
        {
         "name": " Bwd PSH Flags",
         "rawType": "int64",
         "type": "integer"
        },
        {
         "name": " Fwd URG Flags",
         "rawType": "int64",
         "type": "integer"
        },
        {
         "name": " Bwd URG Flags",
         "rawType": "int64",
         "type": "integer"
        },
        {
         "name": " Fwd Header Length",
         "rawType": "int64",
         "type": "integer"
        },
        {
         "name": " Bwd Header Length",
         "rawType": "int64",
         "type": "integer"
        },
        {
         "name": "Fwd Packets/s",
         "rawType": "float64",
         "type": "float"
        },
        {
         "name": " Bwd Packets/s",
         "rawType": "float64",
         "type": "float"
        },
        {
         "name": " Min Packet Length",
         "rawType": "int64",
         "type": "integer"
        },
        {
         "name": " Max Packet Length",
         "rawType": "int64",
         "type": "integer"
        },
        {
         "name": " Packet Length Mean",
         "rawType": "float64",
         "type": "float"
        },
        {
         "name": " Packet Length Std",
         "rawType": "float64",
         "type": "float"
        },
        {
         "name": " Packet Length Variance",
         "rawType": "float64",
         "type": "float"
        },
        {
         "name": "FIN Flag Count",
         "rawType": "int64",
         "type": "integer"
        },
        {
         "name": " SYN Flag Count",
         "rawType": "int64",
         "type": "integer"
        },
        {
         "name": " RST Flag Count",
         "rawType": "int64",
         "type": "integer"
        },
        {
         "name": " PSH Flag Count",
         "rawType": "int64",
         "type": "integer"
        },
        {
         "name": " ACK Flag Count",
         "rawType": "int64",
         "type": "integer"
        },
        {
         "name": " URG Flag Count",
         "rawType": "int64",
         "type": "integer"
        },
        {
         "name": " CWE Flag Count",
         "rawType": "int64",
         "type": "integer"
        },
        {
         "name": " ECE Flag Count",
         "rawType": "int64",
         "type": "integer"
        },
        {
         "name": " Down/Up Ratio",
         "rawType": "int64",
         "type": "integer"
        },
        {
         "name": " Average Packet Size",
         "rawType": "float64",
         "type": "float"
        },
        {
         "name": " Avg Fwd Segment Size",
         "rawType": "float64",
         "type": "float"
        },
        {
         "name": " Avg Bwd Segment Size",
         "rawType": "float64",
         "type": "float"
        },
        {
         "name": " Fwd Header Length.1",
         "rawType": "int64",
         "type": "integer"
        },
        {
         "name": "Fwd Avg Bytes/Bulk",
         "rawType": "int64",
         "type": "integer"
        },
        {
         "name": " Fwd Avg Packets/Bulk",
         "rawType": "int64",
         "type": "integer"
        },
        {
         "name": " Fwd Avg Bulk Rate",
         "rawType": "int64",
         "type": "integer"
        },
        {
         "name": " Bwd Avg Bytes/Bulk",
         "rawType": "int64",
         "type": "integer"
        },
        {
         "name": " Bwd Avg Packets/Bulk",
         "rawType": "int64",
         "type": "integer"
        },
        {
         "name": "Bwd Avg Bulk Rate",
         "rawType": "int64",
         "type": "integer"
        },
        {
         "name": "Subflow Fwd Packets",
         "rawType": "int64",
         "type": "integer"
        },
        {
         "name": " Subflow Fwd Bytes",
         "rawType": "int64",
         "type": "integer"
        },
        {
         "name": " Subflow Bwd Packets",
         "rawType": "int64",
         "type": "integer"
        },
        {
         "name": " Subflow Bwd Bytes",
         "rawType": "int64",
         "type": "integer"
        },
        {
         "name": "Init_Win_bytes_forward",
         "rawType": "int64",
         "type": "integer"
        },
        {
         "name": " Init_Win_bytes_backward",
         "rawType": "int64",
         "type": "integer"
        },
        {
         "name": " act_data_pkt_fwd",
         "rawType": "int64",
         "type": "integer"
        },
        {
         "name": " min_seg_size_forward",
         "rawType": "int64",
         "type": "integer"
        },
        {
         "name": "Active Mean",
         "rawType": "float64",
         "type": "float"
        },
        {
         "name": " Active Std",
         "rawType": "float64",
         "type": "float"
        },
        {
         "name": " Active Max",
         "rawType": "int64",
         "type": "integer"
        },
        {
         "name": " Active Min",
         "rawType": "int64",
         "type": "integer"
        },
        {
         "name": "Idle Mean",
         "rawType": "float64",
         "type": "float"
        },
        {
         "name": " Idle Std",
         "rawType": "float64",
         "type": "float"
        },
        {
         "name": " Idle Max",
         "rawType": "int64",
         "type": "integer"
        },
        {
         "name": " Idle Min",
         "rawType": "int64",
         "type": "integer"
        },
        {
         "name": " Label",
         "rawType": "object",
         "type": "string"
        }
       ],
       "conversionMethod": "pd.DataFrame",
       "ref": "cd54cbbc-85ce-4a60-940c-ae0f8c295184",
       "rows": [
        [
         "0",
         "88",
         "640",
         "7",
         "4",
         "440",
         "358",
         "220",
         "0",
         "62.85714286",
         "107.349008",
         "179",
         "0",
         "89.5",
         "103.3456982",
         "1246875.0",
         "17187.5",
         "64.0",
         "135.557286",
         "445",
         "1",
         "640",
         "106.6666667",
         "194.3251571",
         "497",
         "1",
         "538",
         "179.3333333",
         "303.6862416",
         "530",
         "4",
         "0",
         "0",
         "0",
         "0",
         "164",
         "104",
         "10937.5",
         "6250.0",
         "0",
         "220",
         "66.5",
         "99.00183653",
         "9801.363636",
         "0",
         "0",
         "0",
         "1",
         "0",
         "0",
         "0",
         "0",
         "0",
         "72.54545455",
         "62.85714286",
         "89.5",
         "164",
         "0",
         "0",
         "0",
         "0",
         "0",
         "0",
         "7",
         "440",
         "4",
         "358",
         "8192",
         "2053",
         "2",
         "20",
         "0.0",
         "0.0",
         "0",
         "0",
         "0.0",
         "0.0",
         "0",
         "0",
         "BENIGN"
        ],
        [
         "1",
         "88",
         "900",
         "9",
         "4",
         "600",
         "2944",
         "300",
         "0",
         "66.66666667",
         "132.2875656",
         "1472",
         "0",
         "736.0",
         "849.8595962",
         "3937777.778",
         "14444.44444",
         "75.0",
         "192.7952282",
         "684",
         "1",
         "900",
         "112.5",
         "252.4112291",
         "734",
         "1",
         "766",
         "255.3333333",
         "435.3232515",
         "758",
         "3",
         "0",
         "0",
         "0",
         "0",
         "204",
         "104",
         "10000.0",
         "4444.444444",
         "0",
         "1472",
         "253.1428571",
         "527.4342623",
         "278186.9011",
         "0",
         "0",
         "0",
         "1",
         "0",
         "0",
         "0",
         "0",
         "0",
         "272.6153846",
         "66.66666667",
         "736.0",
         "204",
         "0",
         "0",
         "0",
         "0",
         "0",
         "0",
         "9",
         "600",
         "4",
         "2944",
         "8192",
         "2053",
         "2",
         "20",
         "0.0",
         "0.0",
         "0",
         "0",
         "0.0",
         "0.0",
         "0",
         "0",
         "BENIGN"
        ],
        [
         "2",
         "88",
         "1205",
         "7",
         "4",
         "2776",
         "2830",
         "1388",
         "0",
         "396.5714286",
         "677.2746506",
         "1415",
         "0",
         "707.5",
         "816.9506309",
         "4652282.158",
         "9128.630705",
         "120.5",
         "236.4333357",
         "777",
         "1",
         "1205",
         "200.8333333",
         "397.058392",
         "1008",
         "1",
         "927",
         "309.0",
         "491.6472313",
         "876",
         "1",
         "0",
         "0",
         "0",
         "0",
         "164",
         "104",
         "5809.128631",
         "3319.502075",
         "0",
         "1415",
         "467.1666667",
         "690.0989169",
         "476236.5152",
         "0",
         "0",
         "0",
         "1",
         "0",
         "0",
         "0",
         "0",
         "0",
         "509.6363636",
         "396.5714286",
         "707.5",
         "164",
         "0",
         "0",
         "0",
         "0",
         "0",
         "0",
         "7",
         "2776",
         "4",
         "2830",
         "8192",
         "2053",
         "2",
         "20",
         "0.0",
         "0.0",
         "0",
         "0",
         "0.0",
         "0.0",
         "0",
         "0",
         "BENIGN"
        ],
        [
         "3",
         "88",
         "511",
         "7",
         "4",
         "452",
         "370",
         "226",
         "0",
         "64.57142857",
         "110.2767082",
         "185",
         "0",
         "92.5",
         "106.8097998",
         "1608610.568",
         "21526.41879",
         "51.1",
         "90.76765209",
         "299",
         "1",
         "511",
         "85.16666667",
         "131.9005939",
         "349",
         "1",
         "462",
         "154.0",
         "224.7198256",
         "412",
         "1",
         "0",
         "0",
         "0",
         "0",
         "164",
         "104",
         "13698.63014",
         "7827.78865",
         "0",
         "226",
         "68.5",
         "101.9335791",
         "10390.45455",
         "0",
         "0",
         "0",
         "1",
         "0",
         "0",
         "0",
         "0",
         "0",
         "74.72727273",
         "64.57142857",
         "92.5",
         "164",
         "0",
         "0",
         "0",
         "0",
         "0",
         "0",
         "7",
         "452",
         "4",
         "370",
         "8192",
         "2053",
         "2",
         "20",
         "0.0",
         "0.0",
         "0",
         "0",
         "0.0",
         "0.0",
         "0",
         "0",
         "BENIGN"
        ],
        [
         "4",
         "88",
         "773",
         "9",
         "4",
         "612",
         "2944",
         "306",
         "0",
         "68.0",
         "134.9333169",
         "1472",
         "0",
         "736.0",
         "849.8595962",
         "4600258.732",
         "16817.59379",
         "64.41666667",
         "148.6982658",
         "531",
         "1",
         "773",
         "96.625",
         "196.6657335",
         "580",
         "1",
         "675",
         "225.0",
         "348.9011321",
         "627",
         "1",
         "0",
         "0",
         "0",
         "0",
         "204",
         "104",
         "11642.94955",
         "5174.644243",
         "0",
         "1472",
         "254.0",
         "527.5207615",
         "278278.1538",
         "0",
         "0",
         "0",
         "1",
         "0",
         "0",
         "0",
         "0",
         "0",
         "273.5384615",
         "68.0",
         "736.0",
         "204",
         "0",
         "0",
         "0",
         "0",
         "0",
         "0",
         "9",
         "612",
         "4",
         "2944",
         "8192",
         "2053",
         "2",
         "20",
         "0.0",
         "0.0",
         "0",
         "0",
         "0.0",
         "0.0",
         "0",
         "0",
         "BENIGN"
        ]
       ],
       "shape": {
        "columns": 79,
        "rows": 5
       }
      },
      "text/html": [
       "<div>\n",
       "<style scoped>\n",
       "    .dataframe tbody tr th:only-of-type {\n",
       "        vertical-align: middle;\n",
       "    }\n",
       "\n",
       "    .dataframe tbody tr th {\n",
       "        vertical-align: top;\n",
       "    }\n",
       "\n",
       "    .dataframe thead th {\n",
       "        text-align: right;\n",
       "    }\n",
       "</style>\n",
       "<table border=\"1\" class=\"dataframe\">\n",
       "  <thead>\n",
       "    <tr style=\"text-align: right;\">\n",
       "      <th></th>\n",
       "      <th>Destination Port</th>\n",
       "      <th>Flow Duration</th>\n",
       "      <th>Total Fwd Packets</th>\n",
       "      <th>Total Backward Packets</th>\n",
       "      <th>Total Length of Fwd Packets</th>\n",
       "      <th>Total Length of Bwd Packets</th>\n",
       "      <th>Fwd Packet Length Max</th>\n",
       "      <th>Fwd Packet Length Min</th>\n",
       "      <th>Fwd Packet Length Mean</th>\n",
       "      <th>Fwd Packet Length Std</th>\n",
       "      <th>...</th>\n",
       "      <th>min_seg_size_forward</th>\n",
       "      <th>Active Mean</th>\n",
       "      <th>Active Std</th>\n",
       "      <th>Active Max</th>\n",
       "      <th>Active Min</th>\n",
       "      <th>Idle Mean</th>\n",
       "      <th>Idle Std</th>\n",
       "      <th>Idle Max</th>\n",
       "      <th>Idle Min</th>\n",
       "      <th>Label</th>\n",
       "    </tr>\n",
       "  </thead>\n",
       "  <tbody>\n",
       "    <tr>\n",
       "      <th>0</th>\n",
       "      <td>88</td>\n",
       "      <td>640</td>\n",
       "      <td>7</td>\n",
       "      <td>4</td>\n",
       "      <td>440</td>\n",
       "      <td>358</td>\n",
       "      <td>220</td>\n",
       "      <td>0</td>\n",
       "      <td>62.857143</td>\n",
       "      <td>107.349008</td>\n",
       "      <td>...</td>\n",
       "      <td>20</td>\n",
       "      <td>0.0</td>\n",
       "      <td>0.0</td>\n",
       "      <td>0</td>\n",
       "      <td>0</td>\n",
       "      <td>0.0</td>\n",
       "      <td>0.0</td>\n",
       "      <td>0</td>\n",
       "      <td>0</td>\n",
       "      <td>BENIGN</td>\n",
       "    </tr>\n",
       "    <tr>\n",
       "      <th>1</th>\n",
       "      <td>88</td>\n",
       "      <td>900</td>\n",
       "      <td>9</td>\n",
       "      <td>4</td>\n",
       "      <td>600</td>\n",
       "      <td>2944</td>\n",
       "      <td>300</td>\n",
       "      <td>0</td>\n",
       "      <td>66.666667</td>\n",
       "      <td>132.287566</td>\n",
       "      <td>...</td>\n",
       "      <td>20</td>\n",
       "      <td>0.0</td>\n",
       "      <td>0.0</td>\n",
       "      <td>0</td>\n",
       "      <td>0</td>\n",
       "      <td>0.0</td>\n",
       "      <td>0.0</td>\n",
       "      <td>0</td>\n",
       "      <td>0</td>\n",
       "      <td>BENIGN</td>\n",
       "    </tr>\n",
       "    <tr>\n",
       "      <th>2</th>\n",
       "      <td>88</td>\n",
       "      <td>1205</td>\n",
       "      <td>7</td>\n",
       "      <td>4</td>\n",
       "      <td>2776</td>\n",
       "      <td>2830</td>\n",
       "      <td>1388</td>\n",
       "      <td>0</td>\n",
       "      <td>396.571429</td>\n",
       "      <td>677.274651</td>\n",
       "      <td>...</td>\n",
       "      <td>20</td>\n",
       "      <td>0.0</td>\n",
       "      <td>0.0</td>\n",
       "      <td>0</td>\n",
       "      <td>0</td>\n",
       "      <td>0.0</td>\n",
       "      <td>0.0</td>\n",
       "      <td>0</td>\n",
       "      <td>0</td>\n",
       "      <td>BENIGN</td>\n",
       "    </tr>\n",
       "    <tr>\n",
       "      <th>3</th>\n",
       "      <td>88</td>\n",
       "      <td>511</td>\n",
       "      <td>7</td>\n",
       "      <td>4</td>\n",
       "      <td>452</td>\n",
       "      <td>370</td>\n",
       "      <td>226</td>\n",
       "      <td>0</td>\n",
       "      <td>64.571429</td>\n",
       "      <td>110.276708</td>\n",
       "      <td>...</td>\n",
       "      <td>20</td>\n",
       "      <td>0.0</td>\n",
       "      <td>0.0</td>\n",
       "      <td>0</td>\n",
       "      <td>0</td>\n",
       "      <td>0.0</td>\n",
       "      <td>0.0</td>\n",
       "      <td>0</td>\n",
       "      <td>0</td>\n",
       "      <td>BENIGN</td>\n",
       "    </tr>\n",
       "    <tr>\n",
       "      <th>4</th>\n",
       "      <td>88</td>\n",
       "      <td>773</td>\n",
       "      <td>9</td>\n",
       "      <td>4</td>\n",
       "      <td>612</td>\n",
       "      <td>2944</td>\n",
       "      <td>306</td>\n",
       "      <td>0</td>\n",
       "      <td>68.000000</td>\n",
       "      <td>134.933317</td>\n",
       "      <td>...</td>\n",
       "      <td>20</td>\n",
       "      <td>0.0</td>\n",
       "      <td>0.0</td>\n",
       "      <td>0</td>\n",
       "      <td>0</td>\n",
       "      <td>0.0</td>\n",
       "      <td>0.0</td>\n",
       "      <td>0</td>\n",
       "      <td>0</td>\n",
       "      <td>BENIGN</td>\n",
       "    </tr>\n",
       "  </tbody>\n",
       "</table>\n",
       "<p>5 rows × 79 columns</p>\n",
       "</div>"
      ],
      "text/plain": [
       "    Destination Port   Flow Duration   Total Fwd Packets  \\\n",
       "0                 88             640                   7   \n",
       "1                 88             900                   9   \n",
       "2                 88            1205                   7   \n",
       "3                 88             511                   7   \n",
       "4                 88             773                   9   \n",
       "\n",
       "    Total Backward Packets  Total Length of Fwd Packets  \\\n",
       "0                        4                          440   \n",
       "1                        4                          600   \n",
       "2                        4                         2776   \n",
       "3                        4                          452   \n",
       "4                        4                          612   \n",
       "\n",
       "    Total Length of Bwd Packets   Fwd Packet Length Max  \\\n",
       "0                           358                     220   \n",
       "1                          2944                     300   \n",
       "2                          2830                    1388   \n",
       "3                           370                     226   \n",
       "4                          2944                     306   \n",
       "\n",
       "    Fwd Packet Length Min   Fwd Packet Length Mean   Fwd Packet Length Std  \\\n",
       "0                       0                62.857143              107.349008   \n",
       "1                       0                66.666667              132.287566   \n",
       "2                       0               396.571429              677.274651   \n",
       "3                       0                64.571429              110.276708   \n",
       "4                       0                68.000000              134.933317   \n",
       "\n",
       "   ...   min_seg_size_forward  Active Mean   Active Std   Active Max  \\\n",
       "0  ...                     20          0.0          0.0            0   \n",
       "1  ...                     20          0.0          0.0            0   \n",
       "2  ...                     20          0.0          0.0            0   \n",
       "3  ...                     20          0.0          0.0            0   \n",
       "4  ...                     20          0.0          0.0            0   \n",
       "\n",
       "    Active Min  Idle Mean   Idle Std   Idle Max   Idle Min   Label  \n",
       "0            0        0.0        0.0          0          0  BENIGN  \n",
       "1            0        0.0        0.0          0          0  BENIGN  \n",
       "2            0        0.0        0.0          0          0  BENIGN  \n",
       "3            0        0.0        0.0          0          0  BENIGN  \n",
       "4            0        0.0        0.0          0          0  BENIGN  \n",
       "\n",
       "[5 rows x 79 columns]"
      ]
     },
     "execution_count": 3,
     "metadata": {},
     "output_type": "execute_result"
    }
   ],
   "source": [
    "df_train.head(5)"
   ]
  },
  {
   "cell_type": "code",
   "execution_count": 4,
   "metadata": {},
   "outputs": [
    {
     "data": {
      "text/plain": [
       "(445909, 79)"
      ]
     },
     "execution_count": 4,
     "metadata": {},
     "output_type": "execute_result"
    }
   ],
   "source": [
    "df_train.shape"
   ]
  },
  {
   "cell_type": "code",
   "execution_count": 5,
   "metadata": {},
   "outputs": [
    {
     "name": "stdout",
     "output_type": "stream",
     "text": [
      "<class 'pandas.core.frame.DataFrame'>\n",
      "RangeIndex: 445909 entries, 0 to 445908\n",
      "Data columns (total 79 columns):\n",
      " #   Column                        Non-Null Count   Dtype  \n",
      "---  ------                        --------------   -----  \n",
      " 0    Destination Port             445909 non-null  int64  \n",
      " 1    Flow Duration                445909 non-null  int64  \n",
      " 2    Total Fwd Packets            445909 non-null  int64  \n",
      " 3    Total Backward Packets       445909 non-null  int64  \n",
      " 4   Total Length of Fwd Packets   445909 non-null  int64  \n",
      " 5    Total Length of Bwd Packets  445909 non-null  int64  \n",
      " 6    Fwd Packet Length Max        445909 non-null  int64  \n",
      " 7    Fwd Packet Length Min        445909 non-null  int64  \n",
      " 8    Fwd Packet Length Mean       445909 non-null  float64\n",
      " 9    Fwd Packet Length Std        445909 non-null  float64\n",
      " 10  Bwd Packet Length Max         445909 non-null  int64  \n",
      " 11   Bwd Packet Length Min        445909 non-null  int64  \n",
      " 12   Bwd Packet Length Mean       445909 non-null  float64\n",
      " 13   Bwd Packet Length Std        445909 non-null  float64\n",
      " 14  Flow Bytes/s                  445708 non-null  float64\n",
      " 15   Flow Packets/s               445909 non-null  float64\n",
      " 16   Flow IAT Mean                445909 non-null  float64\n",
      " 17   Flow IAT Std                 445909 non-null  float64\n",
      " 18   Flow IAT Max                 445909 non-null  int64  \n",
      " 19   Flow IAT Min                 445909 non-null  int64  \n",
      " 20  Fwd IAT Total                 445909 non-null  int64  \n",
      " 21   Fwd IAT Mean                 445909 non-null  float64\n",
      " 22   Fwd IAT Std                  445909 non-null  float64\n",
      " 23   Fwd IAT Max                  445909 non-null  int64  \n",
      " 24   Fwd IAT Min                  445909 non-null  int64  \n",
      " 25  Bwd IAT Total                 445909 non-null  int64  \n",
      " 26   Bwd IAT Mean                 445909 non-null  float64\n",
      " 27   Bwd IAT Std                  445909 non-null  float64\n",
      " 28   Bwd IAT Max                  445909 non-null  int64  \n",
      " 29   Bwd IAT Min                  445909 non-null  int64  \n",
      " 30  Fwd PSH Flags                 445909 non-null  int64  \n",
      " 31   Bwd PSH Flags                445909 non-null  int64  \n",
      " 32   Fwd URG Flags                445909 non-null  int64  \n",
      " 33   Bwd URG Flags                445909 non-null  int64  \n",
      " 34   Fwd Header Length            445909 non-null  int64  \n",
      " 35   Bwd Header Length            445909 non-null  int64  \n",
      " 36  Fwd Packets/s                 445909 non-null  float64\n",
      " 37   Bwd Packets/s                445909 non-null  float64\n",
      " 38   Min Packet Length            445909 non-null  int64  \n",
      " 39   Max Packet Length            445909 non-null  int64  \n",
      " 40   Packet Length Mean           445909 non-null  float64\n",
      " 41   Packet Length Std            445909 non-null  float64\n",
      " 42   Packet Length Variance       445909 non-null  float64\n",
      " 43  FIN Flag Count                445909 non-null  int64  \n",
      " 44   SYN Flag Count               445909 non-null  int64  \n",
      " 45   RST Flag Count               445909 non-null  int64  \n",
      " 46   PSH Flag Count               445909 non-null  int64  \n",
      " 47   ACK Flag Count               445909 non-null  int64  \n",
      " 48   URG Flag Count               445909 non-null  int64  \n",
      " 49   CWE Flag Count               445909 non-null  int64  \n",
      " 50   ECE Flag Count               445909 non-null  int64  \n",
      " 51   Down/Up Ratio                445909 non-null  int64  \n",
      " 52   Average Packet Size          445909 non-null  float64\n",
      " 53   Avg Fwd Segment Size         445909 non-null  float64\n",
      " 54   Avg Bwd Segment Size         445909 non-null  float64\n",
      " 55   Fwd Header Length.1          445909 non-null  int64  \n",
      " 56  Fwd Avg Bytes/Bulk            445909 non-null  int64  \n",
      " 57   Fwd Avg Packets/Bulk         445909 non-null  int64  \n",
      " 58   Fwd Avg Bulk Rate            445909 non-null  int64  \n",
      " 59   Bwd Avg Bytes/Bulk           445909 non-null  int64  \n",
      " 60   Bwd Avg Packets/Bulk         445909 non-null  int64  \n",
      " 61  Bwd Avg Bulk Rate             445909 non-null  int64  \n",
      " 62  Subflow Fwd Packets           445909 non-null  int64  \n",
      " 63   Subflow Fwd Bytes            445909 non-null  int64  \n",
      " 64   Subflow Bwd Packets          445909 non-null  int64  \n",
      " 65   Subflow Bwd Bytes            445909 non-null  int64  \n",
      " 66  Init_Win_bytes_forward        445909 non-null  int64  \n",
      " 67   Init_Win_bytes_backward      445909 non-null  int64  \n",
      " 68   act_data_pkt_fwd             445909 non-null  int64  \n",
      " 69   min_seg_size_forward         445909 non-null  int64  \n",
      " 70  Active Mean                   445909 non-null  float64\n",
      " 71   Active Std                   445909 non-null  float64\n",
      " 72   Active Max                   445909 non-null  int64  \n",
      " 73   Active Min                   445909 non-null  int64  \n",
      " 74  Idle Mean                     445909 non-null  float64\n",
      " 75   Idle Std                     445909 non-null  float64\n",
      " 76   Idle Max                     445909 non-null  int64  \n",
      " 77   Idle Min                     445909 non-null  int64  \n",
      " 78   Label                        445909 non-null  object \n",
      "dtypes: float64(24), int64(54), object(1)\n",
      "memory usage: 268.8+ MB\n"
     ]
    }
   ],
   "source": [
    "df_train.info()"
   ]
  },
  {
   "cell_type": "code",
   "execution_count": 6,
   "metadata": {},
   "outputs": [
    {
     "name": "stderr",
     "output_type": "stream",
     "text": [
      "c:\\Users\\Harman\\AppData\\Local\\Programs\\Python\\Python312\\Lib\\site-packages\\pandas\\core\\nanops.py:1016: RuntimeWarning: invalid value encountered in subtract\n",
      "  sqr = _ensure_numeric((avg - values) ** 2)\n",
      "c:\\Users\\Harman\\AppData\\Local\\Programs\\Python\\Python312\\Lib\\site-packages\\pandas\\core\\nanops.py:1016: RuntimeWarning: invalid value encountered in subtract\n",
      "  sqr = _ensure_numeric((avg - values) ** 2)\n"
     ]
    },
    {
     "data": {
      "application/vnd.microsoft.datawrangler.viewer.v0+json": {
       "columns": [
        {
         "name": "index",
         "rawType": "object",
         "type": "string"
        },
        {
         "name": " Destination Port",
         "rawType": "float64",
         "type": "float"
        },
        {
         "name": " Flow Duration",
         "rawType": "float64",
         "type": "float"
        },
        {
         "name": " Total Fwd Packets",
         "rawType": "float64",
         "type": "float"
        },
        {
         "name": " Total Backward Packets",
         "rawType": "float64",
         "type": "float"
        },
        {
         "name": "Total Length of Fwd Packets",
         "rawType": "float64",
         "type": "float"
        },
        {
         "name": " Total Length of Bwd Packets",
         "rawType": "float64",
         "type": "float"
        },
        {
         "name": " Fwd Packet Length Max",
         "rawType": "float64",
         "type": "float"
        },
        {
         "name": " Fwd Packet Length Min",
         "rawType": "float64",
         "type": "float"
        },
        {
         "name": " Fwd Packet Length Mean",
         "rawType": "float64",
         "type": "float"
        },
        {
         "name": " Fwd Packet Length Std",
         "rawType": "float64",
         "type": "float"
        },
        {
         "name": "Bwd Packet Length Max",
         "rawType": "float64",
         "type": "float"
        },
        {
         "name": " Bwd Packet Length Min",
         "rawType": "float64",
         "type": "float"
        },
        {
         "name": " Bwd Packet Length Mean",
         "rawType": "float64",
         "type": "float"
        },
        {
         "name": " Bwd Packet Length Std",
         "rawType": "float64",
         "type": "float"
        },
        {
         "name": "Flow Bytes/s",
         "rawType": "float64",
         "type": "float"
        },
        {
         "name": " Flow Packets/s",
         "rawType": "float64",
         "type": "float"
        },
        {
         "name": " Flow IAT Mean",
         "rawType": "float64",
         "type": "float"
        },
        {
         "name": " Flow IAT Std",
         "rawType": "float64",
         "type": "float"
        },
        {
         "name": " Flow IAT Max",
         "rawType": "float64",
         "type": "float"
        },
        {
         "name": " Flow IAT Min",
         "rawType": "float64",
         "type": "float"
        },
        {
         "name": "Fwd IAT Total",
         "rawType": "float64",
         "type": "float"
        },
        {
         "name": " Fwd IAT Mean",
         "rawType": "float64",
         "type": "float"
        },
        {
         "name": " Fwd IAT Std",
         "rawType": "float64",
         "type": "float"
        },
        {
         "name": " Fwd IAT Max",
         "rawType": "float64",
         "type": "float"
        },
        {
         "name": " Fwd IAT Min",
         "rawType": "float64",
         "type": "float"
        },
        {
         "name": "Bwd IAT Total",
         "rawType": "float64",
         "type": "float"
        },
        {
         "name": " Bwd IAT Mean",
         "rawType": "float64",
         "type": "float"
        },
        {
         "name": " Bwd IAT Std",
         "rawType": "float64",
         "type": "float"
        },
        {
         "name": " Bwd IAT Max",
         "rawType": "float64",
         "type": "float"
        },
        {
         "name": " Bwd IAT Min",
         "rawType": "float64",
         "type": "float"
        },
        {
         "name": "Fwd PSH Flags",
         "rawType": "float64",
         "type": "float"
        },
        {
         "name": " Bwd PSH Flags",
         "rawType": "float64",
         "type": "float"
        },
        {
         "name": " Fwd URG Flags",
         "rawType": "float64",
         "type": "float"
        },
        {
         "name": " Bwd URG Flags",
         "rawType": "float64",
         "type": "float"
        },
        {
         "name": " Fwd Header Length",
         "rawType": "float64",
         "type": "float"
        },
        {
         "name": " Bwd Header Length",
         "rawType": "float64",
         "type": "float"
        },
        {
         "name": "Fwd Packets/s",
         "rawType": "float64",
         "type": "float"
        },
        {
         "name": " Bwd Packets/s",
         "rawType": "float64",
         "type": "float"
        },
        {
         "name": " Min Packet Length",
         "rawType": "float64",
         "type": "float"
        },
        {
         "name": " Max Packet Length",
         "rawType": "float64",
         "type": "float"
        },
        {
         "name": " Packet Length Mean",
         "rawType": "float64",
         "type": "float"
        },
        {
         "name": " Packet Length Std",
         "rawType": "float64",
         "type": "float"
        },
        {
         "name": " Packet Length Variance",
         "rawType": "float64",
         "type": "float"
        },
        {
         "name": "FIN Flag Count",
         "rawType": "float64",
         "type": "float"
        },
        {
         "name": " SYN Flag Count",
         "rawType": "float64",
         "type": "float"
        },
        {
         "name": " RST Flag Count",
         "rawType": "float64",
         "type": "float"
        },
        {
         "name": " PSH Flag Count",
         "rawType": "float64",
         "type": "float"
        },
        {
         "name": " ACK Flag Count",
         "rawType": "float64",
         "type": "float"
        },
        {
         "name": " URG Flag Count",
         "rawType": "float64",
         "type": "float"
        },
        {
         "name": " CWE Flag Count",
         "rawType": "float64",
         "type": "float"
        },
        {
         "name": " ECE Flag Count",
         "rawType": "float64",
         "type": "float"
        },
        {
         "name": " Down/Up Ratio",
         "rawType": "float64",
         "type": "float"
        },
        {
         "name": " Average Packet Size",
         "rawType": "float64",
         "type": "float"
        },
        {
         "name": " Avg Fwd Segment Size",
         "rawType": "float64",
         "type": "float"
        },
        {
         "name": " Avg Bwd Segment Size",
         "rawType": "float64",
         "type": "float"
        },
        {
         "name": " Fwd Header Length.1",
         "rawType": "float64",
         "type": "float"
        },
        {
         "name": "Fwd Avg Bytes/Bulk",
         "rawType": "float64",
         "type": "float"
        },
        {
         "name": " Fwd Avg Packets/Bulk",
         "rawType": "float64",
         "type": "float"
        },
        {
         "name": " Fwd Avg Bulk Rate",
         "rawType": "float64",
         "type": "float"
        },
        {
         "name": " Bwd Avg Bytes/Bulk",
         "rawType": "float64",
         "type": "float"
        },
        {
         "name": " Bwd Avg Packets/Bulk",
         "rawType": "float64",
         "type": "float"
        },
        {
         "name": "Bwd Avg Bulk Rate",
         "rawType": "float64",
         "type": "float"
        },
        {
         "name": "Subflow Fwd Packets",
         "rawType": "float64",
         "type": "float"
        },
        {
         "name": " Subflow Fwd Bytes",
         "rawType": "float64",
         "type": "float"
        },
        {
         "name": " Subflow Bwd Packets",
         "rawType": "float64",
         "type": "float"
        },
        {
         "name": " Subflow Bwd Bytes",
         "rawType": "float64",
         "type": "float"
        },
        {
         "name": "Init_Win_bytes_forward",
         "rawType": "float64",
         "type": "float"
        },
        {
         "name": " Init_Win_bytes_backward",
         "rawType": "float64",
         "type": "float"
        },
        {
         "name": " act_data_pkt_fwd",
         "rawType": "float64",
         "type": "float"
        },
        {
         "name": " min_seg_size_forward",
         "rawType": "float64",
         "type": "float"
        },
        {
         "name": "Active Mean",
         "rawType": "float64",
         "type": "float"
        },
        {
         "name": " Active Std",
         "rawType": "float64",
         "type": "float"
        },
        {
         "name": " Active Max",
         "rawType": "float64",
         "type": "float"
        },
        {
         "name": " Active Min",
         "rawType": "float64",
         "type": "float"
        },
        {
         "name": "Idle Mean",
         "rawType": "float64",
         "type": "float"
        },
        {
         "name": " Idle Std",
         "rawType": "float64",
         "type": "float"
        },
        {
         "name": " Idle Max",
         "rawType": "float64",
         "type": "float"
        },
        {
         "name": " Idle Min",
         "rawType": "float64",
         "type": "float"
        }
       ],
       "conversionMethod": "pd.DataFrame",
       "ref": "90a7d750-e90e-4efd-ab5e-0acbb0df4056",
       "rows": [
        [
         "count",
         "445909.0",
         "445909.0",
         "445909.0",
         "445909.0",
         "445909.0",
         "445909.0",
         "445909.0",
         "445909.0",
         "445909.0",
         "445909.0",
         "445909.0",
         "445909.0",
         "445909.0",
         "445909.0",
         "445708.0",
         "445909.0",
         "445909.0",
         "445909.0",
         "445909.0",
         "445909.0",
         "445909.0",
         "445909.0",
         "445909.0",
         "445909.0",
         "445909.0",
         "445909.0",
         "445909.0",
         "445909.0",
         "445909.0",
         "445909.0",
         "445909.0",
         "445909.0",
         "445909.0",
         "445909.0",
         "445909.0",
         "445909.0",
         "445909.0",
         "445909.0",
         "445909.0",
         "445909.0",
         "445909.0",
         "445909.0",
         "445909.0",
         "445909.0",
         "445909.0",
         "445909.0",
         "445909.0",
         "445909.0",
         "445909.0",
         "445909.0",
         "445909.0",
         "445909.0",
         "445909.0",
         "445909.0",
         "445909.0",
         "445909.0",
         "445909.0",
         "445909.0",
         "445909.0",
         "445909.0",
         "445909.0",
         "445909.0",
         "445909.0",
         "445909.0",
         "445909.0",
         "445909.0",
         "445909.0",
         "445909.0",
         "445909.0",
         "445909.0",
         "445909.0",
         "445909.0",
         "445909.0",
         "445909.0",
         "445909.0",
         "445909.0",
         "445909.0",
         "445909.0"
        ],
        [
         "mean",
         "8878.375744826859",
         "10779438.83366337",
         "11.800472742196277",
         "13.907212009625283",
         "530.2105429583166",
         "21863.237227775175",
         "173.3466693877002",
         "20.579979323135436",
         "48.52848938678993",
         "49.89709387663535",
         "426.18577781565295",
         "50.359952366962766",
         "170.37122474927477",
         "126.94565175274762",
         "inf",
         "inf",
         "896919.3000194863",
         "1457431.938629156",
         "3983417.23936274",
         "161752.683731434",
         "10497715.113691358",
         "1894540.2124227628",
         "1038472.1182659329",
         "3880804.6965412227",
         "1218153.1147543557",
         "9818604.49442375",
         "1792828.994367195",
         "808141.6650331278",
         "3348625.659594222",
         "1202342.0282546438",
         "0.060723152033262395",
         "0.0",
         "0.0",
         "0.0",
         "-150215.32086143136",
         "-11713.996837919845",
         "53451.02784197333",
         "5825.595514454947",
         "19.930761657647636",
         "465.21448322415563",
         "107.62004603475258",
         "135.25851315202286",
         "82909.60898878232",
         "0.018380431881841363",
         "0.060723152033262395",
         "0.00033639150589021526",
         "0.24259658360786618",
         "0.2916873173674449",
         "0.11509074721523899",
         "0.0",
         "0.0003386341159294834",
         "0.6874496814372439",
         "121.24315641763735",
         "48.52848938678993",
         "170.37122474929046",
         "-150215.32086143136",
         "0.0",
         "0.0",
         "0.0",
         "0.0",
         "0.0",
         "0.0",
         "11.800472742196277",
         "530.2105429583166",
         "13.907212009625283",
         "21861.626962003458",
         "7408.452460031082",
         "2792.060604293701",
         "2.088340894666849",
         "-13217.85551760561",
         "72659.63785834947",
         "46705.17278995458",
         "164209.17131073828",
         "48284.263515650055",
         "3294459.034395947",
         "149710.49136945143",
         "3407024.8028633646",
         "3145406.7442392954"
        ],
        [
         "std",
         "19522.889727688027",
         "29556285.854017895",
         "867.0724284994528",
         "1172.1615474278",
         "5676.904047554076",
         "2625767.9851113926",
         "472.4507916456269",
         "38.9383499405181",
         "113.19502143900242",
         "146.7363246353101",
         "881.6760229166745",
         "73.69491321084749",
         "311.3567003176434",
         "284.23464731506914",
         null,
         null,
         "4250992.490268692",
         "5771200.374121038",
         "13421585.382463386",
         "2852816.5506286593",
         "29423143.269793604",
         "9512342.460552357",
         "3817297.965437971",
         "13400052.932232577",
         "9269572.488027345",
         "28615561.387103606",
         "9459806.229252359",
         "3505230.678645394",
         "12732274.564113533",
         "9205516.412275627",
         "0.23882206503978273",
         "0.0",
         "0.0",
         "0.0",
         "52897972.85821852",
         "3595579.8729414744",
         "224012.67697099436",
         "35444.40337797768",
         "26.280680911076498",
         "946.3835256986691",
         "190.49739703199424",
         "254.19471406717855",
         "259493.34118382714",
         "0.13432286502403884",
         "0.23882206503978273",
         "0.018337914297647577",
         "0.4286535819231628",
         "0.45453964578655587",
         "0.31913178393809455",
         "0.0",
         "0.01839891850174394",
         "0.5344404313458753",
         "196.52708638853346",
         "113.19502143900242",
         "311.3567003177127",
         "52897972.85821852",
         "0.0",
         "0.0",
         "0.0",
         "0.0",
         "0.0",
         "0.0",
         "867.0724284994528",
         "5676.904047554076",
         "1172.1615474278",
         "2625473.3145294087",
         "15609.495613803085",
         "9744.606180983676",
         "6.325197461031939",
         "2666478.2487531905",
         "620562.4969992115",
         "360150.42810906423",
         "1049887.3735664056",
         "564948.9440006021",
         "12587763.952874018",
         "1982345.556547889",
         "12932486.69085467",
         "12408923.348051963"
        ],
        [
         "min",
         "0.0",
         "-4.0",
         "1.0",
         "0.0",
         "0.0",
         "0.0",
         "0.0",
         "0.0",
         "0.0",
         "0.0",
         "0.0",
         "0.0",
         "0.0",
         "0.0",
         "0.0",
         "-2000000.0",
         "-4.0",
         "0.0",
         "-4.0",
         "-13.0",
         "0.0",
         "0.0",
         "0.0",
         "0.0",
         "0.0",
         "0.0",
         "0.0",
         "0.0",
         "0.0",
         "0.0",
         "0.0",
         "0.0",
         "0.0",
         "0.0",
         "-32212234632.0",
         "-1073741320.0",
         "0.0",
         "0.0",
         "0.0",
         "0.0",
         "0.0",
         "0.0",
         "0.0",
         "0.0",
         "0.0",
         "0.0",
         "0.0",
         "0.0",
         "0.0",
         "0.0",
         "0.0",
         "0.0",
         "0.0",
         "0.0",
         "0.0",
         "-32212234632.0",
         "0.0",
         "0.0",
         "0.0",
         "0.0",
         "0.0",
         "0.0",
         "1.0",
         "0.0",
         "0.0",
         "0.0",
         "-1.0",
         "-1.0",
         "0.0",
         "-536870661.0",
         "0.0",
         "0.0",
         "0.0",
         "0.0",
         "0.0",
         "0.0",
         "0.0",
         "0.0"
        ],
        [
         "25%",
         "53.0",
         "186.0",
         "2.0",
         "1.0",
         "4.0",
         "0.0",
         "1.0",
         "0.0",
         "0.857142857",
         "0.0",
         "0.0",
         "0.0",
         "0.0",
         "0.0",
         "1.1552858465",
         "13.69028469",
         "73.33333333",
         "0.0",
         "156.0",
         "3.0",
         "0.0",
         "0.0",
         "0.0",
         "0.0",
         "0.0",
         "0.0",
         "0.0",
         "0.0",
         "0.0",
         "0.0",
         "0.0",
         "0.0",
         "0.0",
         "0.0",
         "40.0",
         "20.0",
         "6.978196625",
         "0.283336238",
         "0.0",
         "14.0",
         "4.666666667",
         "0.0",
         "0.0",
         "0.0",
         "0.0",
         "0.0",
         "0.0",
         "0.0",
         "0.0",
         "0.0",
         "0.0",
         "0.0",
         "5.75",
         "0.857142857",
         "0.0",
         "40.0",
         "0.0",
         "0.0",
         "0.0",
         "0.0",
         "0.0",
         "0.0",
         "2.0",
         "4.0",
         "1.0",
         "0.0",
         "-1.0",
         "-1.0",
         "0.0",
         "20.0",
         "0.0",
         "0.0",
         "0.0",
         "0.0",
         "0.0",
         "0.0",
         "0.0",
         "0.0"
        ],
        [
         "50%",
         "80.0",
         "31288.0",
         "2.0",
         "2.0",
         "68.0",
         "136.0",
         "41.0",
         "0.0",
         "37.0",
         "0.0",
         "86.0",
         "0.0",
         "79.0",
         "0.0",
         "2478.0171259999997",
         "120.6163495",
         "10784.33333",
         "116.423079",
         "30876.0",
         "4.0",
         "4.0",
         "4.0",
         "0.0",
         "4.0",
         "3.0",
         "3.0",
         "3.0",
         "0.0",
         "3.0",
         "2.0",
         "0.0",
         "0.0",
         "0.0",
         "0.0",
         "64.0",
         "40.0",
         "63.11338319",
         "28.10923248",
         "0.0",
         "90.0",
         "58.6",
         "26.83840532",
         "720.3",
         "0.0",
         "0.0",
         "0.0",
         "0.0",
         "0.0",
         "0.0",
         "0.0",
         "0.0",
         "1.0",
         "74.0",
         "37.0",
         "79.0",
         "64.0",
         "0.0",
         "0.0",
         "0.0",
         "0.0",
         "0.0",
         "0.0",
         "2.0",
         "68.0",
         "2.0",
         "136.0",
         "114.0",
         "-1.0",
         "1.0",
         "20.0",
         "0.0",
         "0.0",
         "0.0",
         "0.0",
         "0.0",
         "0.0",
         "0.0",
         "0.0"
        ],
        [
         "75%",
         "443.0",
         "466820.0",
         "4.0",
         "2.0",
         "150.0",
         "336.0",
         "62.0",
         "41.0",
         "50.0",
         "21.92031022",
         "179.0",
         "96.0",
         "149.0",
         "0.0",
         "28307.37905",
         "19900.49751",
         "115028.6667",
         "79144.02304",
         "287578.0",
         "96.0",
         "288382.0",
         "45619.79412",
         "21971.22191",
         "139725.0",
         "49.0",
         "54824.0",
         "5793.0",
         "0.0",
         "33549.0",
         "4.0",
         "0.0",
         "0.0",
         "0.0",
         "0.0",
         "104.0",
         "80.0",
         "10309.27835",
         "5813.953488",
         "41.0",
         "204.0",
         "91.4",
         "81.61066107",
         "6660.3",
         "0.0",
         "0.0",
         "0.0",
         "0.0",
         "1.0",
         "0.0",
         "0.0",
         "0.0",
         "1.0",
         "119.862069",
         "50.0",
         "149.0",
         "104.0",
         "0.0",
         "0.0",
         "0.0",
         "0.0",
         "0.0",
         "0.0",
         "4.0",
         "150.0",
         "2.0",
         "336.0",
         "8192.0",
         "247.0",
         "2.0",
         "32.0",
         "0.0",
         "0.0",
         "0.0",
         "0.0",
         "0.0",
         "0.0",
         "0.0",
         "0.0"
        ],
        [
         "max",
         "65505.0",
         "119999977.0",
         "206446.0",
         "276072.0",
         "2428415.0",
         "627000000.0",
         "24820.0",
         "2065.0",
         "4672.0",
         "5398.072094",
         "13140.0",
         "2896.0",
         "3735.736842",
         "4113.240146",
         "inf",
         "inf",
         "120000000.0",
         "84800000.0",
         "120000000.0",
         "120000000.0",
         "120000000.0",
         "120000000.0",
         "84400000.0",
         "120000000.0",
         "120000000.0",
         "120000000.0",
         "120000000.0",
         "82600000.0",
         "120000000.0",
         "120000000.0",
         "1.0",
         "0.0",
         "0.0",
         "0.0",
         "4225596.0",
         "5521440.0",
         "3000000.0",
         "2000000.0",
         "1408.0",
         "24820.0",
         "3337.142857",
         "3811.855065",
         "14500000.0",
         "1.0",
         "1.0",
         "1.0",
         "1.0",
         "1.0",
         "1.0",
         "0.0",
         "1.0",
         "35.0",
         "3893.333333",
         "4672.0",
         "3735.736842",
         "4225596.0",
         "0.0",
         "0.0",
         "0.0",
         "0.0",
         "0.0",
         "0.0",
         "206446.0",
         "2428415.0",
         "276072.0",
         "627039032.0",
         "65535.0",
         "65535.0",
         "1846.0",
         "138.0",
         "107000000.0",
         "24100000.0",
         "107000000.0",
         "107000000.0",
         "120000000.0",
         "75900000.0",
         "120000000.0",
         "120000000.0"
        ]
       ],
       "shape": {
        "columns": 78,
        "rows": 8
       }
      },
      "text/html": [
       "<div>\n",
       "<style scoped>\n",
       "    .dataframe tbody tr th:only-of-type {\n",
       "        vertical-align: middle;\n",
       "    }\n",
       "\n",
       "    .dataframe tbody tr th {\n",
       "        vertical-align: top;\n",
       "    }\n",
       "\n",
       "    .dataframe thead th {\n",
       "        text-align: right;\n",
       "    }\n",
       "</style>\n",
       "<table border=\"1\" class=\"dataframe\">\n",
       "  <thead>\n",
       "    <tr style=\"text-align: right;\">\n",
       "      <th></th>\n",
       "      <th>Destination Port</th>\n",
       "      <th>Flow Duration</th>\n",
       "      <th>Total Fwd Packets</th>\n",
       "      <th>Total Backward Packets</th>\n",
       "      <th>Total Length of Fwd Packets</th>\n",
       "      <th>Total Length of Bwd Packets</th>\n",
       "      <th>Fwd Packet Length Max</th>\n",
       "      <th>Fwd Packet Length Min</th>\n",
       "      <th>Fwd Packet Length Mean</th>\n",
       "      <th>Fwd Packet Length Std</th>\n",
       "      <th>...</th>\n",
       "      <th>act_data_pkt_fwd</th>\n",
       "      <th>min_seg_size_forward</th>\n",
       "      <th>Active Mean</th>\n",
       "      <th>Active Std</th>\n",
       "      <th>Active Max</th>\n",
       "      <th>Active Min</th>\n",
       "      <th>Idle Mean</th>\n",
       "      <th>Idle Std</th>\n",
       "      <th>Idle Max</th>\n",
       "      <th>Idle Min</th>\n",
       "    </tr>\n",
       "  </thead>\n",
       "  <tbody>\n",
       "    <tr>\n",
       "      <th>count</th>\n",
       "      <td>445909.000000</td>\n",
       "      <td>4.459090e+05</td>\n",
       "      <td>445909.000000</td>\n",
       "      <td>445909.000000</td>\n",
       "      <td>4.459090e+05</td>\n",
       "      <td>4.459090e+05</td>\n",
       "      <td>445909.000000</td>\n",
       "      <td>445909.000000</td>\n",
       "      <td>445909.000000</td>\n",
       "      <td>445909.000000</td>\n",
       "      <td>...</td>\n",
       "      <td>445909.000000</td>\n",
       "      <td>4.459090e+05</td>\n",
       "      <td>4.459090e+05</td>\n",
       "      <td>4.459090e+05</td>\n",
       "      <td>4.459090e+05</td>\n",
       "      <td>4.459090e+05</td>\n",
       "      <td>4.459090e+05</td>\n",
       "      <td>4.459090e+05</td>\n",
       "      <td>4.459090e+05</td>\n",
       "      <td>4.459090e+05</td>\n",
       "    </tr>\n",
       "    <tr>\n",
       "      <th>mean</th>\n",
       "      <td>8878.375745</td>\n",
       "      <td>1.077944e+07</td>\n",
       "      <td>11.800473</td>\n",
       "      <td>13.907212</td>\n",
       "      <td>5.302105e+02</td>\n",
       "      <td>2.186324e+04</td>\n",
       "      <td>173.346669</td>\n",
       "      <td>20.579979</td>\n",
       "      <td>48.528489</td>\n",
       "      <td>49.897094</td>\n",
       "      <td>...</td>\n",
       "      <td>2.088341</td>\n",
       "      <td>-1.321786e+04</td>\n",
       "      <td>7.265964e+04</td>\n",
       "      <td>4.670517e+04</td>\n",
       "      <td>1.642092e+05</td>\n",
       "      <td>4.828426e+04</td>\n",
       "      <td>3.294459e+06</td>\n",
       "      <td>1.497105e+05</td>\n",
       "      <td>3.407025e+06</td>\n",
       "      <td>3.145407e+06</td>\n",
       "    </tr>\n",
       "    <tr>\n",
       "      <th>std</th>\n",
       "      <td>19522.889728</td>\n",
       "      <td>2.955629e+07</td>\n",
       "      <td>867.072428</td>\n",
       "      <td>1172.161547</td>\n",
       "      <td>5.676904e+03</td>\n",
       "      <td>2.625768e+06</td>\n",
       "      <td>472.450792</td>\n",
       "      <td>38.938350</td>\n",
       "      <td>113.195021</td>\n",
       "      <td>146.736325</td>\n",
       "      <td>...</td>\n",
       "      <td>6.325197</td>\n",
       "      <td>2.666478e+06</td>\n",
       "      <td>6.205625e+05</td>\n",
       "      <td>3.601504e+05</td>\n",
       "      <td>1.049887e+06</td>\n",
       "      <td>5.649489e+05</td>\n",
       "      <td>1.258776e+07</td>\n",
       "      <td>1.982346e+06</td>\n",
       "      <td>1.293249e+07</td>\n",
       "      <td>1.240892e+07</td>\n",
       "    </tr>\n",
       "    <tr>\n",
       "      <th>min</th>\n",
       "      <td>0.000000</td>\n",
       "      <td>-4.000000e+00</td>\n",
       "      <td>1.000000</td>\n",
       "      <td>0.000000</td>\n",
       "      <td>0.000000e+00</td>\n",
       "      <td>0.000000e+00</td>\n",
       "      <td>0.000000</td>\n",
       "      <td>0.000000</td>\n",
       "      <td>0.000000</td>\n",
       "      <td>0.000000</td>\n",
       "      <td>...</td>\n",
       "      <td>0.000000</td>\n",
       "      <td>-5.368707e+08</td>\n",
       "      <td>0.000000e+00</td>\n",
       "      <td>0.000000e+00</td>\n",
       "      <td>0.000000e+00</td>\n",
       "      <td>0.000000e+00</td>\n",
       "      <td>0.000000e+00</td>\n",
       "      <td>0.000000e+00</td>\n",
       "      <td>0.000000e+00</td>\n",
       "      <td>0.000000e+00</td>\n",
       "    </tr>\n",
       "    <tr>\n",
       "      <th>25%</th>\n",
       "      <td>53.000000</td>\n",
       "      <td>1.860000e+02</td>\n",
       "      <td>2.000000</td>\n",
       "      <td>1.000000</td>\n",
       "      <td>4.000000e+00</td>\n",
       "      <td>0.000000e+00</td>\n",
       "      <td>1.000000</td>\n",
       "      <td>0.000000</td>\n",
       "      <td>0.857143</td>\n",
       "      <td>0.000000</td>\n",
       "      <td>...</td>\n",
       "      <td>0.000000</td>\n",
       "      <td>2.000000e+01</td>\n",
       "      <td>0.000000e+00</td>\n",
       "      <td>0.000000e+00</td>\n",
       "      <td>0.000000e+00</td>\n",
       "      <td>0.000000e+00</td>\n",
       "      <td>0.000000e+00</td>\n",
       "      <td>0.000000e+00</td>\n",
       "      <td>0.000000e+00</td>\n",
       "      <td>0.000000e+00</td>\n",
       "    </tr>\n",
       "    <tr>\n",
       "      <th>50%</th>\n",
       "      <td>80.000000</td>\n",
       "      <td>3.128800e+04</td>\n",
       "      <td>2.000000</td>\n",
       "      <td>2.000000</td>\n",
       "      <td>6.800000e+01</td>\n",
       "      <td>1.360000e+02</td>\n",
       "      <td>41.000000</td>\n",
       "      <td>0.000000</td>\n",
       "      <td>37.000000</td>\n",
       "      <td>0.000000</td>\n",
       "      <td>...</td>\n",
       "      <td>1.000000</td>\n",
       "      <td>2.000000e+01</td>\n",
       "      <td>0.000000e+00</td>\n",
       "      <td>0.000000e+00</td>\n",
       "      <td>0.000000e+00</td>\n",
       "      <td>0.000000e+00</td>\n",
       "      <td>0.000000e+00</td>\n",
       "      <td>0.000000e+00</td>\n",
       "      <td>0.000000e+00</td>\n",
       "      <td>0.000000e+00</td>\n",
       "    </tr>\n",
       "    <tr>\n",
       "      <th>75%</th>\n",
       "      <td>443.000000</td>\n",
       "      <td>4.668200e+05</td>\n",
       "      <td>4.000000</td>\n",
       "      <td>2.000000</td>\n",
       "      <td>1.500000e+02</td>\n",
       "      <td>3.360000e+02</td>\n",
       "      <td>62.000000</td>\n",
       "      <td>41.000000</td>\n",
       "      <td>50.000000</td>\n",
       "      <td>21.920310</td>\n",
       "      <td>...</td>\n",
       "      <td>2.000000</td>\n",
       "      <td>3.200000e+01</td>\n",
       "      <td>0.000000e+00</td>\n",
       "      <td>0.000000e+00</td>\n",
       "      <td>0.000000e+00</td>\n",
       "      <td>0.000000e+00</td>\n",
       "      <td>0.000000e+00</td>\n",
       "      <td>0.000000e+00</td>\n",
       "      <td>0.000000e+00</td>\n",
       "      <td>0.000000e+00</td>\n",
       "    </tr>\n",
       "    <tr>\n",
       "      <th>max</th>\n",
       "      <td>65505.000000</td>\n",
       "      <td>1.200000e+08</td>\n",
       "      <td>206446.000000</td>\n",
       "      <td>276072.000000</td>\n",
       "      <td>2.428415e+06</td>\n",
       "      <td>6.270000e+08</td>\n",
       "      <td>24820.000000</td>\n",
       "      <td>2065.000000</td>\n",
       "      <td>4672.000000</td>\n",
       "      <td>5398.072094</td>\n",
       "      <td>...</td>\n",
       "      <td>1846.000000</td>\n",
       "      <td>1.380000e+02</td>\n",
       "      <td>1.070000e+08</td>\n",
       "      <td>2.410000e+07</td>\n",
       "      <td>1.070000e+08</td>\n",
       "      <td>1.070000e+08</td>\n",
       "      <td>1.200000e+08</td>\n",
       "      <td>7.590000e+07</td>\n",
       "      <td>1.200000e+08</td>\n",
       "      <td>1.200000e+08</td>\n",
       "    </tr>\n",
       "  </tbody>\n",
       "</table>\n",
       "<p>8 rows × 78 columns</p>\n",
       "</div>"
      ],
      "text/plain": [
       "        Destination Port   Flow Duration   Total Fwd Packets  \\\n",
       "count      445909.000000    4.459090e+05       445909.000000   \n",
       "mean         8878.375745    1.077944e+07           11.800473   \n",
       "std         19522.889728    2.955629e+07          867.072428   \n",
       "min             0.000000   -4.000000e+00            1.000000   \n",
       "25%            53.000000    1.860000e+02            2.000000   \n",
       "50%            80.000000    3.128800e+04            2.000000   \n",
       "75%           443.000000    4.668200e+05            4.000000   \n",
       "max         65505.000000    1.200000e+08       206446.000000   \n",
       "\n",
       "        Total Backward Packets  Total Length of Fwd Packets  \\\n",
       "count            445909.000000                 4.459090e+05   \n",
       "mean                 13.907212                 5.302105e+02   \n",
       "std                1172.161547                 5.676904e+03   \n",
       "min                   0.000000                 0.000000e+00   \n",
       "25%                   1.000000                 4.000000e+00   \n",
       "50%                   2.000000                 6.800000e+01   \n",
       "75%                   2.000000                 1.500000e+02   \n",
       "max              276072.000000                 2.428415e+06   \n",
       "\n",
       "        Total Length of Bwd Packets   Fwd Packet Length Max  \\\n",
       "count                  4.459090e+05           445909.000000   \n",
       "mean                   2.186324e+04              173.346669   \n",
       "std                    2.625768e+06              472.450792   \n",
       "min                    0.000000e+00                0.000000   \n",
       "25%                    0.000000e+00                1.000000   \n",
       "50%                    1.360000e+02               41.000000   \n",
       "75%                    3.360000e+02               62.000000   \n",
       "max                    6.270000e+08            24820.000000   \n",
       "\n",
       "        Fwd Packet Length Min   Fwd Packet Length Mean  \\\n",
       "count           445909.000000            445909.000000   \n",
       "mean                20.579979                48.528489   \n",
       "std                 38.938350               113.195021   \n",
       "min                  0.000000                 0.000000   \n",
       "25%                  0.000000                 0.857143   \n",
       "50%                  0.000000                37.000000   \n",
       "75%                 41.000000                50.000000   \n",
       "max               2065.000000              4672.000000   \n",
       "\n",
       "        Fwd Packet Length Std  ...   act_data_pkt_fwd   min_seg_size_forward  \\\n",
       "count           445909.000000  ...      445909.000000           4.459090e+05   \n",
       "mean                49.897094  ...           2.088341          -1.321786e+04   \n",
       "std                146.736325  ...           6.325197           2.666478e+06   \n",
       "min                  0.000000  ...           0.000000          -5.368707e+08   \n",
       "25%                  0.000000  ...           0.000000           2.000000e+01   \n",
       "50%                  0.000000  ...           1.000000           2.000000e+01   \n",
       "75%                 21.920310  ...           2.000000           3.200000e+01   \n",
       "max               5398.072094  ...        1846.000000           1.380000e+02   \n",
       "\n",
       "        Active Mean    Active Std    Active Max    Active Min     Idle Mean  \\\n",
       "count  4.459090e+05  4.459090e+05  4.459090e+05  4.459090e+05  4.459090e+05   \n",
       "mean   7.265964e+04  4.670517e+04  1.642092e+05  4.828426e+04  3.294459e+06   \n",
       "std    6.205625e+05  3.601504e+05  1.049887e+06  5.649489e+05  1.258776e+07   \n",
       "min    0.000000e+00  0.000000e+00  0.000000e+00  0.000000e+00  0.000000e+00   \n",
       "25%    0.000000e+00  0.000000e+00  0.000000e+00  0.000000e+00  0.000000e+00   \n",
       "50%    0.000000e+00  0.000000e+00  0.000000e+00  0.000000e+00  0.000000e+00   \n",
       "75%    0.000000e+00  0.000000e+00  0.000000e+00  0.000000e+00  0.000000e+00   \n",
       "max    1.070000e+08  2.410000e+07  1.070000e+08  1.070000e+08  1.200000e+08   \n",
       "\n",
       "           Idle Std      Idle Max      Idle Min  \n",
       "count  4.459090e+05  4.459090e+05  4.459090e+05  \n",
       "mean   1.497105e+05  3.407025e+06  3.145407e+06  \n",
       "std    1.982346e+06  1.293249e+07  1.240892e+07  \n",
       "min    0.000000e+00  0.000000e+00  0.000000e+00  \n",
       "25%    0.000000e+00  0.000000e+00  0.000000e+00  \n",
       "50%    0.000000e+00  0.000000e+00  0.000000e+00  \n",
       "75%    0.000000e+00  0.000000e+00  0.000000e+00  \n",
       "max    7.590000e+07  1.200000e+08  1.200000e+08  \n",
       "\n",
       "[8 rows x 78 columns]"
      ]
     },
     "execution_count": 6,
     "metadata": {},
     "output_type": "execute_result"
    }
   ],
   "source": [
    "df_train.describe()"
   ]
  },
  {
   "cell_type": "code",
   "execution_count": 7,
   "metadata": {},
   "outputs": [
    {
     "data": {
      "text/plain": [
       "Index([' Destination Port', ' Flow Duration', ' Total Fwd Packets',\n",
       "       ' Total Backward Packets', 'Total Length of Fwd Packets',\n",
       "       ' Total Length of Bwd Packets', ' Fwd Packet Length Max',\n",
       "       ' Fwd Packet Length Min', ' Fwd Packet Length Mean',\n",
       "       ' Fwd Packet Length Std', 'Bwd Packet Length Max',\n",
       "       ' Bwd Packet Length Min', ' Bwd Packet Length Mean',\n",
       "       ' Bwd Packet Length Std', 'Flow Bytes/s', ' Flow Packets/s',\n",
       "       ' Flow IAT Mean', ' Flow IAT Std', ' Flow IAT Max', ' Flow IAT Min',\n",
       "       'Fwd IAT Total', ' Fwd IAT Mean', ' Fwd IAT Std', ' Fwd IAT Max',\n",
       "       ' Fwd IAT Min', 'Bwd IAT Total', ' Bwd IAT Mean', ' Bwd IAT Std',\n",
       "       ' Bwd IAT Max', ' Bwd IAT Min', 'Fwd PSH Flags', ' Bwd PSH Flags',\n",
       "       ' Fwd URG Flags', ' Bwd URG Flags', ' Fwd Header Length',\n",
       "       ' Bwd Header Length', 'Fwd Packets/s', ' Bwd Packets/s',\n",
       "       ' Min Packet Length', ' Max Packet Length', ' Packet Length Mean',\n",
       "       ' Packet Length Std', ' Packet Length Variance', 'FIN Flag Count',\n",
       "       ' SYN Flag Count', ' RST Flag Count', ' PSH Flag Count',\n",
       "       ' ACK Flag Count', ' URG Flag Count', ' CWE Flag Count',\n",
       "       ' ECE Flag Count', ' Down/Up Ratio', ' Average Packet Size',\n",
       "       ' Avg Fwd Segment Size', ' Avg Bwd Segment Size',\n",
       "       ' Fwd Header Length.1', 'Fwd Avg Bytes/Bulk', ' Fwd Avg Packets/Bulk',\n",
       "       ' Fwd Avg Bulk Rate', ' Bwd Avg Bytes/Bulk', ' Bwd Avg Packets/Bulk',\n",
       "       'Bwd Avg Bulk Rate', 'Subflow Fwd Packets', ' Subflow Fwd Bytes',\n",
       "       ' Subflow Bwd Packets', ' Subflow Bwd Bytes', 'Init_Win_bytes_forward',\n",
       "       ' Init_Win_bytes_backward', ' act_data_pkt_fwd',\n",
       "       ' min_seg_size_forward', 'Active Mean', ' Active Std', ' Active Max',\n",
       "       ' Active Min', 'Idle Mean', ' Idle Std', ' Idle Max', ' Idle Min',\n",
       "       ' Label'],\n",
       "      dtype='object')"
      ]
     },
     "execution_count": 7,
     "metadata": {},
     "output_type": "execute_result"
    }
   ],
   "source": [
    "df_train.columns"
   ]
  },
  {
   "cell_type": "markdown",
   "metadata": {},
   "source": [
    "## Step 2. Data Cleaning"
   ]
  },
  {
   "cell_type": "markdown",
   "metadata": {},
   "source": [
    "### A. Missing values"
   ]
  },
  {
   "cell_type": "code",
   "execution_count": 8,
   "metadata": {},
   "outputs": [
    {
     "name": "stdout",
     "output_type": "stream",
     "text": [
      "201\n"
     ]
    }
   ],
   "source": [
    "print(df_train.isna().sum().sum())"
   ]
  },
  {
   "cell_type": "code",
   "execution_count": 9,
   "metadata": {},
   "outputs": [],
   "source": [
    "df_train.dropna(subset=[\"Flow Bytes/s\"], inplace=True)"
   ]
  },
  {
   "cell_type": "code",
   "execution_count": 10,
   "metadata": {},
   "outputs": [
    {
     "name": "stdout",
     "output_type": "stream",
     "text": [
      "0\n"
     ]
    }
   ],
   "source": [
    "print(df_train.isna().sum().sum())"
   ]
  },
  {
   "cell_type": "markdown",
   "metadata": {},
   "source": [
    "### Inf. values"
   ]
  },
  {
   "cell_type": "code",
   "execution_count": 11,
   "metadata": {},
   "outputs": [],
   "source": [
    "df_train = df_train.replace([np.inf, -np.inf], np.nan).dropna()"
   ]
  },
  {
   "cell_type": "markdown",
   "metadata": {},
   "source": [
    "## Step 3. Data Preparation"
   ]
  },
  {
   "cell_type": "markdown",
   "metadata": {},
   "source": [
    "### A. Categorical data"
   ]
  },
  {
   "cell_type": "code",
   "execution_count": 12,
   "metadata": {},
   "outputs": [
    {
     "name": "stdout",
     "output_type": "stream",
     "text": [
      "Column ' Label' contains 3 unique values, namely ['BENIGN', 'FTP-Patator', 'SSH-Patator']\n"
     ]
    }
   ],
   "source": [
    "categorical_columns = df_train.select_dtypes(include=['object']).columns\n",
    "\n",
    "for column in categorical_columns:\n",
    "\tprint(f\"Column '{column}' contains {len(df_train[column].value_counts())} unique values, namely {df_train[column].unique().tolist()}\")"
   ]
  },
  {
   "cell_type": "code",
   "execution_count": 13,
   "metadata": {},
   "outputs": [
    {
     "data": {
      "image/png": "[encoded data removed]",
      "text/plain": [
       "<Figure size 1200x500 with 1 Axes>"
      ]
     },
     "metadata": {},
     "output_type": "display_data"
    }
   ],
   "source": [
    "df = df_train\n",
    "\n",
    "plt.figure(figsize=(12, 5))\n",
    "sns.histplot(data=df, y=df[\" Label\"])\n",
    "plt.ylabel(\" \")\n",
    "plt.title(f\"Distribution of Label\", fontweight=\"bold\")\n",
    "\n",
    "plt.tight_layout()\n",
    "plt.show()"
   ]
  },
  {
   "cell_type": "markdown",
   "metadata": {},
   "source": [
    "## Step 4. Preparing dataset for modeling"
   ]
  },
  {
   "cell_type": "markdown",
   "metadata": {},
   "source": [
    "### A. Normalise numeric features"
   ]
  },
  {
   "cell_type": "code",
   "execution_count": 14,
   "metadata": {},
   "outputs": [],
   "source": [
    "# Get all numerical columns\n",
    "numerical_columns = df_train.select_dtypes(include=\"number\").columns"
   ]
  },
  {
   "cell_type": "code",
   "execution_count": 15,
   "metadata": {},
   "outputs": [],
   "source": [
    "from sklearn.preprocessing import MinMaxScaler\n",
    "scaler = MinMaxScaler()\n",
    "df_train[numerical_columns] = scaler.fit_transform(df_train[numerical_columns])"
   ]
  },
  {
   "cell_type": "markdown",
   "metadata": {},
   "source": [
    "### B. Map Labels to Multi-class"
   ]
  },
  {
   "cell_type": "code",
   "execution_count": 16,
   "metadata": {},
   "outputs": [
    {
     "data": {
      "text/plain": [
       " Label\n",
       "BENIGN         431813\n",
       "FTP-Patator      7935\n",
       "SSH-Patator      5897\n",
       "Name: count, dtype: int64"
      ]
     },
     "execution_count": 16,
     "metadata": {},
     "output_type": "execute_result"
    }
   ],
   "source": [
    "df_train[\" Label\"].value_counts()"
   ]
  },
  {
   "cell_type": "code",
   "execution_count": 17,
   "metadata": {},
   "outputs": [],
   "source": [
    "attack_mapping = {\n",
    "\t\"BENIGN\": 0,\n",
    "\t\"FTP-Patator\": 1,\n",
    "\t\"SSH-Patator\": 2,\n",
    "}\n",
    "\n",
    "df_train[\" Label\"] = df_train[\" Label\"].map(attack_mapping)"
   ]
  },
  {
   "cell_type": "code",
   "execution_count": 18,
   "metadata": {},
   "outputs": [
    {
     "data": {
      "text/plain": [
       " Label\n",
       "0    431813\n",
       "1      7935\n",
       "2      5897\n",
       "Name: count, dtype: int64"
      ]
     },
     "execution_count": 18,
     "metadata": {},
     "output_type": "execute_result"
    }
   ],
   "source": [
    "df_train[\" Label\"].value_counts()"
   ]
  },
  {
   "cell_type": "markdown",
   "metadata": {},
   "source": [
    "### C. Data Splitting"
   ]
  },
  {
   "cell_type": "code",
   "execution_count": 19,
   "metadata": {},
   "outputs": [],
   "source": [
    "X = df_train.drop(columns=\" Label\")\n",
    "y = df_train[\" Label\"]"
   ]
  },
  {
   "cell_type": "code",
   "execution_count": 20,
   "metadata": {},
   "outputs": [],
   "source": [
    "from sklearn.model_selection import train_test_split\n",
    "X_train, X_test, y_train, y_test = train_test_split(X, y, test_size=0.2, random_state=42)"
   ]
  },
  {
   "cell_type": "markdown",
   "metadata": {},
   "source": [
    "### D. Apply SMOTE to balance the training data"
   ]
  },
  {
   "cell_type": "code",
   "execution_count": 21,
   "metadata": {},
   "outputs": [],
   "source": [
    "from imblearn.over_sampling import SMOTE\n",
    "smote = SMOTE(random_state=42)\n",
    "\n",
    "X_train_balanced, y_train_balanced = smote.fit_resample(X_train, y_train)"
   ]
  },
  {
   "cell_type": "code",
   "execution_count": 22,
   "metadata": {},
   "outputs": [
    {
     "name": "stdout",
     "output_type": "stream",
     "text": [
      "Class distribution before SMOTE: Counter({0: 345503, 1: 6348, 2: 4665})\n",
      "Class distribution after SMOTE: Counter({0: 345503, 2: 345503, 1: 345503})\n"
     ]
    }
   ],
   "source": [
    "# Check class distribution after SMOTE\n",
    "from collections import Counter\n",
    "\n",
    "print(f\"Class distribution before SMOTE: {Counter(y_train)}\")\n",
    "print(f\"Class distribution after SMOTE: {Counter(y_train_balanced)}\")"
   ]
  },
  {
   "cell_type": "markdown",
   "metadata": {},
   "source": [
    "### E. PyTorch Model Design"
   ]
  },
  {
   "cell_type": "code",
   "execution_count": 23,
   "metadata": {},
   "outputs": [],
   "source": [
    "import torch\n",
    "import torch.nn as nn\n",
    "\n",
    "class NetworkIDSModel(nn.Module):\n",
    "    def __init__(self, input_size, hidden_size, output_size):\n",
    "        super(NetworkIDSModel, self).__init__()\n",
    "        self.fc1 = nn.Linear(input_size, hidden_size)\n",
    "        self.relu = nn.ReLU()\n",
    "        self.fc2 = nn.Linear(hidden_size, output_size)\n",
    "        self.softmax = nn.Softmax(dim=1)\n",
    "\n",
    "    def forward(self, x):\n",
    "        x = self.fc1(x)\n",
    "        x = self.relu(x)\n",
    "        x = self.fc2(x)\n",
    "        return self.softmax(x)\n",
    "\n",
    "# Define the input size (number of features), hidden layers, and output size (number of classes)\n",
    "input_size = X_train_balanced.shape[1]\n",
    "hidden_size = 64  # You can experiment with this\n",
    "output_size = len(attack_mapping)  # Depends on binary or multi-class\n",
    "\n",
    "model = NetworkIDSModel(input_size, hidden_size, output_size)"
   ]
  },
  {
   "cell_type": "markdown",
   "metadata": {},
   "source": [
    "### F. Training the Model"
   ]
  },
  {
   "cell_type": "code",
   "execution_count": 24,
   "metadata": {},
   "outputs": [
    {
     "name": "stdout",
     "output_type": "stream",
     "text": [
      "[Epoch 1/10]:\tloss: 0.5735 ; accuracy: 0.9828\n",
      "[Epoch 2/10]:\tloss: 0.5607 ; accuracy: 0.9910\n",
      "[Epoch 3/10]:\tloss: 0.5576 ; accuracy: 0.9941\n",
      "[Epoch 4/10]:\tloss: 0.5560 ; accuracy: 0.9957\n",
      "[Epoch 5/10]:\tloss: 0.5555 ; accuracy: 0.9960\n",
      "[Epoch 6/10]:\tloss: 0.5554 ; accuracy: 0.9961\n",
      "[Epoch 7/10]:\tloss: 0.5553 ; accuracy: 0.9962\n",
      "[Epoch 8/10]:\tloss: 0.5552 ; accuracy: 0.9963\n",
      "[Epoch 9/10]:\tloss: 0.5552 ; accuracy: 0.9963\n",
      "[Epoch 10/10]:\tloss: 0.5552 ; accuracy: 0.9963\n"
     ]
    }
   ],
   "source": [
    "from torch.utils.data import DataLoader, TensorDataset\n",
    "import torch.optim as optim\n",
    "\n",
    "# Convert the balanced training data into tensors for PyTorch\n",
    "X_train_tensor = torch.tensor(X_train_balanced.values, dtype=torch.float32)\n",
    "y_train_tensor = torch.tensor(y_train_balanced.values, dtype=torch.long)\n",
    "X_test_tensor = torch.tensor(X_test.values, dtype=torch.float32)\n",
    "y_test_tensor = torch.tensor(y_test.values, dtype=torch.long)\n",
    "\n",
    "\n",
    "train_dataset = TensorDataset(X_train_tensor, y_train_tensor)\n",
    "train_loader = DataLoader(train_dataset, batch_size=64, shuffle=True)\n",
    "\n",
    "# Define the loss function and optimizer\n",
    "criterion = nn.CrossEntropyLoss()  # For multi-class classification\n",
    "optimizer = optim.Adam(model.parameters(), lr=0.001)\n",
    "\n",
    "# Training loop\n",
    "num_epochs = 10\n",
    "for epoch in range(num_epochs):\n",
    "\ttotal_loss = 0\n",
    "\tcorrect = 0\n",
    "\ttotal = 0\n",
    "\t\n",
    "\tfor data, labels in train_loader:\n",
    "\t\t# Zero the gradients\n",
    "\t\toptimizer.zero_grad()\n",
    "\t\t\n",
    "\t\t# Forward pass\n",
    "\t\toutputs = model(data)\n",
    "\t\tloss = criterion(outputs, labels)\n",
    "\t\t\n",
    "\t\t# Backward pass and optimize\n",
    "\t\tloss.backward()\n",
    "\t\toptimizer.step()\n",
    "\t\t\n",
    "\t\t# Track loss\n",
    "\t\ttotal_loss += loss.item()\n",
    "\t\t\n",
    "\t\t# Calculate accuracy\n",
    "\t\t_, predicted = torch.max(outputs.data, 1)\n",
    "\t\ttotal += labels.size(0)\n",
    "\t\tcorrect += (predicted == labels).sum().item()\n",
    "\t\n",
    "\tepoch_loss = total_loss / len(train_loader)\n",
    "\tepoch_accuracy = correct / total\n",
    "\t\n",
    "\tprint(f'[Epoch {epoch+1}/{num_epochs}]:\tloss: {epoch_loss:.4f} ; accuracy: {epoch_accuracy:.4f}')"
   ]
  },
  {
   "cell_type": "markdown",
   "metadata": {},
   "source": [
    "### G. Evaluating the Model"
   ]
  },
  {
   "cell_type": "code",
   "execution_count": 25,
   "metadata": {},
   "outputs": [
    {
     "name": "stdout",
     "output_type": "stream",
     "text": [
      "Accuracy: 0.9972\n",
      "F1 Score: 0.9973\n",
      "\n",
      "Classification Report:\n",
      "              precision    recall  f1-score   support\n",
      "\n",
      "      BENIGN       1.00      1.00      1.00     86310\n",
      " FTP-Patator       0.97      1.00      0.99      1587\n",
      " SSH-Patator       0.86      0.99      0.92      1232\n",
      "\n",
      "    accuracy                           1.00     89129\n",
      "   macro avg       0.95      0.99      0.97     89129\n",
      "weighted avg       1.00      1.00      1.00     89129\n",
      "\n"
     ]
    }
   ],
   "source": [
    "from sklearn.metrics import accuracy_score, f1_score, classification_report\n",
    "\n",
    "# Convert test data to tensor\n",
    "# y_test_mapped = y_test.map(attack_mapping).astype(int)\n",
    "X_test_tensor = torch.tensor(X_test.values, dtype=torch.float32)\n",
    "y_test_tensor = torch.tensor(y_test.values, dtype=torch.long)\n",
    "\n",
    "# Make predictions\n",
    "model.eval()\n",
    "with torch.no_grad():\n",
    "\toutputs = model(X_test_tensor)\n",
    "\t_, predicted = torch.max(outputs.data, 1)\n",
    "\n",
    "# Calculate accuracy\n",
    "accuracy = accuracy_score(y_test_tensor.cpu().numpy(), predicted.cpu().numpy())\n",
    "\n",
    "# Calculate F1 score\n",
    "f1 = f1_score(y_test_tensor.cpu().numpy(), predicted.cpu().numpy(), average=\"weighted\")\n",
    "\n",
    "# Generate classification report\n",
    "report = classification_report(y_test_tensor.cpu().numpy(), predicted.cpu().numpy(),\n",
    "\t\t\ttarget_names=attack_mapping)\n",
    "\n",
    "# Print the results\n",
    "print(f\"Accuracy: {accuracy:.4f}\")\n",
    "print(f\"F1 Score: {f1:.4f}\")\n",
    "print(f\"\\nClassification Report:\\n{report}\")"
   ]
  },
  {
   "cell_type": "code",
   "execution_count": 26,
   "metadata": {},
   "outputs": [],
   "source": [
    "torch.save(model.state_dict(), './models/ids_model.pth')"
   ]
  },
  {
   "cell_type": "code",
   "execution_count": 27,
   "metadata": {},
   "outputs": [
    {
     "data": {
      "text/plain": [
       "NetworkIDSModel(\n",
       "  (fc1): Linear(in_features=78, out_features=64, bias=True)\n",
       "  (relu): ReLU()\n",
       "  (fc2): Linear(in_features=64, out_features=3, bias=True)\n",
       "  (softmax): Softmax(dim=1)\n",
       ")"
      ]
     },
     "execution_count": 27,
     "metadata": {},
     "output_type": "execute_result"
    }
   ],
   "source": [
    "model.load_state_dict(torch.load('./models/ids_model.pth', weights_only=True))\n",
    "model.eval()"
   ]
  }
 ],
 "metadata": {
  "kernelspec": {
   "display_name": "Python 3",
   "language": "python",
   "name": "python3"
  },
  "language_info": {
   "codemirror_mode": {
    "name": "ipython",
    "version": 3
   },
   "file_extension": ".py",
   "mimetype": "text/x-python",
   "name": "python",
   "nbconvert_exporter": "python",
   "pygments_lexer": "ipython3",
   "version": "3.12.7"
  }
 },
 "nbformat": 4,
 "nbformat_minor": 2
}
