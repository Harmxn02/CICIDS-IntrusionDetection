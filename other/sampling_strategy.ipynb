{
 "cells": [
  {
   "cell_type": "markdown",
   "metadata": {},
   "source": [
    "# Sampling Strategy\n",
    "\n",
    "Here we implement the sampling strategy used in the GAICIA project"
   ]
  },
  {
   "cell_type": "code",
   "execution_count": 1,
   "metadata": {},
   "outputs": [],
   "source": [
    "import pandas as pd\n",
    "import numpy as np\n",
    "\n",
    "df = pd.read_csv(\"../data/concatenated/concat.csv\")"
   ]
  },
  {
   "cell_type": "code",
   "execution_count": 2,
   "metadata": {},
   "outputs": [],
   "source": [
    "# Keep only two columns to speed up the process\n",
    "df = df[[\" Destination Port\", \" Label\"]].rename(columns={\" Destination Port\": \"Port\", \" Label\": \"Label\"})"
   ]
  },
  {
   "cell_type": "markdown",
   "metadata": {},
   "source": [
    "## Sampling Strategy"
   ]
  },
  {
   "cell_type": "code",
   "execution_count": 3,
   "metadata": {},
   "outputs": [
    {
     "data": {
      "text/plain": [
       "Label\n",
       "BENIGN                        2273097\n",
       "DoS Hulk                       231073\n",
       "PortScan                       158930\n",
       "DDoS                           128027\n",
       "DoS GoldenEye                   10293\n",
       "FTP-Patator                      7938\n",
       "SSH-Patator                      5897\n",
       "DoS slowloris                    5796\n",
       "DoS Slowhttptest                 5499\n",
       "Bot                              1966\n",
       "Web Attack � Brute Force         1507\n",
       "Web Attack � XSS                  652\n",
       "Infiltration                       36\n",
       "Web Attack � Sql Injection         21\n",
       "Heartbleed                         11\n",
       "Name: count, dtype: int64"
      ]
     },
     "execution_count": 3,
     "metadata": {},
     "output_type": "execute_result"
    }
   ],
   "source": [
    "df[\"Label\"].value_counts()"
   ]
  },
  {
   "cell_type": "markdown",
   "metadata": {},
   "source": [
    "### Define variables"
   ]
  },
  {
   "cell_type": "code",
   "execution_count": 4,
   "metadata": {},
   "outputs": [],
   "source": [
    "# Total amount of benign samples we wanr\n",
    "TOTAL_BENIGN_TARGET_VALUE = 10_000\n",
    "\n",
    "# Total amount of attack samples we want\n",
    "TOTAL_ATTACK_TARGET_VALUE = 10_000\n",
    "\n",
    "# If non-BENIGN labels are below this amount, leave them as they are\n",
    "ATTACK_BOTTOM_VALUE = 1_000"
   ]
  },
  {
   "cell_type": "markdown",
   "metadata": {},
   "source": [
    "### Undersample BENIGN"
   ]
  },
  {
   "cell_type": "code",
   "execution_count": 5,
   "metadata": {},
   "outputs": [],
   "source": [
    "from imblearn.under_sampling import RandomUnderSampler\n",
    "\n",
    "def undersample_benign(df):\n",
    "\t\"\"\"\n",
    "\tPerform undersampling on the 'BENIGN' label in the given DataFrame to a specific target value.\n",
    "\n",
    "\tThis function dynamically defines an undersampling strategy for the 'BENIGN' label\n",
    "\tif its count is greater than the MAJORITY_TARGET_VALUE. It then applies the undersampling\n",
    "\tstrategy using RandomUnderSampler from the imbalanced-learn library.\n",
    "\n",
    "\tParameters:\n",
    "\tdf (pd.DataFrame): The input DataFrame containing at least a 'Label' column.\n",
    "\n",
    "\tReturns:\n",
    "\tpd.DataFrame: A resampled DataFrame with the 'BENIGN' label undersampled.\n",
    "\t\"\"\"\n",
    "\t\n",
    "\tlabel_counts = df[\"Label\"].value_counts()\n",
    "\n",
    "\t# Define undersampling strategy only for the 'BENIGN' label\n",
    "\tundersample_strategy = {\n",
    "\t\t\"BENIGN\": TOTAL_BENIGN_TARGET_VALUE\n",
    "\t} if label_counts.get(\"BENIGN\", 0) > TOTAL_BENIGN_TARGET_VALUE else {}\n",
    "\n",
    "\tif undersample_strategy:\n",
    "\t\tundersample = RandomUnderSampler(sampling_strategy=undersample_strategy, random_state=287)\n",
    "\t\tdf_resampled, _ = undersample.fit_resample(df, df[\"Label\"])\n",
    "\t\treturn df_resampled\n",
    "\telse:\n",
    "\t\treturn df  # Return the original DataFrame if no undersampling is needed\n"
   ]
  },
  {
   "cell_type": "code",
   "execution_count": 6,
   "metadata": {},
   "outputs": [
    {
     "data": {
      "text/plain": [
       "Label\n",
       "DoS Hulk                      231073\n",
       "PortScan                      158930\n",
       "DDoS                          128027\n",
       "DoS GoldenEye                  10293\n",
       "BENIGN                         10000\n",
       "FTP-Patator                     7938\n",
       "SSH-Patator                     5897\n",
       "DoS slowloris                   5796\n",
       "DoS Slowhttptest                5499\n",
       "Bot                             1966\n",
       "Web Attack � Brute Force        1507\n",
       "Web Attack � XSS                 652\n",
       "Infiltration                      36\n",
       "Web Attack � Sql Injection        21\n",
       "Heartbleed                        11\n",
       "Name: count, dtype: int64"
      ]
     },
     "execution_count": 6,
     "metadata": {},
     "output_type": "execute_result"
    }
   ],
   "source": [
    "df_with_undersampled_benign = undersample_benign(df)\n",
    "df_with_undersampled_benign[\"Label\"].value_counts()"
   ]
  },
  {
   "cell_type": "markdown",
   "metadata": {},
   "source": [
    "Okay so now BENIGN is undersampled to 10.000"
   ]
  },
  {
   "cell_type": "markdown",
   "metadata": {},
   "source": [
    "### Handle attack classes"
   ]
  },
  {
   "cell_type": "markdown",
   "metadata": {},
   "source": [
    "Now we just need to do 2 more steps:\n",
    "\n",
    "1. First check how many attack labels are below the `ATTACK_BOTTOM_VALUE`. We will leave them as they are, but we need to know how many there are (so take the sum of the attack labels that are below the `ATTACK_BOTTOM_VALUE`).\n",
    "2. Then we will downsample the rest of the attack labels to 10.000 - `ATTACK_BOTTOM_VALUE`, so that the sum of all the attack labels is 10.000"
   ]
  },
  {
   "cell_type": "code",
   "execution_count": 7,
   "metadata": {},
   "outputs": [
    {
     "data": {
      "text/plain": [
       "Label\n",
       "BENIGN                        10000\n",
       "Bot                             928\n",
       "DDoS                            928\n",
       "DoS GoldenEye                   928\n",
       "DoS Hulk                        928\n",
       "DoS Slowhttptest                928\n",
       "DoS slowloris                   928\n",
       "FTP-Patator                     928\n",
       "PortScan                        928\n",
       "SSH-Patator                     928\n",
       "Web Attack � Brute Force        928\n",
       "Web Attack � XSS                652\n",
       "Infiltration                     36\n",
       "Web Attack � Sql Injection       21\n",
       "Heartbleed                       11\n",
       "Name: count, dtype: int64"
      ]
     },
     "execution_count": 7,
     "metadata": {},
     "output_type": "execute_result"
    }
   ],
   "source": [
    "# 1. First check how many attack labels are below the `ATTACK_BOTTOM_VALUE`. We will leave them as they are, but we need to know how many there are (so take the sum of the attack labels that are below the `ATTACK_BOTTOM_VALUE`).\n",
    "# 2. Then we will downsample the rest of the attack labels to 10.000 - `ATTACK_BOTTOM_VALUE`, so that the sum of all the attack labels is 10.000\n",
    "\n",
    "def sample_or_leave_attack_labels(df):\n",
    "\t\"\"\"\n",
    "    Perform undersampling on the non-'BENIGN' labels in the given DataFrame to a specific target value, if they are above the threshold `ATTACK_BOTTOM_VALUE`.\n",
    "    \n",
    "    We first need to check how many attack labels are below the `ATTACK_BOTTOM_VALUE`. We will leave them as they are, but we need to know how many there are (so take the sum of the attack labels that are below the `ATTACK_BOTTOM_VALUE`).\n",
    "\tThen we will downsample the rest of the attack labels to 10.000 - `ATTACK_BOTTOM_VALUE`, so that the sum of all the attack labels is 10.000\n",
    "    \n",
    "    Parameters:\n",
    "\tdf (pd.DataFrame): The input DataFrame containing at least a 'Label' column.\n",
    "\n",
    "\tReturns:\n",
    "\tpd.DataFrame: A resampled DataFrame with the attack labels undersampled.\n",
    "\t\"\"\"\n",
    " \n",
    "\tattack_labels_without_benign = df[\"Label\"].value_counts().loc[lambda x: x.index != \"BENIGN\"]\n",
    " \n",
    "\t# Count how many samples there are of attack labels below the `ATTACK_BOTTOM_VALUE`\n",
    "\tamount_of_attack_samples_below_threshold = attack_labels_without_benign.loc[lambda x: x < ATTACK_BOTTOM_VALUE].sum()\n",
    " \n",
    "\t# Count how many attack samples we have left to reach the target value\n",
    "\tleftover_attack_target_value = TOTAL_ATTACK_TARGET_VALUE - amount_of_attack_samples_below_threshold\n",
    " \n",
    "\t# Count how many attack labels are above the `ATTACK_BOTTOM_VALUE`\n",
    "\tattack_labels_above_threshold = attack_labels_without_benign.loc[lambda x: x >= ATTACK_BOTTOM_VALUE]\n",
    "\tdownsample_attack_label_above_threshold_to_this_amount = int(leftover_attack_target_value / len(attack_labels_above_threshold))\n",
    " \n",
    "\t# We need to downsample the attack labels above the threshold to (`leftover_attack_target_value` / `attack_labels_above_threshold`) so that the sum of all the attack labels is 10.000\n",
    "\tundersample_strategy = {\n",
    "\t\tlabel: downsample_attack_label_above_threshold_to_this_amount if count >= ATTACK_BOTTOM_VALUE else count\n",
    "\t\tfor label, count in attack_labels_without_benign.items()\n",
    "\t}\n",
    "\n",
    "\tundersample = RandomUnderSampler(sampling_strategy=undersample_strategy, random_state=287)\n",
    "\tdf_resampled, _ = undersample.fit_resample(df, df[\"Label\"])\n",
    "\treturn df_resampled\n",
    "\n",
    "df_with_undersampled_attack = sample_or_leave_attack_labels(df_with_undersampled_benign)\n",
    "df_with_undersampled_attack[\"Label\"].value_counts()"
   ]
  },
  {
   "cell_type": "markdown",
   "metadata": {},
   "source": [
    "### Convert to binary classification"
   ]
  },
  {
   "cell_type": "code",
   "execution_count": 8,
   "metadata": {},
   "outputs": [
    {
     "data": {
      "text/plain": [
       "Label\n",
       "0    10000\n",
       "1    10000\n",
       "Name: count, dtype: int64"
      ]
     },
     "execution_count": 8,
     "metadata": {},
     "output_type": "execute_result"
    }
   ],
   "source": [
    "# Change all values in the column \"Label\" to 0 if the value is \"BENIGN\" and to 1 if the value is not \"BENIGN\"\n",
    "df_with_undersampled_attack[\"Label\"] = df_with_undersampled_attack[\"Label\"].apply(lambda x: 0 if x == \"BENIGN\" else 1)\n",
    "df_with_undersampled_attack[\"Label\"].value_counts()"
   ]
  }
 ],
 "metadata": {
  "kernelspec": {
   "display_name": "Python 3",
   "language": "python",
   "name": "python3"
  },
  "language_info": {
   "codemirror_mode": {
    "name": "ipython",
    "version": 3
   },
   "file_extension": ".py",
   "mimetype": "text/x-python",
   "name": "python",
   "nbconvert_exporter": "python",
   "pygments_lexer": "ipython3",
   "version": "3.12.7"
  }
 },
 "nbformat": 4,
 "nbformat_minor": 2
}
