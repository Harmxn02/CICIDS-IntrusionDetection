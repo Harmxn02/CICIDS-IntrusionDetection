{
 "cells": [
  {
   "cell_type": "markdown",
   "metadata": {},
   "source": [
    "# CICIDS - Hybrid Model CNN-GAN\n",
    "\n",
    "The CICIDS2017 dataset is a comprehensive dataset for network intrusion detection, created by the Canadian Institute for Cybersecurity. It includes a diverse set of attack scenarios and normal traffic, making it suitable for training and evaluating intrusion detection systems.\n",
    "\n",
    "The dataset includes various types of attacks such as Brute Force, Heartbleed, Botnet, DoS (Denial of Service), DDoS (Distributed Denial of Service), Web attacks, and Infiltration of the network from inside.\n",
    "\n",
    "I aim to replicate this study: <https://www.jait.us/articles/2024/JAIT-V15N7-886.pdf>"
   ]
  },
  {
   "cell_type": "code",
   "execution_count": 2,
   "metadata": {},
   "outputs": [],
   "source": [
    "import warnings\n",
    "from sklearn.exceptions import UndefinedMetricWarning\n",
    "warnings.filterwarnings(\"ignore\", category=UndefinedMetricWarning)"
   ]
  },
  {
   "cell_type": "markdown",
   "metadata": {},
   "source": [
    "## Step 1. EDA"
   ]
  },
  {
   "cell_type": "code",
   "execution_count": 3,
   "metadata": {},
   "outputs": [],
   "source": [
    "import pandas as pd\n",
    "import numpy as np\n",
    "import matplotlib.pyplot as plt\n",
    "import seaborn as sns\n",
    "\n",
    "sns.set(style=\"whitegrid\")"
   ]
  },
  {
   "cell_type": "code",
   "execution_count": 5,
   "metadata": {},
   "outputs": [],
   "source": [
    "# Should be 8 files\n",
    "df_monday = pd.read_csv(\"./data/original/Monday-WorkingHours.pcap_ISCX.csv\")\n",
    "df_tuesday = pd.read_csv(\"./data/original/Tuesday-WorkingHours.pcap_ISCX.csv\")\n",
    "df_wednesday = pd.read_csv(\"./data/original/Wednesday-workingHours.pcap_ISCX.csv\")\n",
    "\n",
    "df_thursdayOne = pd.read_csv(\"./data/original/Thursday-WorkingHours-Afternoon-Infilteration.pcap_ISCX.csv\")\n",
    "df_thursdayTwo = pd.read_csv(\"./data/original/Thursday-WorkingHours-Morning-WebAttacks.pcap_ISCX.csv\")\n",
    "\n",
    "df_fridayOne = pd.read_csv(\"./data/original/Friday-WorkingHours-Afternoon-DDos.pcap_ISCX.csv\")\n",
    "df_fridayTwo = pd.read_csv(\"./data/original/Friday-WorkingHours-Afternoon-PortScan.pcap_ISCX.csv\")\n",
    "df_fridayThree = pd.read_csv(\"./data/original/Friday-WorkingHours-Morning.pcap_ISCX.csv\")\n",
    "\n",
    "# combine the 8 dataframes into 1\n",
    "df_train = pd.concat([df_monday, df_tuesday, df_wednesday, df_thursdayOne, df_thursdayTwo, df_fridayOne, df_fridayTwo, df_fridayThree], ignore_index=True)\n"
   ]
  },
  {
   "cell_type": "code",
   "execution_count": 6,
   "metadata": {},
   "outputs": [
    {
     "data": {
      "application/vnd.microsoft.datawrangler.viewer.v0+json": {
       "columns": [
        {
         "name": "index",
         "rawType": "int64",
         "type": "integer"
        },
        {
         "name": " Destination Port",
         "rawType": "int64",
         "type": "integer"
        },
        {
         "name": " Flow Duration",
         "rawType": "int64",
         "type": "integer"
        },
        {
         "name": " Total Fwd Packets",
         "rawType": "int64",
         "type": "integer"
        },
        {
         "name": " Total Backward Packets",
         "rawType": "int64",
         "type": "integer"
        },
        {
         "name": "Total Length of Fwd Packets",
         "rawType": "int64",
         "type": "integer"
        },
        {
         "name": " Total Length of Bwd Packets",
         "rawType": "int64",
         "type": "integer"
        },
        {
         "name": " Fwd Packet Length Max",
         "rawType": "int64",
         "type": "integer"
        },
        {
         "name": " Fwd Packet Length Min",
         "rawType": "int64",
         "type": "integer"
        },
        {
         "name": " Fwd Packet Length Mean",
         "rawType": "float64",
         "type": "float"
        },
        {
         "name": " Fwd Packet Length Std",
         "rawType": "float64",
         "type": "float"
        },
        {
         "name": "Bwd Packet Length Max",
         "rawType": "int64",
         "type": "integer"
        },
        {
         "name": " Bwd Packet Length Min",
         "rawType": "int64",
         "type": "integer"
        },
        {
         "name": " Bwd Packet Length Mean",
         "rawType": "float64",
         "type": "float"
        },
        {
         "name": " Bwd Packet Length Std",
         "rawType": "float64",
         "type": "float"
        },
        {
         "name": "Flow Bytes/s",
         "rawType": "float64",
         "type": "float"
        },
        {
         "name": " Flow Packets/s",
         "rawType": "float64",
         "type": "float"
        },
        {
         "name": " Flow IAT Mean",
         "rawType": "float64",
         "type": "float"
        },
        {
         "name": " Flow IAT Std",
         "rawType": "float64",
         "type": "float"
        },
        {
         "name": " Flow IAT Max",
         "rawType": "int64",
         "type": "integer"
        },
        {
         "name": " Flow IAT Min",
         "rawType": "int64",
         "type": "integer"
        },
        {
         "name": "Fwd IAT Total",
         "rawType": "int64",
         "type": "integer"
        },
        {
         "name": " Fwd IAT Mean",
         "rawType": "float64",
         "type": "float"
        },
        {
         "name": " Fwd IAT Std",
         "rawType": "float64",
         "type": "float"
        },
        {
         "name": " Fwd IAT Max",
         "rawType": "int64",
         "type": "integer"
        },
        {
         "name": " Fwd IAT Min",
         "rawType": "int64",
         "type": "integer"
        },
        {
         "name": "Bwd IAT Total",
         "rawType": "int64",
         "type": "integer"
        },
        {
         "name": " Bwd IAT Mean",
         "rawType": "float64",
         "type": "float"
        },
        {
         "name": " Bwd IAT Std",
         "rawType": "float64",
         "type": "float"
        },
        {
         "name": " Bwd IAT Max",
         "rawType": "int64",
         "type": "integer"
        },
        {
         "name": " Bwd IAT Min",
         "rawType": "int64",
         "type": "integer"
        },
        {
         "name": "Fwd PSH Flags",
         "rawType": "int64",
         "type": "integer"
        },
        {
         "name": " Bwd PSH Flags",
         "rawType": "int64",
         "type": "integer"
        },
        {
         "name": " Fwd URG Flags",
         "rawType": "int64",
         "type": "integer"
        },
        {
         "name": " Bwd URG Flags",
         "rawType": "int64",
         "type": "integer"
        },
        {
         "name": " Fwd Header Length",
         "rawType": "int64",
         "type": "integer"
        },
        {
         "name": " Bwd Header Length",
         "rawType": "int64",
         "type": "integer"
        },
        {
         "name": "Fwd Packets/s",
         "rawType": "float64",
         "type": "float"
        },
        {
         "name": " Bwd Packets/s",
         "rawType": "float64",
         "type": "float"
        },
        {
         "name": " Min Packet Length",
         "rawType": "int64",
         "type": "integer"
        },
        {
         "name": " Max Packet Length",
         "rawType": "int64",
         "type": "integer"
        },
        {
         "name": " Packet Length Mean",
         "rawType": "float64",
         "type": "float"
        },
        {
         "name": " Packet Length Std",
         "rawType": "float64",
         "type": "float"
        },
        {
         "name": " Packet Length Variance",
         "rawType": "float64",
         "type": "float"
        },
        {
         "name": "FIN Flag Count",
         "rawType": "int64",
         "type": "integer"
        },
        {
         "name": " SYN Flag Count",
         "rawType": "int64",
         "type": "integer"
        },
        {
         "name": " RST Flag Count",
         "rawType": "int64",
         "type": "integer"
        },
        {
         "name": " PSH Flag Count",
         "rawType": "int64",
         "type": "integer"
        },
        {
         "name": " ACK Flag Count",
         "rawType": "int64",
         "type": "integer"
        },
        {
         "name": " URG Flag Count",
         "rawType": "int64",
         "type": "integer"
        },
        {
         "name": " CWE Flag Count",
         "rawType": "int64",
         "type": "integer"
        },
        {
         "name": " ECE Flag Count",
         "rawType": "int64",
         "type": "integer"
        },
        {
         "name": " Down/Up Ratio",
         "rawType": "int64",
         "type": "integer"
        },
        {
         "name": " Average Packet Size",
         "rawType": "float64",
         "type": "float"
        },
        {
         "name": " Avg Fwd Segment Size",
         "rawType": "float64",
         "type": "float"
        },
        {
         "name": " Avg Bwd Segment Size",
         "rawType": "float64",
         "type": "float"
        },
        {
         "name": " Fwd Header Length.1",
         "rawType": "int64",
         "type": "integer"
        },
        {
         "name": "Fwd Avg Bytes/Bulk",
         "rawType": "int64",
         "type": "integer"
        },
        {
         "name": " Fwd Avg Packets/Bulk",
         "rawType": "int64",
         "type": "integer"
        },
        {
         "name": " Fwd Avg Bulk Rate",
         "rawType": "int64",
         "type": "integer"
        },
        {
         "name": " Bwd Avg Bytes/Bulk",
         "rawType": "int64",
         "type": "integer"
        },
        {
         "name": " Bwd Avg Packets/Bulk",
         "rawType": "int64",
         "type": "integer"
        },
        {
         "name": "Bwd Avg Bulk Rate",
         "rawType": "int64",
         "type": "integer"
        },
        {
         "name": "Subflow Fwd Packets",
         "rawType": "int64",
         "type": "integer"
        },
        {
         "name": " Subflow Fwd Bytes",
         "rawType": "int64",
         "type": "integer"
        },
        {
         "name": " Subflow Bwd Packets",
         "rawType": "int64",
         "type": "integer"
        },
        {
         "name": " Subflow Bwd Bytes",
         "rawType": "int64",
         "type": "integer"
        },
        {
         "name": "Init_Win_bytes_forward",
         "rawType": "int64",
         "type": "integer"
        },
        {
         "name": " Init_Win_bytes_backward",
         "rawType": "int64",
         "type": "integer"
        },
        {
         "name": " act_data_pkt_fwd",
         "rawType": "int64",
         "type": "integer"
        },
        {
         "name": " min_seg_size_forward",
         "rawType": "int64",
         "type": "integer"
        },
        {
         "name": "Active Mean",
         "rawType": "float64",
         "type": "float"
        },
        {
         "name": " Active Std",
         "rawType": "float64",
         "type": "float"
        },
        {
         "name": " Active Max",
         "rawType": "int64",
         "type": "integer"
        },
        {
         "name": " Active Min",
         "rawType": "int64",
         "type": "integer"
        },
        {
         "name": "Idle Mean",
         "rawType": "float64",
         "type": "float"
        },
        {
         "name": " Idle Std",
         "rawType": "float64",
         "type": "float"
        },
        {
         "name": " Idle Max",
         "rawType": "int64",
         "type": "integer"
        },
        {
         "name": " Idle Min",
         "rawType": "int64",
         "type": "integer"
        },
        {
         "name": " Label",
         "rawType": "object",
         "type": "string"
        }
       ],
       "conversionMethod": "pd.DataFrame",
       "ref": "7b787e54-357e-464e-b9e1-ba9b7c4a452d",
       "rows": [
        [
         "0",
         "49188",
         "4",
         "2",
         "0",
         "12",
         "0",
         "6",
         "6",
         "6.0",
         "0.0",
         "0",
         "0",
         "0.0",
         "0.0",
         "3000000.0",
         "500000.0",
         "4.0",
         "0.0",
         "4",
         "4",
         "4",
         "4.0",
         "0.0",
         "4",
         "4",
         "0",
         "0.0",
         "0.0",
         "0",
         "0",
         "0",
         "0",
         "0",
         "0",
         "40",
         "0",
         "500000.0",
         "0.0",
         "6",
         "6",
         "6.0",
         "0.0",
         "0.0",
         "0",
         "0",
         "0",
         "0",
         "1",
         "1",
         "0",
         "0",
         "0",
         "9.0",
         "6.0",
         "0.0",
         "40",
         "0",
         "0",
         "0",
         "0",
         "0",
         "0",
         "2",
         "12",
         "0",
         "0",
         "329",
         "-1",
         "1",
         "20",
         "0.0",
         "0.0",
         "0",
         "0",
         "0.0",
         "0.0",
         "0",
         "0",
         "BENIGN"
        ],
        [
         "1",
         "49188",
         "1",
         "2",
         "0",
         "12",
         "0",
         "6",
         "6",
         "6.0",
         "0.0",
         "0",
         "0",
         "0.0",
         "0.0",
         "12000000.0",
         "2000000.0",
         "1.0",
         "0.0",
         "1",
         "1",
         "1",
         "1.0",
         "0.0",
         "1",
         "1",
         "0",
         "0.0",
         "0.0",
         "0",
         "0",
         "0",
         "0",
         "0",
         "0",
         "40",
         "0",
         "2000000.0",
         "0.0",
         "6",
         "6",
         "6.0",
         "0.0",
         "0.0",
         "0",
         "0",
         "0",
         "0",
         "1",
         "1",
         "0",
         "0",
         "0",
         "9.0",
         "6.0",
         "0.0",
         "40",
         "0",
         "0",
         "0",
         "0",
         "0",
         "0",
         "2",
         "12",
         "0",
         "0",
         "329",
         "-1",
         "1",
         "20",
         "0.0",
         "0.0",
         "0",
         "0",
         "0.0",
         "0.0",
         "0",
         "0",
         "BENIGN"
        ],
        [
         "2",
         "49188",
         "1",
         "2",
         "0",
         "12",
         "0",
         "6",
         "6",
         "6.0",
         "0.0",
         "0",
         "0",
         "0.0",
         "0.0",
         "12000000.0",
         "2000000.0",
         "1.0",
         "0.0",
         "1",
         "1",
         "1",
         "1.0",
         "0.0",
         "1",
         "1",
         "0",
         "0.0",
         "0.0",
         "0",
         "0",
         "0",
         "0",
         "0",
         "0",
         "40",
         "0",
         "2000000.0",
         "0.0",
         "6",
         "6",
         "6.0",
         "0.0",
         "0.0",
         "0",
         "0",
         "0",
         "0",
         "1",
         "1",
         "0",
         "0",
         "0",
         "9.0",
         "6.0",
         "0.0",
         "40",
         "0",
         "0",
         "0",
         "0",
         "0",
         "0",
         "2",
         "12",
         "0",
         "0",
         "329",
         "-1",
         "1",
         "20",
         "0.0",
         "0.0",
         "0",
         "0",
         "0.0",
         "0.0",
         "0",
         "0",
         "BENIGN"
        ],
        [
         "3",
         "49188",
         "1",
         "2",
         "0",
         "12",
         "0",
         "6",
         "6",
         "6.0",
         "0.0",
         "0",
         "0",
         "0.0",
         "0.0",
         "12000000.0",
         "2000000.0",
         "1.0",
         "0.0",
         "1",
         "1",
         "1",
         "1.0",
         "0.0",
         "1",
         "1",
         "0",
         "0.0",
         "0.0",
         "0",
         "0",
         "0",
         "0",
         "0",
         "0",
         "40",
         "0",
         "2000000.0",
         "0.0",
         "6",
         "6",
         "6.0",
         "0.0",
         "0.0",
         "0",
         "0",
         "0",
         "0",
         "1",
         "1",
         "0",
         "0",
         "0",
         "9.0",
         "6.0",
         "0.0",
         "40",
         "0",
         "0",
         "0",
         "0",
         "0",
         "0",
         "2",
         "12",
         "0",
         "0",
         "329",
         "-1",
         "1",
         "20",
         "0.0",
         "0.0",
         "0",
         "0",
         "0.0",
         "0.0",
         "0",
         "0",
         "BENIGN"
        ],
        [
         "4",
         "49486",
         "3",
         "2",
         "0",
         "12",
         "0",
         "6",
         "6",
         "6.0",
         "0.0",
         "0",
         "0",
         "0.0",
         "0.0",
         "4000000.0",
         "666666.666666667",
         "3.0",
         "0.0",
         "3",
         "3",
         "3",
         "3.0",
         "0.0",
         "3",
         "3",
         "0",
         "0.0",
         "0.0",
         "0",
         "0",
         "0",
         "0",
         "0",
         "0",
         "40",
         "0",
         "666666.666666667",
         "0.0",
         "6",
         "6",
         "6.0",
         "0.0",
         "0.0",
         "0",
         "0",
         "0",
         "0",
         "1",
         "1",
         "0",
         "0",
         "0",
         "9.0",
         "6.0",
         "0.0",
         "40",
         "0",
         "0",
         "0",
         "0",
         "0",
         "0",
         "2",
         "12",
         "0",
         "0",
         "245",
         "-1",
         "1",
         "20",
         "0.0",
         "0.0",
         "0",
         "0",
         "0.0",
         "0.0",
         "0",
         "0",
         "BENIGN"
        ]
       ],
       "shape": {
        "columns": 79,
        "rows": 5
       }
      },
      "text/html": [
       "<div>\n",
       "<style scoped>\n",
       "    .dataframe tbody tr th:only-of-type {\n",
       "        vertical-align: middle;\n",
       "    }\n",
       "\n",
       "    .dataframe tbody tr th {\n",
       "        vertical-align: top;\n",
       "    }\n",
       "\n",
       "    .dataframe thead th {\n",
       "        text-align: right;\n",
       "    }\n",
       "</style>\n",
       "<table border=\"1\" class=\"dataframe\">\n",
       "  <thead>\n",
       "    <tr style=\"text-align: right;\">\n",
       "      <th></th>\n",
       "      <th>Destination Port</th>\n",
       "      <th>Flow Duration</th>\n",
       "      <th>Total Fwd Packets</th>\n",
       "      <th>Total Backward Packets</th>\n",
       "      <th>Total Length of Fwd Packets</th>\n",
       "      <th>Total Length of Bwd Packets</th>\n",
       "      <th>Fwd Packet Length Max</th>\n",
       "      <th>Fwd Packet Length Min</th>\n",
       "      <th>Fwd Packet Length Mean</th>\n",
       "      <th>Fwd Packet Length Std</th>\n",
       "      <th>...</th>\n",
       "      <th>min_seg_size_forward</th>\n",
       "      <th>Active Mean</th>\n",
       "      <th>Active Std</th>\n",
       "      <th>Active Max</th>\n",
       "      <th>Active Min</th>\n",
       "      <th>Idle Mean</th>\n",
       "      <th>Idle Std</th>\n",
       "      <th>Idle Max</th>\n",
       "      <th>Idle Min</th>\n",
       "      <th>Label</th>\n",
       "    </tr>\n",
       "  </thead>\n",
       "  <tbody>\n",
       "    <tr>\n",
       "      <th>0</th>\n",
       "      <td>49188</td>\n",
       "      <td>4</td>\n",
       "      <td>2</td>\n",
       "      <td>0</td>\n",
       "      <td>12</td>\n",
       "      <td>0</td>\n",
       "      <td>6</td>\n",
       "      <td>6</td>\n",
       "      <td>6.0</td>\n",
       "      <td>0.0</td>\n",
       "      <td>...</td>\n",
       "      <td>20</td>\n",
       "      <td>0.0</td>\n",
       "      <td>0.0</td>\n",
       "      <td>0</td>\n",
       "      <td>0</td>\n",
       "      <td>0.0</td>\n",
       "      <td>0.0</td>\n",
       "      <td>0</td>\n",
       "      <td>0</td>\n",
       "      <td>BENIGN</td>\n",
       "    </tr>\n",
       "    <tr>\n",
       "      <th>1</th>\n",
       "      <td>49188</td>\n",
       "      <td>1</td>\n",
       "      <td>2</td>\n",
       "      <td>0</td>\n",
       "      <td>12</td>\n",
       "      <td>0</td>\n",
       "      <td>6</td>\n",
       "      <td>6</td>\n",
       "      <td>6.0</td>\n",
       "      <td>0.0</td>\n",
       "      <td>...</td>\n",
       "      <td>20</td>\n",
       "      <td>0.0</td>\n",
       "      <td>0.0</td>\n",
       "      <td>0</td>\n",
       "      <td>0</td>\n",
       "      <td>0.0</td>\n",
       "      <td>0.0</td>\n",
       "      <td>0</td>\n",
       "      <td>0</td>\n",
       "      <td>BENIGN</td>\n",
       "    </tr>\n",
       "    <tr>\n",
       "      <th>2</th>\n",
       "      <td>49188</td>\n",
       "      <td>1</td>\n",
       "      <td>2</td>\n",
       "      <td>0</td>\n",
       "      <td>12</td>\n",
       "      <td>0</td>\n",
       "      <td>6</td>\n",
       "      <td>6</td>\n",
       "      <td>6.0</td>\n",
       "      <td>0.0</td>\n",
       "      <td>...</td>\n",
       "      <td>20</td>\n",
       "      <td>0.0</td>\n",
       "      <td>0.0</td>\n",
       "      <td>0</td>\n",
       "      <td>0</td>\n",
       "      <td>0.0</td>\n",
       "      <td>0.0</td>\n",
       "      <td>0</td>\n",
       "      <td>0</td>\n",
       "      <td>BENIGN</td>\n",
       "    </tr>\n",
       "    <tr>\n",
       "      <th>3</th>\n",
       "      <td>49188</td>\n",
       "      <td>1</td>\n",
       "      <td>2</td>\n",
       "      <td>0</td>\n",
       "      <td>12</td>\n",
       "      <td>0</td>\n",
       "      <td>6</td>\n",
       "      <td>6</td>\n",
       "      <td>6.0</td>\n",
       "      <td>0.0</td>\n",
       "      <td>...</td>\n",
       "      <td>20</td>\n",
       "      <td>0.0</td>\n",
       "      <td>0.0</td>\n",
       "      <td>0</td>\n",
       "      <td>0</td>\n",
       "      <td>0.0</td>\n",
       "      <td>0.0</td>\n",
       "      <td>0</td>\n",
       "      <td>0</td>\n",
       "      <td>BENIGN</td>\n",
       "    </tr>\n",
       "    <tr>\n",
       "      <th>4</th>\n",
       "      <td>49486</td>\n",
       "      <td>3</td>\n",
       "      <td>2</td>\n",
       "      <td>0</td>\n",
       "      <td>12</td>\n",
       "      <td>0</td>\n",
       "      <td>6</td>\n",
       "      <td>6</td>\n",
       "      <td>6.0</td>\n",
       "      <td>0.0</td>\n",
       "      <td>...</td>\n",
       "      <td>20</td>\n",
       "      <td>0.0</td>\n",
       "      <td>0.0</td>\n",
       "      <td>0</td>\n",
       "      <td>0</td>\n",
       "      <td>0.0</td>\n",
       "      <td>0.0</td>\n",
       "      <td>0</td>\n",
       "      <td>0</td>\n",
       "      <td>BENIGN</td>\n",
       "    </tr>\n",
       "  </tbody>\n",
       "</table>\n",
       "<p>5 rows × 79 columns</p>\n",
       "</div>"
      ],
      "text/plain": [
       "    Destination Port   Flow Duration   Total Fwd Packets  \\\n",
       "0              49188               4                   2   \n",
       "1              49188               1                   2   \n",
       "2              49188               1                   2   \n",
       "3              49188               1                   2   \n",
       "4              49486               3                   2   \n",
       "\n",
       "    Total Backward Packets  Total Length of Fwd Packets  \\\n",
       "0                        0                           12   \n",
       "1                        0                           12   \n",
       "2                        0                           12   \n",
       "3                        0                           12   \n",
       "4                        0                           12   \n",
       "\n",
       "    Total Length of Bwd Packets   Fwd Packet Length Max  \\\n",
       "0                             0                       6   \n",
       "1                             0                       6   \n",
       "2                             0                       6   \n",
       "3                             0                       6   \n",
       "4                             0                       6   \n",
       "\n",
       "    Fwd Packet Length Min   Fwd Packet Length Mean   Fwd Packet Length Std  \\\n",
       "0                       6                      6.0                     0.0   \n",
       "1                       6                      6.0                     0.0   \n",
       "2                       6                      6.0                     0.0   \n",
       "3                       6                      6.0                     0.0   \n",
       "4                       6                      6.0                     0.0   \n",
       "\n",
       "   ...   min_seg_size_forward  Active Mean   Active Std   Active Max  \\\n",
       "0  ...                     20          0.0          0.0            0   \n",
       "1  ...                     20          0.0          0.0            0   \n",
       "2  ...                     20          0.0          0.0            0   \n",
       "3  ...                     20          0.0          0.0            0   \n",
       "4  ...                     20          0.0          0.0            0   \n",
       "\n",
       "    Active Min  Idle Mean   Idle Std   Idle Max   Idle Min   Label  \n",
       "0            0        0.0        0.0          0          0  BENIGN  \n",
       "1            0        0.0        0.0          0          0  BENIGN  \n",
       "2            0        0.0        0.0          0          0  BENIGN  \n",
       "3            0        0.0        0.0          0          0  BENIGN  \n",
       "4            0        0.0        0.0          0          0  BENIGN  \n",
       "\n",
       "[5 rows x 79 columns]"
      ]
     },
     "execution_count": 6,
     "metadata": {},
     "output_type": "execute_result"
    }
   ],
   "source": [
    "df_train.head(5)"
   ]
  },
  {
   "cell_type": "code",
   "execution_count": 7,
   "metadata": {},
   "outputs": [
    {
     "data": {
      "text/plain": [
       "(2830743, 79)"
      ]
     },
     "execution_count": 7,
     "metadata": {},
     "output_type": "execute_result"
    }
   ],
   "source": [
    "df_train.shape"
   ]
  },
  {
   "cell_type": "code",
   "execution_count": 8,
   "metadata": {},
   "outputs": [
    {
     "name": "stdout",
     "output_type": "stream",
     "text": [
      "<class 'pandas.core.frame.DataFrame'>\n",
      "RangeIndex: 2830743 entries, 0 to 2830742\n",
      "Data columns (total 79 columns):\n",
      " #   Column                        Dtype  \n",
      "---  ------                        -----  \n",
      " 0    Destination Port             int64  \n",
      " 1    Flow Duration                int64  \n",
      " 2    Total Fwd Packets            int64  \n",
      " 3    Total Backward Packets       int64  \n",
      " 4   Total Length of Fwd Packets   int64  \n",
      " 5    Total Length of Bwd Packets  int64  \n",
      " 6    Fwd Packet Length Max        int64  \n",
      " 7    Fwd Packet Length Min        int64  \n",
      " 8    Fwd Packet Length Mean       float64\n",
      " 9    Fwd Packet Length Std        float64\n",
      " 10  Bwd Packet Length Max         int64  \n",
      " 11   Bwd Packet Length Min        int64  \n",
      " 12   Bwd Packet Length Mean       float64\n",
      " 13   Bwd Packet Length Std        float64\n",
      " 14  Flow Bytes/s                  float64\n",
      " 15   Flow Packets/s               float64\n",
      " 16   Flow IAT Mean                float64\n",
      " 17   Flow IAT Std                 float64\n",
      " 18   Flow IAT Max                 int64  \n",
      " 19   Flow IAT Min                 int64  \n",
      " 20  Fwd IAT Total                 int64  \n",
      " 21   Fwd IAT Mean                 float64\n",
      " 22   Fwd IAT Std                  float64\n",
      " 23   Fwd IAT Max                  int64  \n",
      " 24   Fwd IAT Min                  int64  \n",
      " 25  Bwd IAT Total                 int64  \n",
      " 26   Bwd IAT Mean                 float64\n",
      " 27   Bwd IAT Std                  float64\n",
      " 28   Bwd IAT Max                  int64  \n",
      " 29   Bwd IAT Min                  int64  \n",
      " 30  Fwd PSH Flags                 int64  \n",
      " 31   Bwd PSH Flags                int64  \n",
      " 32   Fwd URG Flags                int64  \n",
      " 33   Bwd URG Flags                int64  \n",
      " 34   Fwd Header Length            int64  \n",
      " 35   Bwd Header Length            int64  \n",
      " 36  Fwd Packets/s                 float64\n",
      " 37   Bwd Packets/s                float64\n",
      " 38   Min Packet Length            int64  \n",
      " 39   Max Packet Length            int64  \n",
      " 40   Packet Length Mean           float64\n",
      " 41   Packet Length Std            float64\n",
      " 42   Packet Length Variance       float64\n",
      " 43  FIN Flag Count                int64  \n",
      " 44   SYN Flag Count               int64  \n",
      " 45   RST Flag Count               int64  \n",
      " 46   PSH Flag Count               int64  \n",
      " 47   ACK Flag Count               int64  \n",
      " 48   URG Flag Count               int64  \n",
      " 49   CWE Flag Count               int64  \n",
      " 50   ECE Flag Count               int64  \n",
      " 51   Down/Up Ratio                int64  \n",
      " 52   Average Packet Size          float64\n",
      " 53   Avg Fwd Segment Size         float64\n",
      " 54   Avg Bwd Segment Size         float64\n",
      " 55   Fwd Header Length.1          int64  \n",
      " 56  Fwd Avg Bytes/Bulk            int64  \n",
      " 57   Fwd Avg Packets/Bulk         int64  \n",
      " 58   Fwd Avg Bulk Rate            int64  \n",
      " 59   Bwd Avg Bytes/Bulk           int64  \n",
      " 60   Bwd Avg Packets/Bulk         int64  \n",
      " 61  Bwd Avg Bulk Rate             int64  \n",
      " 62  Subflow Fwd Packets           int64  \n",
      " 63   Subflow Fwd Bytes            int64  \n",
      " 64   Subflow Bwd Packets          int64  \n",
      " 65   Subflow Bwd Bytes            int64  \n",
      " 66  Init_Win_bytes_forward        int64  \n",
      " 67   Init_Win_bytes_backward      int64  \n",
      " 68   act_data_pkt_fwd             int64  \n",
      " 69   min_seg_size_forward         int64  \n",
      " 70  Active Mean                   float64\n",
      " 71   Active Std                   float64\n",
      " 72   Active Max                   int64  \n",
      " 73   Active Min                   int64  \n",
      " 74  Idle Mean                     float64\n",
      " 75   Idle Std                     float64\n",
      " 76   Idle Max                     int64  \n",
      " 77   Idle Min                     int64  \n",
      " 78   Label                        object \n",
      "dtypes: float64(24), int64(54), object(1)\n",
      "memory usage: 1.7+ GB\n"
     ]
    }
   ],
   "source": [
    "df_train.info()"
   ]
  },
  {
   "cell_type": "code",
   "execution_count": 9,
   "metadata": {},
   "outputs": [
    {
     "name": "stderr",
     "output_type": "stream",
     "text": [
      "c:\\Users\\Harman\\AppData\\Local\\Programs\\Python\\Python312\\Lib\\site-packages\\pandas\\core\\nanops.py:1016: RuntimeWarning: invalid value encountered in subtract\n",
      "  sqr = _ensure_numeric((avg - values) ** 2)\n",
      "c:\\Users\\Harman\\AppData\\Local\\Programs\\Python\\Python312\\Lib\\site-packages\\pandas\\core\\nanops.py:1016: RuntimeWarning: invalid value encountered in subtract\n",
      "  sqr = _ensure_numeric((avg - values) ** 2)\n"
     ]
    },
    {
     "data": {
      "application/vnd.microsoft.datawrangler.viewer.v0+json": {
       "columns": [
        {
         "name": "index",
         "rawType": "object",
         "type": "string"
        },
        {
         "name": " Destination Port",
         "rawType": "float64",
         "type": "float"
        },
        {
         "name": " Flow Duration",
         "rawType": "float64",
         "type": "float"
        },
        {
         "name": " Total Fwd Packets",
         "rawType": "float64",
         "type": "float"
        },
        {
         "name": " Total Backward Packets",
         "rawType": "float64",
         "type": "float"
        },
        {
         "name": "Total Length of Fwd Packets",
         "rawType": "float64",
         "type": "float"
        },
        {
         "name": " Total Length of Bwd Packets",
         "rawType": "float64",
         "type": "float"
        },
        {
         "name": " Fwd Packet Length Max",
         "rawType": "float64",
         "type": "float"
        },
        {
         "name": " Fwd Packet Length Min",
         "rawType": "float64",
         "type": "float"
        },
        {
         "name": " Fwd Packet Length Mean",
         "rawType": "float64",
         "type": "float"
        },
        {
         "name": " Fwd Packet Length Std",
         "rawType": "float64",
         "type": "float"
        },
        {
         "name": "Bwd Packet Length Max",
         "rawType": "float64",
         "type": "float"
        },
        {
         "name": " Bwd Packet Length Min",
         "rawType": "float64",
         "type": "float"
        },
        {
         "name": " Bwd Packet Length Mean",
         "rawType": "float64",
         "type": "float"
        },
        {
         "name": " Bwd Packet Length Std",
         "rawType": "float64",
         "type": "float"
        },
        {
         "name": "Flow Bytes/s",
         "rawType": "float64",
         "type": "float"
        },
        {
         "name": " Flow Packets/s",
         "rawType": "float64",
         "type": "float"
        },
        {
         "name": " Flow IAT Mean",
         "rawType": "float64",
         "type": "float"
        },
        {
         "name": " Flow IAT Std",
         "rawType": "float64",
         "type": "float"
        },
        {
         "name": " Flow IAT Max",
         "rawType": "float64",
         "type": "float"
        },
        {
         "name": " Flow IAT Min",
         "rawType": "float64",
         "type": "float"
        },
        {
         "name": "Fwd IAT Total",
         "rawType": "float64",
         "type": "float"
        },
        {
         "name": " Fwd IAT Mean",
         "rawType": "float64",
         "type": "float"
        },
        {
         "name": " Fwd IAT Std",
         "rawType": "float64",
         "type": "float"
        },
        {
         "name": " Fwd IAT Max",
         "rawType": "float64",
         "type": "float"
        },
        {
         "name": " Fwd IAT Min",
         "rawType": "float64",
         "type": "float"
        },
        {
         "name": "Bwd IAT Total",
         "rawType": "float64",
         "type": "float"
        },
        {
         "name": " Bwd IAT Mean",
         "rawType": "float64",
         "type": "float"
        },
        {
         "name": " Bwd IAT Std",
         "rawType": "float64",
         "type": "float"
        },
        {
         "name": " Bwd IAT Max",
         "rawType": "float64",
         "type": "float"
        },
        {
         "name": " Bwd IAT Min",
         "rawType": "float64",
         "type": "float"
        },
        {
         "name": "Fwd PSH Flags",
         "rawType": "float64",
         "type": "float"
        },
        {
         "name": " Bwd PSH Flags",
         "rawType": "float64",
         "type": "float"
        },
        {
         "name": " Fwd URG Flags",
         "rawType": "float64",
         "type": "float"
        },
        {
         "name": " Bwd URG Flags",
         "rawType": "float64",
         "type": "float"
        },
        {
         "name": " Fwd Header Length",
         "rawType": "float64",
         "type": "float"
        },
        {
         "name": " Bwd Header Length",
         "rawType": "float64",
         "type": "float"
        },
        {
         "name": "Fwd Packets/s",
         "rawType": "float64",
         "type": "float"
        },
        {
         "name": " Bwd Packets/s",
         "rawType": "float64",
         "type": "float"
        },
        {
         "name": " Min Packet Length",
         "rawType": "float64",
         "type": "float"
        },
        {
         "name": " Max Packet Length",
         "rawType": "float64",
         "type": "float"
        },
        {
         "name": " Packet Length Mean",
         "rawType": "float64",
         "type": "float"
        },
        {
         "name": " Packet Length Std",
         "rawType": "float64",
         "type": "float"
        },
        {
         "name": " Packet Length Variance",
         "rawType": "float64",
         "type": "float"
        },
        {
         "name": "FIN Flag Count",
         "rawType": "float64",
         "type": "float"
        },
        {
         "name": " SYN Flag Count",
         "rawType": "float64",
         "type": "float"
        },
        {
         "name": " RST Flag Count",
         "rawType": "float64",
         "type": "float"
        },
        {
         "name": " PSH Flag Count",
         "rawType": "float64",
         "type": "float"
        },
        {
         "name": " ACK Flag Count",
         "rawType": "float64",
         "type": "float"
        },
        {
         "name": " URG Flag Count",
         "rawType": "float64",
         "type": "float"
        },
        {
         "name": " CWE Flag Count",
         "rawType": "float64",
         "type": "float"
        },
        {
         "name": " ECE Flag Count",
         "rawType": "float64",
         "type": "float"
        },
        {
         "name": " Down/Up Ratio",
         "rawType": "float64",
         "type": "float"
        },
        {
         "name": " Average Packet Size",
         "rawType": "float64",
         "type": "float"
        },
        {
         "name": " Avg Fwd Segment Size",
         "rawType": "float64",
         "type": "float"
        },
        {
         "name": " Avg Bwd Segment Size",
         "rawType": "float64",
         "type": "float"
        },
        {
         "name": " Fwd Header Length.1",
         "rawType": "float64",
         "type": "float"
        },
        {
         "name": "Fwd Avg Bytes/Bulk",
         "rawType": "float64",
         "type": "float"
        },
        {
         "name": " Fwd Avg Packets/Bulk",
         "rawType": "float64",
         "type": "float"
        },
        {
         "name": " Fwd Avg Bulk Rate",
         "rawType": "float64",
         "type": "float"
        },
        {
         "name": " Bwd Avg Bytes/Bulk",
         "rawType": "float64",
         "type": "float"
        },
        {
         "name": " Bwd Avg Packets/Bulk",
         "rawType": "float64",
         "type": "float"
        },
        {
         "name": "Bwd Avg Bulk Rate",
         "rawType": "float64",
         "type": "float"
        },
        {
         "name": "Subflow Fwd Packets",
         "rawType": "float64",
         "type": "float"
        },
        {
         "name": " Subflow Fwd Bytes",
         "rawType": "float64",
         "type": "float"
        },
        {
         "name": " Subflow Bwd Packets",
         "rawType": "float64",
         "type": "float"
        },
        {
         "name": " Subflow Bwd Bytes",
         "rawType": "float64",
         "type": "float"
        },
        {
         "name": "Init_Win_bytes_forward",
         "rawType": "float64",
         "type": "float"
        },
        {
         "name": " Init_Win_bytes_backward",
         "rawType": "float64",
         "type": "float"
        },
        {
         "name": " act_data_pkt_fwd",
         "rawType": "float64",
         "type": "float"
        },
        {
         "name": " min_seg_size_forward",
         "rawType": "float64",
         "type": "float"
        },
        {
         "name": "Active Mean",
         "rawType": "float64",
         "type": "float"
        },
        {
         "name": " Active Std",
         "rawType": "float64",
         "type": "float"
        },
        {
         "name": " Active Max",
         "rawType": "float64",
         "type": "float"
        },
        {
         "name": " Active Min",
         "rawType": "float64",
         "type": "float"
        },
        {
         "name": "Idle Mean",
         "rawType": "float64",
         "type": "float"
        },
        {
         "name": " Idle Std",
         "rawType": "float64",
         "type": "float"
        },
        {
         "name": " Idle Max",
         "rawType": "float64",
         "type": "float"
        },
        {
         "name": " Idle Min",
         "rawType": "float64",
         "type": "float"
        }
       ],
       "conversionMethod": "pd.DataFrame",
       "ref": "6fe2ca43-beff-4e04-b426-cb98b778f02d",
       "rows": [
        [
         "count",
         "2830743.0",
         "2830743.0",
         "2830743.0",
         "2830743.0",
         "2830743.0",
         "2830743.0",
         "2830743.0",
         "2830743.0",
         "2830743.0",
         "2830743.0",
         "2830743.0",
         "2830743.0",
         "2830743.0",
         "2830743.0",
         "2829385.0",
         "2830743.0",
         "2830743.0",
         "2830743.0",
         "2830743.0",
         "2830743.0",
         "2830743.0",
         "2830743.0",
         "2830743.0",
         "2830743.0",
         "2830743.0",
         "2830743.0",
         "2830743.0",
         "2830743.0",
         "2830743.0",
         "2830743.0",
         "2830743.0",
         "2830743.0",
         "2830743.0",
         "2830743.0",
         "2830743.0",
         "2830743.0",
         "2830743.0",
         "2830743.0",
         "2830743.0",
         "2830743.0",
         "2830743.0",
         "2830743.0",
         "2830743.0",
         "2830743.0",
         "2830743.0",
         "2830743.0",
         "2830743.0",
         "2830743.0",
         "2830743.0",
         "2830743.0",
         "2830743.0",
         "2830743.0",
         "2830743.0",
         "2830743.0",
         "2830743.0",
         "2830743.0",
         "2830743.0",
         "2830743.0",
         "2830743.0",
         "2830743.0",
         "2830743.0",
         "2830743.0",
         "2830743.0",
         "2830743.0",
         "2830743.0",
         "2830743.0",
         "2830743.0",
         "2830743.0",
         "2830743.0",
         "2830743.0",
         "2830743.0",
         "2830743.0",
         "2830743.0",
         "2830743.0",
         "2830743.0",
         "2830743.0",
         "2830743.0",
         "2830743.0"
        ],
        [
         "mean",
         "8071.482501237308",
         "14785663.929521684",
         "9.361159949878884",
         "10.393770116185044",
         "549.3024145957439",
         "16162.64254649751",
         "207.59994107554095",
         "18.713656096650244",
         "58.201938528123726",
         "68.91013354422381",
         "870.849454719132",
         "41.049579209416045",
         "305.9492813499291",
         "335.3257206074603",
         "inf",
         "inf",
         "1298448.7086653907",
         "2919270.9187548785",
         "9182475.317050682",
         "162379.56178430893",
         "14482961.734189222",
         "2610192.9735423233",
         "3266957.2220508326",
         "9042938.558814418",
         "1021892.905134447",
         "9893830.350136695",
         "1805783.7673780427",
         "1485973.3473393077",
         "4684692.427954428",
         "967261.3707574301",
         "0.04644646299575765",
         "0.0",
         "0.00011127820505075876",
         "0.0",
         "-25997.391975887604",
         "-2273.2753195892387",
         "63865.34641143763",
         "6995.191742603615",
         "16.43450465125234",
         "950.4024445172168",
         "171.9443902490029",
         "294.9755544254997",
         "486154.794138407",
         "0.035379757187423935",
         "0.04644646299575765",
         "0.0002423392021105413",
         "0.29807050657724843",
         "0.31584428540492726",
         "0.0948231612689672",
         "0.00011127820505075876",
         "0.00024339899453959613",
         "0.6835004096097739",
         "191.9836575929453",
         "58.201938528123726",
         "305.9492813499384",
         "-25997.391975887604",
         "0.0",
         "0.0",
         "0.0",
         "0.0",
         "0.0",
         "0.0",
         "9.361159949878884",
         "549.2919360747337",
         "10.393770116185044",
         "16162.302467938629",
         "6989.837446211119",
         "1989.4329767838337",
         "5.418217761202624",
         "-2741.687868520738",
         "81551.32101232203",
         "41134.11677514876",
         "153182.52126950416",
         "58295.8177443166",
         "8316036.627207771",
         "503843.9497793042",
         "8695751.984585673",
         "7920031.014637146"
        ],
        [
         "std",
         "18283.632172375615",
         "33653744.08585522",
         "749.6727924980048",
         "997.388268905092",
         "9993.589229393498",
         "2263088.051725945",
         "717.1848417583044",
         "60.339345351018956",
         "186.09115654962315",
         "281.18709207898524",
         "1946.3673768747035",
         "68.8626026472474",
         "605.2568001421857",
         "839.6932177113687",
         null,
         null,
         "4507944.173794318",
         "8045869.779654581",
         "24459539.25084251",
         "2950281.776805729",
         "33575811.64646707",
         "9525722.485326521",
         "9639055.40034876",
         "24529157.399698883",
         "8591436.338554349",
         "28736614.198887218",
         "8887197.079007313",
         "6278468.565082395",
         "17160950.05862681",
         "8308983.091314676",
         "0.21045000526664118",
         "0.0",
         "0.01054826343613389",
         "0.0",
         "21052857.873173933",
         "1452208.9395910762",
         "247537.12964203066",
         "38151.697683194856",
         "25.237720797695662",
         "2028.2291463396568",
         "305.4914611394873",
         "631.8000730314723",
         "1647489.8653099036",
         "0.18473776556242197",
         "0.21045000526664118",
         "0.01556536409502509",
         "0.45741070560008057",
         "0.4648513193674706",
         "0.2929705781767337",
         "0.01054826343613389",
         "0.015599353750469704",
         "0.6804919860804203",
         "331.8603492541883",
         "186.09115654962315",
         "605.256800142205",
         "21052857.873173933",
         "0.0",
         "0.0",
         "0.0",
         "0.0",
         "0.0",
         "0.0",
         "749.6727924980048",
         "9980.070243937707",
         "997.388268905092",
         "2263057.28350848",
         "14338.725836818834",
         "8456.883156982456",
         "636.4256638996872",
         "1084989.3838169882",
         "648599.9367739789",
         "393381.51531683165",
         "1025824.9749109314",
         "577092.281910223",
         "23630078.57795056",
         "4602984.480672001",
         "24366888.32904312",
         "23363418.9274783"
        ],
        [
         "min",
         "0.0",
         "-13.0",
         "1.0",
         "0.0",
         "0.0",
         "0.0",
         "0.0",
         "0.0",
         "0.0",
         "0.0",
         "0.0",
         "0.0",
         "0.0",
         "0.0",
         "-261000000.0",
         "-2000000.0",
         "-13.0",
         "0.0",
         "-13.0",
         "-14.0",
         "0.0",
         "0.0",
         "0.0",
         "0.0",
         "-12.0",
         "0.0",
         "0.0",
         "0.0",
         "0.0",
         "0.0",
         "0.0",
         "0.0",
         "0.0",
         "0.0",
         "-32212234632.0",
         "-1073741320.0",
         "0.0",
         "0.0",
         "0.0",
         "0.0",
         "0.0",
         "0.0",
         "0.0",
         "0.0",
         "0.0",
         "0.0",
         "0.0",
         "0.0",
         "0.0",
         "0.0",
         "0.0",
         "0.0",
         "0.0",
         "0.0",
         "0.0",
         "-32212234632.0",
         "0.0",
         "0.0",
         "0.0",
         "0.0",
         "0.0",
         "0.0",
         "1.0",
         "0.0",
         "0.0",
         "0.0",
         "-1.0",
         "-1.0",
         "0.0",
         "-536870661.0",
         "0.0",
         "0.0",
         "0.0",
         "0.0",
         "0.0",
         "0.0",
         "0.0",
         "0.0"
        ],
        [
         "25%",
         "53.0",
         "155.0",
         "2.0",
         "1.0",
         "12.0",
         "0.0",
         "6.0",
         "0.0",
         "6.0",
         "0.0",
         "0.0",
         "0.0",
         "0.0",
         "0.0",
         "119.3197311",
         "3.44622571255",
         "63.66666667",
         "0.0",
         "123.0",
         "3.0",
         "0.0",
         "0.0",
         "0.0",
         "0.0",
         "0.0",
         "0.0",
         "0.0",
         "0.0",
         "0.0",
         "0.0",
         "0.0",
         "0.0",
         "0.0",
         "0.0",
         "40.0",
         "20.0",
         "1.7494464485",
         "0.1229197105",
         "0.0",
         "6.0",
         "6.0",
         "0.0",
         "0.0",
         "0.0",
         "0.0",
         "0.0",
         "0.0",
         "0.0",
         "0.0",
         "0.0",
         "0.0",
         "0.0",
         "7.5",
         "6.0",
         "0.0",
         "40.0",
         "0.0",
         "0.0",
         "0.0",
         "0.0",
         "0.0",
         "0.0",
         "2.0",
         "12.0",
         "1.0",
         "0.0",
         "-1.0",
         "-1.0",
         "0.0",
         "20.0",
         "0.0",
         "0.0",
         "0.0",
         "0.0",
         "0.0",
         "0.0",
         "0.0",
         "0.0"
        ],
        [
         "50%",
         "80.0",
         "31316.0",
         "2.0",
         "2.0",
         "62.0",
         "123.0",
         "37.0",
         "2.0",
         "34.0",
         "0.0",
         "79.0",
         "0.0",
         "72.0",
         "0.0",
         "4595.549126",
         "110.6684374",
         "11438.84211",
         "137.1787156",
         "30865.0",
         "4.0",
         "43.0",
         "26.0",
         "0.0",
         "43.0",
         "3.0",
         "3.0",
         "3.0",
         "0.0",
         "3.0",
         "1.0",
         "0.0",
         "0.0",
         "0.0",
         "0.0",
         "64.0",
         "40.0",
         "61.3252384019",
         "19.82789388",
         "2.0",
         "87.0",
         "57.2",
         "25.98076211",
         "675.0",
         "0.0",
         "0.0",
         "0.0",
         "0.0",
         "0.0",
         "0.0",
         "0.0",
         "0.0",
         "1.0",
         "72.25",
         "34.0",
         "72.0",
         "64.0",
         "0.0",
         "0.0",
         "0.0",
         "0.0",
         "0.0",
         "0.0",
         "2.0",
         "62.0",
         "2.0",
         "123.0",
         "251.0",
         "-1.0",
         "1.0",
         "24.0",
         "0.0",
         "0.0",
         "0.0",
         "0.0",
         "0.0",
         "0.0",
         "0.0",
         "0.0"
        ],
        [
         "75%",
         "443.0",
         "3204828.5",
         "5.0",
         "4.0",
         "187.0",
         "482.0",
         "81.0",
         "36.0",
         "50.0",
         "26.1629509",
         "280.0",
         "77.0",
         "181.0",
         "77.9405367747",
         "166666.6667",
         "23255.81395",
         "337426.6",
         "691266.2815",
         "2440145.0",
         "64.0",
         "1242843.5",
         "206306.35835",
         "65989.821745",
         "931006.0",
         "48.0",
         "98580.5",
         "18248.56744",
         "15724.092965",
         "60210.0",
         "45.0",
         "0.0",
         "0.0",
         "0.0",
         "0.0",
         "120.0",
         "104.0",
         "12048.19277",
         "7352.941176",
         "36.0",
         "525.0",
         "119.8",
         "174.32394935000002",
         "30388.83933",
         "0.0",
         "0.0",
         "0.0",
         "1.0",
         "1.0",
         "0.0",
         "0.0",
         "0.0",
         "1.0",
         "149.2639319",
         "50.0",
         "181.0",
         "120.0",
         "0.0",
         "0.0",
         "0.0",
         "0.0",
         "0.0",
         "0.0",
         "5.0",
         "187.0",
         "4.0",
         "482.0",
         "8192.0",
         "235.0",
         "2.0",
         "32.0",
         "0.0",
         "0.0",
         "0.0",
         "0.0",
         "0.0",
         "0.0",
         "0.0",
         "0.0"
        ],
        [
         "max",
         "65535.0",
         "119999998.0",
         "219759.0",
         "291922.0",
         "12900000.0",
         "655453030.0",
         "24820.0",
         "2325.0",
         "5940.857143",
         "7125.5968458437",
         "19530.0",
         "2896.0",
         "5800.5",
         "8194.660487",
         "inf",
         "inf",
         "120000000.0",
         "84800261.5664079",
         "120000000.0",
         "120000000.0",
         "120000000.0",
         "120000000.0",
         "84602929.2769822",
         "120000000.0",
         "120000000.0",
         "120000000.0",
         "120000000.0",
         "84418013.7826341",
         "120000000.0",
         "120000000.0",
         "1.0",
         "0.0",
         "1.0",
         "0.0",
         "4644908.0",
         "5838440.0",
         "3000000.0",
         "2000000.0",
         "1448.0",
         "24820.0",
         "3337.142857",
         "4731.522394",
         "22400000.0",
         "1.0",
         "1.0",
         "1.0",
         "1.0",
         "1.0",
         "1.0",
         "1.0",
         "1.0",
         "156.0",
         "3893.333333",
         "5940.857143",
         "5800.5",
         "4644908.0",
         "0.0",
         "0.0",
         "0.0",
         "0.0",
         "0.0",
         "0.0",
         "219759.0",
         "12870338.0",
         "291922.0",
         "655453030.0",
         "65535.0",
         "65535.0",
         "213557.0",
         "138.0",
         "110000000.0",
         "74200000.0",
         "110000000.0",
         "110000000.0",
         "120000000.0",
         "76900000.0",
         "120000000.0",
         "120000000.0"
        ]
       ],
       "shape": {
        "columns": 78,
        "rows": 8
       }
      },
      "text/html": [
       "<div>\n",
       "<style scoped>\n",
       "    .dataframe tbody tr th:only-of-type {\n",
       "        vertical-align: middle;\n",
       "    }\n",
       "\n",
       "    .dataframe tbody tr th {\n",
       "        vertical-align: top;\n",
       "    }\n",
       "\n",
       "    .dataframe thead th {\n",
       "        text-align: right;\n",
       "    }\n",
       "</style>\n",
       "<table border=\"1\" class=\"dataframe\">\n",
       "  <thead>\n",
       "    <tr style=\"text-align: right;\">\n",
       "      <th></th>\n",
       "      <th>Destination Port</th>\n",
       "      <th>Flow Duration</th>\n",
       "      <th>Total Fwd Packets</th>\n",
       "      <th>Total Backward Packets</th>\n",
       "      <th>Total Length of Fwd Packets</th>\n",
       "      <th>Total Length of Bwd Packets</th>\n",
       "      <th>Fwd Packet Length Max</th>\n",
       "      <th>Fwd Packet Length Min</th>\n",
       "      <th>Fwd Packet Length Mean</th>\n",
       "      <th>Fwd Packet Length Std</th>\n",
       "      <th>...</th>\n",
       "      <th>act_data_pkt_fwd</th>\n",
       "      <th>min_seg_size_forward</th>\n",
       "      <th>Active Mean</th>\n",
       "      <th>Active Std</th>\n",
       "      <th>Active Max</th>\n",
       "      <th>Active Min</th>\n",
       "      <th>Idle Mean</th>\n",
       "      <th>Idle Std</th>\n",
       "      <th>Idle Max</th>\n",
       "      <th>Idle Min</th>\n",
       "    </tr>\n",
       "  </thead>\n",
       "  <tbody>\n",
       "    <tr>\n",
       "      <th>count</th>\n",
       "      <td>2.830743e+06</td>\n",
       "      <td>2.830743e+06</td>\n",
       "      <td>2.830743e+06</td>\n",
       "      <td>2.830743e+06</td>\n",
       "      <td>2.830743e+06</td>\n",
       "      <td>2.830743e+06</td>\n",
       "      <td>2.830743e+06</td>\n",
       "      <td>2.830743e+06</td>\n",
       "      <td>2.830743e+06</td>\n",
       "      <td>2.830743e+06</td>\n",
       "      <td>...</td>\n",
       "      <td>2.830743e+06</td>\n",
       "      <td>2.830743e+06</td>\n",
       "      <td>2.830743e+06</td>\n",
       "      <td>2.830743e+06</td>\n",
       "      <td>2.830743e+06</td>\n",
       "      <td>2.830743e+06</td>\n",
       "      <td>2.830743e+06</td>\n",
       "      <td>2.830743e+06</td>\n",
       "      <td>2.830743e+06</td>\n",
       "      <td>2.830743e+06</td>\n",
       "    </tr>\n",
       "    <tr>\n",
       "      <th>mean</th>\n",
       "      <td>8.071483e+03</td>\n",
       "      <td>1.478566e+07</td>\n",
       "      <td>9.361160e+00</td>\n",
       "      <td>1.039377e+01</td>\n",
       "      <td>5.493024e+02</td>\n",
       "      <td>1.616264e+04</td>\n",
       "      <td>2.075999e+02</td>\n",
       "      <td>1.871366e+01</td>\n",
       "      <td>5.820194e+01</td>\n",
       "      <td>6.891013e+01</td>\n",
       "      <td>...</td>\n",
       "      <td>5.418218e+00</td>\n",
       "      <td>-2.741688e+03</td>\n",
       "      <td>8.155132e+04</td>\n",
       "      <td>4.113412e+04</td>\n",
       "      <td>1.531825e+05</td>\n",
       "      <td>5.829582e+04</td>\n",
       "      <td>8.316037e+06</td>\n",
       "      <td>5.038439e+05</td>\n",
       "      <td>8.695752e+06</td>\n",
       "      <td>7.920031e+06</td>\n",
       "    </tr>\n",
       "    <tr>\n",
       "      <th>std</th>\n",
       "      <td>1.828363e+04</td>\n",
       "      <td>3.365374e+07</td>\n",
       "      <td>7.496728e+02</td>\n",
       "      <td>9.973883e+02</td>\n",
       "      <td>9.993589e+03</td>\n",
       "      <td>2.263088e+06</td>\n",
       "      <td>7.171848e+02</td>\n",
       "      <td>6.033935e+01</td>\n",
       "      <td>1.860912e+02</td>\n",
       "      <td>2.811871e+02</td>\n",
       "      <td>...</td>\n",
       "      <td>6.364257e+02</td>\n",
       "      <td>1.084989e+06</td>\n",
       "      <td>6.485999e+05</td>\n",
       "      <td>3.933815e+05</td>\n",
       "      <td>1.025825e+06</td>\n",
       "      <td>5.770923e+05</td>\n",
       "      <td>2.363008e+07</td>\n",
       "      <td>4.602984e+06</td>\n",
       "      <td>2.436689e+07</td>\n",
       "      <td>2.336342e+07</td>\n",
       "    </tr>\n",
       "    <tr>\n",
       "      <th>min</th>\n",
       "      <td>0.000000e+00</td>\n",
       "      <td>-1.300000e+01</td>\n",
       "      <td>1.000000e+00</td>\n",
       "      <td>0.000000e+00</td>\n",
       "      <td>0.000000e+00</td>\n",
       "      <td>0.000000e+00</td>\n",
       "      <td>0.000000e+00</td>\n",
       "      <td>0.000000e+00</td>\n",
       "      <td>0.000000e+00</td>\n",
       "      <td>0.000000e+00</td>\n",
       "      <td>...</td>\n",
       "      <td>0.000000e+00</td>\n",
       "      <td>-5.368707e+08</td>\n",
       "      <td>0.000000e+00</td>\n",
       "      <td>0.000000e+00</td>\n",
       "      <td>0.000000e+00</td>\n",
       "      <td>0.000000e+00</td>\n",
       "      <td>0.000000e+00</td>\n",
       "      <td>0.000000e+00</td>\n",
       "      <td>0.000000e+00</td>\n",
       "      <td>0.000000e+00</td>\n",
       "    </tr>\n",
       "    <tr>\n",
       "      <th>25%</th>\n",
       "      <td>5.300000e+01</td>\n",
       "      <td>1.550000e+02</td>\n",
       "      <td>2.000000e+00</td>\n",
       "      <td>1.000000e+00</td>\n",
       "      <td>1.200000e+01</td>\n",
       "      <td>0.000000e+00</td>\n",
       "      <td>6.000000e+00</td>\n",
       "      <td>0.000000e+00</td>\n",
       "      <td>6.000000e+00</td>\n",
       "      <td>0.000000e+00</td>\n",
       "      <td>...</td>\n",
       "      <td>0.000000e+00</td>\n",
       "      <td>2.000000e+01</td>\n",
       "      <td>0.000000e+00</td>\n",
       "      <td>0.000000e+00</td>\n",
       "      <td>0.000000e+00</td>\n",
       "      <td>0.000000e+00</td>\n",
       "      <td>0.000000e+00</td>\n",
       "      <td>0.000000e+00</td>\n",
       "      <td>0.000000e+00</td>\n",
       "      <td>0.000000e+00</td>\n",
       "    </tr>\n",
       "    <tr>\n",
       "      <th>50%</th>\n",
       "      <td>8.000000e+01</td>\n",
       "      <td>3.131600e+04</td>\n",
       "      <td>2.000000e+00</td>\n",
       "      <td>2.000000e+00</td>\n",
       "      <td>6.200000e+01</td>\n",
       "      <td>1.230000e+02</td>\n",
       "      <td>3.700000e+01</td>\n",
       "      <td>2.000000e+00</td>\n",
       "      <td>3.400000e+01</td>\n",
       "      <td>0.000000e+00</td>\n",
       "      <td>...</td>\n",
       "      <td>1.000000e+00</td>\n",
       "      <td>2.400000e+01</td>\n",
       "      <td>0.000000e+00</td>\n",
       "      <td>0.000000e+00</td>\n",
       "      <td>0.000000e+00</td>\n",
       "      <td>0.000000e+00</td>\n",
       "      <td>0.000000e+00</td>\n",
       "      <td>0.000000e+00</td>\n",
       "      <td>0.000000e+00</td>\n",
       "      <td>0.000000e+00</td>\n",
       "    </tr>\n",
       "    <tr>\n",
       "      <th>75%</th>\n",
       "      <td>4.430000e+02</td>\n",
       "      <td>3.204828e+06</td>\n",
       "      <td>5.000000e+00</td>\n",
       "      <td>4.000000e+00</td>\n",
       "      <td>1.870000e+02</td>\n",
       "      <td>4.820000e+02</td>\n",
       "      <td>8.100000e+01</td>\n",
       "      <td>3.600000e+01</td>\n",
       "      <td>5.000000e+01</td>\n",
       "      <td>2.616295e+01</td>\n",
       "      <td>...</td>\n",
       "      <td>2.000000e+00</td>\n",
       "      <td>3.200000e+01</td>\n",
       "      <td>0.000000e+00</td>\n",
       "      <td>0.000000e+00</td>\n",
       "      <td>0.000000e+00</td>\n",
       "      <td>0.000000e+00</td>\n",
       "      <td>0.000000e+00</td>\n",
       "      <td>0.000000e+00</td>\n",
       "      <td>0.000000e+00</td>\n",
       "      <td>0.000000e+00</td>\n",
       "    </tr>\n",
       "    <tr>\n",
       "      <th>max</th>\n",
       "      <td>6.553500e+04</td>\n",
       "      <td>1.200000e+08</td>\n",
       "      <td>2.197590e+05</td>\n",
       "      <td>2.919220e+05</td>\n",
       "      <td>1.290000e+07</td>\n",
       "      <td>6.554530e+08</td>\n",
       "      <td>2.482000e+04</td>\n",
       "      <td>2.325000e+03</td>\n",
       "      <td>5.940857e+03</td>\n",
       "      <td>7.125597e+03</td>\n",
       "      <td>...</td>\n",
       "      <td>2.135570e+05</td>\n",
       "      <td>1.380000e+02</td>\n",
       "      <td>1.100000e+08</td>\n",
       "      <td>7.420000e+07</td>\n",
       "      <td>1.100000e+08</td>\n",
       "      <td>1.100000e+08</td>\n",
       "      <td>1.200000e+08</td>\n",
       "      <td>7.690000e+07</td>\n",
       "      <td>1.200000e+08</td>\n",
       "      <td>1.200000e+08</td>\n",
       "    </tr>\n",
       "  </tbody>\n",
       "</table>\n",
       "<p>8 rows × 78 columns</p>\n",
       "</div>"
      ],
      "text/plain": [
       "        Destination Port   Flow Duration   Total Fwd Packets  \\\n",
       "count       2.830743e+06    2.830743e+06        2.830743e+06   \n",
       "mean        8.071483e+03    1.478566e+07        9.361160e+00   \n",
       "std         1.828363e+04    3.365374e+07        7.496728e+02   \n",
       "min         0.000000e+00   -1.300000e+01        1.000000e+00   \n",
       "25%         5.300000e+01    1.550000e+02        2.000000e+00   \n",
       "50%         8.000000e+01    3.131600e+04        2.000000e+00   \n",
       "75%         4.430000e+02    3.204828e+06        5.000000e+00   \n",
       "max         6.553500e+04    1.200000e+08        2.197590e+05   \n",
       "\n",
       "        Total Backward Packets  Total Length of Fwd Packets  \\\n",
       "count             2.830743e+06                 2.830743e+06   \n",
       "mean              1.039377e+01                 5.493024e+02   \n",
       "std               9.973883e+02                 9.993589e+03   \n",
       "min               0.000000e+00                 0.000000e+00   \n",
       "25%               1.000000e+00                 1.200000e+01   \n",
       "50%               2.000000e+00                 6.200000e+01   \n",
       "75%               4.000000e+00                 1.870000e+02   \n",
       "max               2.919220e+05                 1.290000e+07   \n",
       "\n",
       "        Total Length of Bwd Packets   Fwd Packet Length Max  \\\n",
       "count                  2.830743e+06            2.830743e+06   \n",
       "mean                   1.616264e+04            2.075999e+02   \n",
       "std                    2.263088e+06            7.171848e+02   \n",
       "min                    0.000000e+00            0.000000e+00   \n",
       "25%                    0.000000e+00            6.000000e+00   \n",
       "50%                    1.230000e+02            3.700000e+01   \n",
       "75%                    4.820000e+02            8.100000e+01   \n",
       "max                    6.554530e+08            2.482000e+04   \n",
       "\n",
       "        Fwd Packet Length Min   Fwd Packet Length Mean  \\\n",
       "count            2.830743e+06             2.830743e+06   \n",
       "mean             1.871366e+01             5.820194e+01   \n",
       "std              6.033935e+01             1.860912e+02   \n",
       "min              0.000000e+00             0.000000e+00   \n",
       "25%              0.000000e+00             6.000000e+00   \n",
       "50%              2.000000e+00             3.400000e+01   \n",
       "75%              3.600000e+01             5.000000e+01   \n",
       "max              2.325000e+03             5.940857e+03   \n",
       "\n",
       "        Fwd Packet Length Std  ...   act_data_pkt_fwd   min_seg_size_forward  \\\n",
       "count            2.830743e+06  ...       2.830743e+06           2.830743e+06   \n",
       "mean             6.891013e+01  ...       5.418218e+00          -2.741688e+03   \n",
       "std              2.811871e+02  ...       6.364257e+02           1.084989e+06   \n",
       "min              0.000000e+00  ...       0.000000e+00          -5.368707e+08   \n",
       "25%              0.000000e+00  ...       0.000000e+00           2.000000e+01   \n",
       "50%              0.000000e+00  ...       1.000000e+00           2.400000e+01   \n",
       "75%              2.616295e+01  ...       2.000000e+00           3.200000e+01   \n",
       "max              7.125597e+03  ...       2.135570e+05           1.380000e+02   \n",
       "\n",
       "        Active Mean    Active Std    Active Max    Active Min     Idle Mean  \\\n",
       "count  2.830743e+06  2.830743e+06  2.830743e+06  2.830743e+06  2.830743e+06   \n",
       "mean   8.155132e+04  4.113412e+04  1.531825e+05  5.829582e+04  8.316037e+06   \n",
       "std    6.485999e+05  3.933815e+05  1.025825e+06  5.770923e+05  2.363008e+07   \n",
       "min    0.000000e+00  0.000000e+00  0.000000e+00  0.000000e+00  0.000000e+00   \n",
       "25%    0.000000e+00  0.000000e+00  0.000000e+00  0.000000e+00  0.000000e+00   \n",
       "50%    0.000000e+00  0.000000e+00  0.000000e+00  0.000000e+00  0.000000e+00   \n",
       "75%    0.000000e+00  0.000000e+00  0.000000e+00  0.000000e+00  0.000000e+00   \n",
       "max    1.100000e+08  7.420000e+07  1.100000e+08  1.100000e+08  1.200000e+08   \n",
       "\n",
       "           Idle Std      Idle Max      Idle Min  \n",
       "count  2.830743e+06  2.830743e+06  2.830743e+06  \n",
       "mean   5.038439e+05  8.695752e+06  7.920031e+06  \n",
       "std    4.602984e+06  2.436689e+07  2.336342e+07  \n",
       "min    0.000000e+00  0.000000e+00  0.000000e+00  \n",
       "25%    0.000000e+00  0.000000e+00  0.000000e+00  \n",
       "50%    0.000000e+00  0.000000e+00  0.000000e+00  \n",
       "75%    0.000000e+00  0.000000e+00  0.000000e+00  \n",
       "max    7.690000e+07  1.200000e+08  1.200000e+08  \n",
       "\n",
       "[8 rows x 78 columns]"
      ]
     },
     "execution_count": 9,
     "metadata": {},
     "output_type": "execute_result"
    }
   ],
   "source": [
    "df_train.describe()"
   ]
  },
  {
   "cell_type": "code",
   "execution_count": 10,
   "metadata": {},
   "outputs": [
    {
     "data": {
      "text/plain": [
       "Index([' Destination Port', ' Flow Duration', ' Total Fwd Packets',\n",
       "       ' Total Backward Packets', 'Total Length of Fwd Packets',\n",
       "       ' Total Length of Bwd Packets', ' Fwd Packet Length Max',\n",
       "       ' Fwd Packet Length Min', ' Fwd Packet Length Mean',\n",
       "       ' Fwd Packet Length Std', 'Bwd Packet Length Max',\n",
       "       ' Bwd Packet Length Min', ' Bwd Packet Length Mean',\n",
       "       ' Bwd Packet Length Std', 'Flow Bytes/s', ' Flow Packets/s',\n",
       "       ' Flow IAT Mean', ' Flow IAT Std', ' Flow IAT Max', ' Flow IAT Min',\n",
       "       'Fwd IAT Total', ' Fwd IAT Mean', ' Fwd IAT Std', ' Fwd IAT Max',\n",
       "       ' Fwd IAT Min', 'Bwd IAT Total', ' Bwd IAT Mean', ' Bwd IAT Std',\n",
       "       ' Bwd IAT Max', ' Bwd IAT Min', 'Fwd PSH Flags', ' Bwd PSH Flags',\n",
       "       ' Fwd URG Flags', ' Bwd URG Flags', ' Fwd Header Length',\n",
       "       ' Bwd Header Length', 'Fwd Packets/s', ' Bwd Packets/s',\n",
       "       ' Min Packet Length', ' Max Packet Length', ' Packet Length Mean',\n",
       "       ' Packet Length Std', ' Packet Length Variance', 'FIN Flag Count',\n",
       "       ' SYN Flag Count', ' RST Flag Count', ' PSH Flag Count',\n",
       "       ' ACK Flag Count', ' URG Flag Count', ' CWE Flag Count',\n",
       "       ' ECE Flag Count', ' Down/Up Ratio', ' Average Packet Size',\n",
       "       ' Avg Fwd Segment Size', ' Avg Bwd Segment Size',\n",
       "       ' Fwd Header Length.1', 'Fwd Avg Bytes/Bulk', ' Fwd Avg Packets/Bulk',\n",
       "       ' Fwd Avg Bulk Rate', ' Bwd Avg Bytes/Bulk', ' Bwd Avg Packets/Bulk',\n",
       "       'Bwd Avg Bulk Rate', 'Subflow Fwd Packets', ' Subflow Fwd Bytes',\n",
       "       ' Subflow Bwd Packets', ' Subflow Bwd Bytes', 'Init_Win_bytes_forward',\n",
       "       ' Init_Win_bytes_backward', ' act_data_pkt_fwd',\n",
       "       ' min_seg_size_forward', 'Active Mean', ' Active Std', ' Active Max',\n",
       "       ' Active Min', 'Idle Mean', ' Idle Std', ' Idle Max', ' Idle Min',\n",
       "       ' Label'],\n",
       "      dtype='object')"
      ]
     },
     "execution_count": 10,
     "metadata": {},
     "output_type": "execute_result"
    }
   ],
   "source": [
    "df_train.columns"
   ]
  },
  {
   "cell_type": "markdown",
   "metadata": {},
   "source": [
    "## Step 2. Data Cleaning"
   ]
  },
  {
   "cell_type": "markdown",
   "metadata": {},
   "source": [
    "### A. Missing values"
   ]
  },
  {
   "cell_type": "code",
   "execution_count": 11,
   "metadata": {},
   "outputs": [
    {
     "name": "stdout",
     "output_type": "stream",
     "text": [
      "1358\n"
     ]
    }
   ],
   "source": [
    "print(df_train.isna().sum().sum())"
   ]
  },
  {
   "cell_type": "code",
   "execution_count": 12,
   "metadata": {},
   "outputs": [],
   "source": [
    "df_train.dropna(subset=[\"Flow Bytes/s\"], inplace=True)"
   ]
  },
  {
   "cell_type": "code",
   "execution_count": 13,
   "metadata": {},
   "outputs": [
    {
     "name": "stdout",
     "output_type": "stream",
     "text": [
      "0\n"
     ]
    }
   ],
   "source": [
    "print(df_train.isna().sum().sum())"
   ]
  },
  {
   "cell_type": "markdown",
   "metadata": {},
   "source": [
    "### Inf. values"
   ]
  },
  {
   "cell_type": "code",
   "execution_count": 14,
   "metadata": {},
   "outputs": [],
   "source": [
    "df_train = df_train.replace([np.inf, -np.inf], np.nan).dropna()"
   ]
  },
  {
   "cell_type": "markdown",
   "metadata": {},
   "source": [
    "## Step 3. Data Preparation"
   ]
  },
  {
   "cell_type": "markdown",
   "metadata": {},
   "source": [
    "### A. Categorical data"
   ]
  },
  {
   "cell_type": "code",
   "execution_count": 15,
   "metadata": {},
   "outputs": [
    {
     "name": "stdout",
     "output_type": "stream",
     "text": [
      "Column ' Label' contains 15 unique values, namely ['BENIGN', 'FTP-Patator', 'SSH-Patator', 'DoS slowloris', 'DoS Slowhttptest', 'DoS Hulk', 'DoS GoldenEye', 'Heartbleed', 'Infiltration', 'Web Attack � Brute Force', 'Web Attack � XSS', 'Web Attack � Sql Injection', 'DDoS', 'PortScan', 'Bot']\n"
     ]
    }
   ],
   "source": [
    "categorical_columns = df_train.select_dtypes(include=['object']).columns\n",
    "\n",
    "for column in categorical_columns:\n",
    "\tprint(f\"Column '{column}' contains {len(df_train[column].value_counts())} unique values, namely {df_train[column].unique().tolist()}\")"
   ]
  },
  {
   "cell_type": "code",
   "execution_count": 16,
   "metadata": {},
   "outputs": [
    {
     "name": "stderr",
     "output_type": "stream",
     "text": [
      "C:\\Users\\Harman\\AppData\\Local\\Temp\\ipykernel_12360\\2531058536.py:8: UserWarning: Glyph 65533 (\\N{REPLACEMENT CHARACTER}) missing from font(s) Arial.\n",
      "  plt.tight_layout()\n",
      "C:\\Users\\Harman\\AppData\\Roaming\\Python\\Python312\\site-packages\\IPython\\core\\pylabtools.py:170: UserWarning: Glyph 65533 (\\N{REPLACEMENT CHARACTER}) missing from font(s) Arial.\n",
      "  fig.canvas.print_figure(bytes_io, **kw)\n"
     ]
    },
    {
     "data": {
      "image/png": "[encoded data removed]",
      "text/plain": [
       "<Figure size 1200x500 with 1 Axes>"
      ]
     },
     "metadata": {},
     "output_type": "display_data"
    }
   ],
   "source": [
    "df = df_train\n",
    "\n",
    "plt.figure(figsize=(12, 5))\n",
    "sns.histplot(data=df, y=df[\" Label\"])\n",
    "plt.ylabel(\" \")\n",
    "plt.title(f\"Distribution of Label\", fontweight=\"bold\")\n",
    "\n",
    "plt.tight_layout()\n",
    "plt.show()"
   ]
  },
  {
   "cell_type": "markdown",
   "metadata": {},
   "source": [
    "## Step 4. Preparing dataset for modeling"
   ]
  },
  {
   "cell_type": "markdown",
   "metadata": {},
   "source": [
    "### A. Normalise numeric features"
   ]
  },
  {
   "cell_type": "code",
   "execution_count": 17,
   "metadata": {},
   "outputs": [],
   "source": [
    "# Get all numerical columns\n",
    "numerical_columns = df_train.select_dtypes(include=\"number\").columns"
   ]
  },
  {
   "cell_type": "code",
   "execution_count": 18,
   "metadata": {},
   "outputs": [],
   "source": [
    "from sklearn.preprocessing import MinMaxScaler\n",
    "scaler = MinMaxScaler()\n",
    "df_train[numerical_columns] = scaler.fit_transform(df_train[numerical_columns])"
   ]
  },
  {
   "cell_type": "markdown",
   "metadata": {},
   "source": [
    "### B. Map Labels to Multi-class"
   ]
  },
  {
   "cell_type": "code",
   "execution_count": 19,
   "metadata": {},
   "outputs": [
    {
     "data": {
      "text/plain": [
       " Label\n",
       "BENIGN                        2271320\n",
       "DoS Hulk                       230124\n",
       "PortScan                       158804\n",
       "DDoS                           128025\n",
       "DoS GoldenEye                   10293\n",
       "FTP-Patator                      7935\n",
       "SSH-Patator                      5897\n",
       "DoS slowloris                    5796\n",
       "DoS Slowhttptest                 5499\n",
       "Bot                              1956\n",
       "Web Attack � Brute Force         1507\n",
       "Web Attack � XSS                  652\n",
       "Infiltration                       36\n",
       "Web Attack � Sql Injection         21\n",
       "Heartbleed                         11\n",
       "Name: count, dtype: int64"
      ]
     },
     "execution_count": 19,
     "metadata": {},
     "output_type": "execute_result"
    }
   ],
   "source": [
    "df_train[\" Label\"].value_counts()"
   ]
  },
  {
   "cell_type": "code",
   "execution_count": 20,
   "metadata": {},
   "outputs": [],
   "source": [
    "attack_mapping = {\n",
    "\t\"BENIGN\": 0,\n",
    "\t\"DoS Hulk\": 1,\n",
    "\t\"PortScan\": 2,\n",
    "\t\"DDoS\": 3,\n",
    "\t\"DoS GoldenEye\": 4,\n",
    "\t\"FTP-Patator\": 5,\n",
    "\t\"SSH-Patator\": 6,\n",
    "\t\"DoS slowloris\": 7,\n",
    "\t\"DoS Slowhttptest\": 8,\n",
    "\t\"Bot\": 9,\n",
    "\t\"Web Attack � Brute Force\": 10,\n",
    "\t\"Web Attack � XSS\": 11,\n",
    "\t\"Infiltration\": 12,\n",
    "\t\"Web Attack � Sql Injection\": 13,\n",
    "\t\"Heartbleed\": 14,\n",
    "}\n",
    "\n",
    "df_train[\" Label\"] = df_train[\" Label\"].map(attack_mapping)"
   ]
  },
  {
   "cell_type": "code",
   "execution_count": 21,
   "metadata": {},
   "outputs": [
    {
     "data": {
      "text/plain": [
       " Label\n",
       "0     2271320\n",
       "1      230124\n",
       "2      158804\n",
       "3      128025\n",
       "4       10293\n",
       "5        7935\n",
       "6        5897\n",
       "7        5796\n",
       "8        5499\n",
       "9        1956\n",
       "10       1507\n",
       "11        652\n",
       "12         36\n",
       "13         21\n",
       "14         11\n",
       "Name: count, dtype: int64"
      ]
     },
     "execution_count": 21,
     "metadata": {},
     "output_type": "execute_result"
    }
   ],
   "source": [
    "df_train[\" Label\"].value_counts()"
   ]
  },
  {
   "cell_type": "markdown",
   "metadata": {},
   "source": [
    "### C. Data Splitting"
   ]
  },
  {
   "cell_type": "code",
   "execution_count": 22,
   "metadata": {},
   "outputs": [],
   "source": [
    "X = df_train.drop(columns=\" Label\")\n",
    "y = df_train[\" Label\"]"
   ]
  },
  {
   "cell_type": "code",
   "execution_count": 23,
   "metadata": {},
   "outputs": [],
   "source": [
    "from sklearn.model_selection import train_test_split\n",
    "X_train, X_test, y_train, y_test = train_test_split(X, y, test_size=0.2, random_state=42)"
   ]
  },
  {
   "cell_type": "markdown",
   "metadata": {},
   "source": [
    "### D. Apply SMOTE to balance the training data"
   ]
  },
  {
   "cell_type": "code",
   "execution_count": 24,
   "metadata": {},
   "outputs": [],
   "source": [
    "from imblearn.over_sampling import SMOTE\n",
    "smote = SMOTE(random_state=42)\n",
    "\n",
    "X_train_balanced, y_train_balanced = smote.fit_resample(X_train, y_train)\n",
    "\n",
    "# takes about 3m05s"
   ]
  },
  {
   "cell_type": "code",
   "execution_count": 25,
   "metadata": {},
   "outputs": [
    {
     "name": "stdout",
     "output_type": "stream",
     "text": [
      "Class distribution before SMOTE: Counter({0: 1817112, 1: 184342, 2: 126927, 3: 102239, 4: 8219, 5: 6363, 6: 4769, 7: 4630, 8: 4390, 9: 1515, 10: 1206, 11: 533, 12: 29, 13: 17, 14: 9})\n",
      "Class distribution after SMOTE: Counter({0: 1817112, 6: 1817112, 1: 1817112, 3: 1817112, 2: 1817112, 7: 1817112, 4: 1817112, 11: 1817112, 9: 1817112, 5: 1817112, 8: 1817112, 10: 1817112, 12: 1817112, 13: 1817112, 14: 1817112})\n"
     ]
    }
   ],
   "source": [
    "# Check class distribution after SMOTE\n",
    "from collections import Counter\n",
    "\n",
    "print(f\"Class distribution before SMOTE: {Counter(y_train)}\")\n",
    "print(f\"Class distribution after SMOTE: {Counter(y_train_balanced)}\")"
   ]
  },
  {
   "cell_type": "markdown",
   "metadata": {},
   "source": [
    "### E. PyTorch Model Design"
   ]
  },
  {
   "cell_type": "markdown",
   "metadata": {},
   "source": [
    "#### 1. CNN Feature Extractor"
   ]
  },
  {
   "cell_type": "code",
   "execution_count": null,
   "metadata": {},
   "outputs": [],
   "source": [
    "import torch\n",
    "import torch.nn as nn\n",
    "import torch.optim as optim\n",
    "\n",
    "from torch.utils.data import DataLoader, TensorDataset\n",
    "from sklearn.metrics import accuracy_score, f1_score, classification_report\n",
    "\n",
    "# Define CNN Feature Extractor\n",
    "class CNNFeatureExtractor(nn.Module):\n",
    "    def __init__(self, input_size, num_filters=32):\n",
    "        super(CNNFeatureExtractor, self).__init__()\n",
    "        self.conv1 = nn.Conv1d(in_channels=1, out_channels=num_filters, kernel_size=3, stride=1, padding=1)\n",
    "        self.relu = nn.ReLU()\n",
    "        self.pool = nn.MaxPool1d(kernel_size=2, stride=2)\n",
    "        self.flatten = nn.Flatten()\n",
    "        self.fc = nn.Linear((input_size // 2) * num_filters, 64)\n",
    "    \n",
    "    def forward(self, x):\n",
    "        x = x.unsqueeze(1)  # Add channel dimension\n",
    "        x = self.conv1(x)\n",
    "        x = self.relu(x)\n",
    "        x = self.pool(x)\n",
    "        x = self.flatten(x)\n",
    "        return self.fc(x)"
   ]
  },
  {
   "cell_type": "markdown",
   "metadata": {},
   "source": [
    "#### 2. Generator-Discriminator"
   ]
  },
  {
   "cell_type": "code",
   "execution_count": 29,
   "metadata": {},
   "outputs": [],
   "source": [
    "# Define Generator\n",
    "class Generator(nn.Module):\n",
    "    def __init__(self, noise_dim, output_dim):\n",
    "        super(Generator, self).__init__()\n",
    "        self.model = nn.Sequential(\n",
    "            nn.Linear(noise_dim, 128),\n",
    "            nn.ReLU(),\n",
    "            nn.Linear(128, output_dim),\n",
    "            nn.Tanh()\n",
    "        )\n",
    "    \n",
    "    def forward(self, x):\n",
    "        return self.model(x)\n",
    "\n",
    "\n",
    "# Define Discriminator\n",
    "class Discriminator(nn.Module):\n",
    "    def __init__(self, input_dim):\n",
    "        super(Discriminator, self).__init__()\n",
    "        self.model = nn.Sequential(\n",
    "            nn.Linear(input_dim, 128),\n",
    "            nn.ReLU(),\n",
    "            nn.Linear(128, 1),\n",
    "            nn.Sigmoid()\n",
    "        )\n",
    "    \n",
    "    def forward(self, x):\n",
    "        return self.model(x)"
   ]
  },
  {
   "cell_type": "markdown",
   "metadata": {},
   "source": [
    "#### 3. Define Hybrid Model"
   ]
  },
  {
   "cell_type": "code",
   "execution_count": 30,
   "metadata": {},
   "outputs": [],
   "source": [
    "# Define Hybrid Model\n",
    "class HybridCNNGAN(nn.Module):\n",
    "    def __init__(self, input_size, output_size, noise_dim=32):\n",
    "        super(HybridCNNGAN, self).__init__()\n",
    "        self.feature_extractor = CNNFeatureExtractor(input_size)\n",
    "        self.classifier = nn.Linear(64, output_size)\n",
    "        self.generator = Generator(noise_dim, input_size)\n",
    "        self.discriminator = Discriminator(input_size)\n",
    "    \n",
    "    def forward(self, x):\n",
    "        features = self.feature_extractor(x)\n",
    "        return self.classifier(features)"
   ]
  },
  {
   "cell_type": "code",
   "execution_count": 31,
   "metadata": {},
   "outputs": [],
   "source": [
    "# Initialize model\n",
    "input_size = X_train_balanced.shape[1]\n",
    "output_size = len(attack_mapping)\n",
    "device = torch.device(\"cuda\" if torch.cuda.is_available() else \"cpu\")\n",
    "model = HybridCNNGAN(input_size, output_size).to(device)"
   ]
  },
  {
   "cell_type": "markdown",
   "metadata": {},
   "source": [
    "### F. Training the Model"
   ]
  },
  {
   "cell_type": "code",
   "execution_count": null,
   "metadata": {},
   "outputs": [
    {
     "name": "stdout",
     "output_type": "stream",
     "text": [
      "Epoch [1/5] - Progress: 100.00% - Loss: 0.1475 - Accuracy: 0.9282\n",
      "Epoch [2/5] - Progress: 100.00% - Loss: 0.1140 - Accuracy: 0.9427\n",
      "Epoch [3/5] - Progress: 100.00% - Loss: 0.1078 - Accuracy: 0.9444\n",
      "Epoch [4/5] - Progress: 100.00% - Loss: 0.1051 - Accuracy: 0.9452\n",
      "Epoch [5/5] - Progress: 100.00% - Loss: 0.1032 - Accuracy: 0.9459\n"
     ]
    }
   ],
   "source": [
    "# Training Setup\n",
    "criterion = nn.CrossEntropyLoss()\n",
    "optimizer = optim.Adam(model.parameters(), lr=0.001)\n",
    "train_dataset = TensorDataset(torch.tensor(X_train_balanced.values, dtype=torch.float32).to(device),\n",
    "                              torch.tensor(y_train_balanced.values, dtype=torch.long).to(device))\n",
    "train_loader = DataLoader(train_dataset, batch_size=64, shuffle=True)\n",
    "\n",
    "# Training Loop\n",
    "num_epochs = 5\n",
    "for epoch in range(num_epochs):\n",
    "    model.train()\n",
    "    total_loss, correct, total = 0, 0, 0\n",
    "    for i, (data, labels) in enumerate(train_loader):\n",
    "        optimizer.zero_grad()\n",
    "        outputs = model(data)\n",
    "        loss = criterion(outputs, labels)\n",
    "        loss.backward()\n",
    "        optimizer.step()\n",
    "        total_loss += loss.item()\n",
    "        _, predicted = torch.max(outputs.data, 1)\n",
    "        total += labels.size(0)\n",
    "        correct += (predicted == labels).sum().item()\n",
    "        progress = (i + 1) / len(train_loader) * 100\n",
    "        print(f'\\rEpoch [{epoch+1}/{num_epochs}] - Progress: {progress:.2f}%', end='')\n",
    "    print(f' - Loss: {total_loss/len(train_loader):.4f} - Accuracy: {correct/total:.4f}')\n",
    "\n",
    " \n",
    "# 5 epochs took 83m15s"
   ]
  },
  {
   "cell_type": "code",
   "execution_count": 34,
   "metadata": {},
   "outputs": [],
   "source": [
    "torch.save(model.state_dict(), './models/hybrid_cnn_gan_FULL.pth')"
   ]
  },
  {
   "cell_type": "markdown",
   "metadata": {},
   "source": [
    "### G. Evaluating both Models"
   ]
  },
  {
   "cell_type": "code",
   "execution_count": 36,
   "metadata": {},
   "outputs": [],
   "source": [
    "# Copy over the old architecture\n",
    "class NetworkIDSModel(nn.Module):\n",
    "    def __init__(self, input_size, hidden_size, output_size):\n",
    "        super(NetworkIDSModel, self).__init__()\n",
    "        self.fc1 = nn.Linear(input_size, hidden_size)\n",
    "        self.relu = nn.ReLU()\n",
    "        self.fc2 = nn.Linear(hidden_size, output_size)\n",
    "        self.softmax = nn.Softmax(dim=1)\n",
    "\n",
    "    def forward(self, x):\n",
    "        x = self.fc1(x)\n",
    "        x = self.relu(x)\n",
    "        x = self.fc2(x)\n",
    "        return self.softmax(x)"
   ]
  },
  {
   "cell_type": "code",
   "execution_count": 37,
   "metadata": {},
   "outputs": [
    {
     "name": "stderr",
     "output_type": "stream",
     "text": [
      "C:\\Users\\Harman\\AppData\\Local\\Temp\\ipykernel_12360\\2848441135.py:2: FutureWarning: You are using `torch.load` with `weights_only=False` (the current default value), which uses the default pickle module implicitly. It is possible to construct malicious pickle data which will execute arbitrary code during unpickling (See https://github.com/pytorch/pytorch/blob/main/SECURITY.md#untrusted-models for more details). In a future release, the default value for `weights_only` will be flipped to `True`. This limits the functions that could be executed during unpickling. Arbitrary objects will no longer be allowed to be loaded via this mode unless they are explicitly allowlisted by the user via `torch.serialization.add_safe_globals`. We recommend you start setting `weights_only=True` for any use case where you don't have full control of the loaded file. Please open an issue on GitHub for any issues related to this experimental feature.\n",
      "  old_model.load_state_dict(torch.load('./models/ids_model_FULL.pth'))\n",
      "C:\\Users\\Harman\\AppData\\Local\\Temp\\ipykernel_12360\\2848441135.py:6: FutureWarning: You are using `torch.load` with `weights_only=False` (the current default value), which uses the default pickle module implicitly. It is possible to construct malicious pickle data which will execute arbitrary code during unpickling (See https://github.com/pytorch/pytorch/blob/main/SECURITY.md#untrusted-models for more details). In a future release, the default value for `weights_only` will be flipped to `True`. This limits the functions that could be executed during unpickling. Arbitrary objects will no longer be allowed to be loaded via this mode unless they are explicitly allowlisted by the user via `torch.serialization.add_safe_globals`. We recommend you start setting `weights_only=True` for any use case where you don't have full control of the loaded file. Please open an issue on GitHub for any issues related to this experimental feature.\n",
      "  new_model.load_state_dict(torch.load('./models/hybrid_cnn_gan_FULL.pth'))\n"
     ]
    },
    {
     "data": {
      "text/plain": [
       "HybridCNNGAN(\n",
       "  (feature_extractor): CNNFeatureExtractor(\n",
       "    (conv1): Conv1d(1, 32, kernel_size=(3,), stride=(1,), padding=(1,))\n",
       "    (relu): ReLU()\n",
       "    (pool): MaxPool1d(kernel_size=2, stride=2, padding=0, dilation=1, ceil_mode=False)\n",
       "    (flatten): Flatten(start_dim=1, end_dim=-1)\n",
       "    (fc): Linear(in_features=1248, out_features=64, bias=True)\n",
       "  )\n",
       "  (classifier): Linear(in_features=64, out_features=15, bias=True)\n",
       "  (generator): Generator(\n",
       "    (model): Sequential(\n",
       "      (0): Linear(in_features=32, out_features=128, bias=True)\n",
       "      (1): ReLU()\n",
       "      (2): Linear(in_features=128, out_features=78, bias=True)\n",
       "      (3): Tanh()\n",
       "    )\n",
       "  )\n",
       "  (discriminator): Discriminator(\n",
       "    (model): Sequential(\n",
       "      (0): Linear(in_features=78, out_features=128, bias=True)\n",
       "      (1): ReLU()\n",
       "      (2): Linear(in_features=128, out_features=1, bias=True)\n",
       "      (3): Sigmoid()\n",
       "    )\n",
       "  )\n",
       ")"
      ]
     },
     "execution_count": 37,
     "metadata": {},
     "output_type": "execute_result"
    }
   ],
   "source": [
    "old_model = NetworkIDSModel(input_size, 64, output_size).to(device)\n",
    "old_model.load_state_dict(torch.load('./models/ids_model_FULL.pth'))\n",
    "old_model.eval()\n",
    "\n",
    "new_model = HybridCNNGAN(input_size, output_size).to(device)\n",
    "new_model.load_state_dict(torch.load('./models/hybrid_cnn_gan_FULL.pth'))\n",
    "new_model.eval()"
   ]
  },
  {
   "cell_type": "code",
   "execution_count": 39,
   "metadata": {},
   "outputs": [
    {
     "name": "stdout",
     "output_type": "stream",
     "text": [
      "Old Model:\n",
      "Accuracy: 0.9452, F1 Score: 0.9509\n",
      "                            precision    recall  f1-score   support\n",
      "\n",
      "                    BENIGN       0.99      0.96      0.98    454208\n",
      "                  DoS Hulk       1.00      0.71      0.83     45782\n",
      "                  PortScan       0.83      1.00      0.91     31877\n",
      "                      DDoS       0.75      1.00      0.86     25786\n",
      "             DoS GoldenEye       0.70      1.00      0.82      2074\n",
      "               FTP-Patator       0.98      1.00      0.99      1572\n",
      "               SSH-Patator       0.94      0.48      0.64      1128\n",
      "             DoS slowloris       0.78      0.87      0.82      1166\n",
      "          DoS Slowhttptest       0.84      0.68      0.75      1109\n",
      "                       Bot       0.08      0.99      0.14       441\n",
      "  Web Attack � Brute Force       0.00      0.00      0.00       301\n",
      "          Web Attack � XSS       0.05      0.97      0.10       119\n",
      "              Infiltration       0.04      0.71      0.07         7\n",
      "Web Attack � Sql Injection       0.00      0.00      0.00         4\n",
      "                Heartbleed       0.07      1.00      0.12         2\n",
      "\n",
      "                  accuracy                           0.95    565576\n",
      "                 macro avg       0.54      0.76      0.54    565576\n",
      "              weighted avg       0.96      0.95      0.95    565576\n",
      "\n",
      "New Hybrid Model:\n",
      "Accuracy: 0.9775, F1 Score: 0.9812\n",
      "                            precision    recall  f1-score   support\n",
      "\n",
      "                    BENIGN       1.00      0.97      0.99    454208\n",
      "                  DoS Hulk       0.95      1.00      0.97     45782\n",
      "                  PortScan       0.90      1.00      0.95     31877\n",
      "                      DDoS       1.00      1.00      1.00     25786\n",
      "             DoS GoldenEye       0.87      1.00      0.93      2074\n",
      "               FTP-Patator       0.94      1.00      0.97      1572\n",
      "               SSH-Patator       0.57      1.00      0.73      1128\n",
      "             DoS slowloris       0.72      0.99      0.83      1166\n",
      "          DoS Slowhttptest       0.85      0.99      0.91      1109\n",
      "                       Bot       0.10      0.99      0.19       441\n",
      "  Web Attack � Brute Force       0.27      0.49      0.34       301\n",
      "          Web Attack � XSS       0.15      0.79      0.25       119\n",
      "              Infiltration       0.14      0.71      0.23         7\n",
      "Web Attack � Sql Injection       0.02      0.50      0.03         4\n",
      "                Heartbleed       1.00      1.00      1.00         2\n",
      "\n",
      "                  accuracy                           0.98    565576\n",
      "                 macro avg       0.63      0.90      0.69    565576\n",
      "              weighted avg       0.99      0.98      0.98    565576\n",
      "\n"
     ]
    }
   ],
   "source": [
    "# Evaluation\n",
    "\n",
    "device = torch.device(\"cpu\")\n",
    "old_model.to(device)\n",
    "new_model.to(device)\n",
    "\n",
    "X_test_tensor = torch.tensor(X_test.values, dtype=torch.float32).to(device)\n",
    "y_test_tensor = torch.tensor(y_test.values, dtype=torch.long).to(device)\n",
    "\n",
    "\n",
    "def evaluate_model(model, X, y):\n",
    "    with torch.no_grad():\n",
    "        outputs = model(X)\n",
    "        _, predicted = torch.max(outputs.data, 1)\n",
    "    acc = accuracy_score(y.cpu().numpy(), predicted.cpu().numpy())\n",
    "    f1 = f1_score(y.cpu().numpy(), predicted.cpu().numpy(), average='weighted')\n",
    "    report = classification_report(y.cpu().numpy(), predicted.cpu().numpy(), target_names=attack_mapping)\n",
    "    return acc, f1, report\n",
    "\n",
    "old_acc, old_f1, old_report = evaluate_model(old_model, X_test_tensor, y_test_tensor)\n",
    "new_acc, new_f1, new_report = evaluate_model(new_model, X_test_tensor, y_test_tensor)\n",
    "\n",
    "print(\"Old Model:\")\n",
    "print(f\"Accuracy: {old_acc:.4f}, F1 Score: {old_f1:.4f}\\n{old_report}\")\n",
    "print(\"New Hybrid Model:\")\n",
    "print(f\"Accuracy: {new_acc:.4f}, F1 Score: {new_f1:.4f}\\n{new_report}\")"
   ]
  }
 ],
 "metadata": {
  "kernelspec": {
   "display_name": "Python 3",
   "language": "python",
   "name": "python3"
  },
  "language_info": {
   "codemirror_mode": {
    "name": "ipython",
    "version": 3
   },
   "file_extension": ".py",
   "mimetype": "text/x-python",
   "name": "python",
   "nbconvert_exporter": "python",
   "pygments_lexer": "ipython3",
   "version": "3.12.7"
  }
 },
 "nbformat": 4,
 "nbformat_minor": 2
}
