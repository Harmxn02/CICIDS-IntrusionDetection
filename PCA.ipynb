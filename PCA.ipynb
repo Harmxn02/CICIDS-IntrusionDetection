{
 "cells": [
  {
   "cell_type": "markdown",
   "metadata": {},
   "source": [
    "# CICIDS\n",
    "\n",
    "### **PCA.ipynb**\n",
    "\n",
    "The CICIDS2017 dataset is a comprehensive dataset for network intrusion detection, created by the Canadian Institute for Cybersecurity. It includes a diverse set of attack scenarios and normal traffic, making it suitable for training and evaluating intrusion detection systems.\n",
    "\n",
    "The dataset includes various types of attacks such as Brute Force, Heartbleed, Botnet, DoS (Denial of Service), DDoS (Distributed Denial of Service), Web attacks, and Infiltration of the network from inside.\n",
    "\n",
    "In this notebook we attempt to replicate the usage of PCA explained in the paper [\"Towards Model Generalization for Intrusion Detection: Unsupervised Machine Learning Techniques\"](https://biblio.ugent.be/publication/8725248)"
   ]
  },
  {
   "cell_type": "code",
   "execution_count": 1,
   "metadata": {},
   "outputs": [],
   "source": [
    "model_name = \"PCA\""
   ]
  },
  {
   "cell_type": "code",
   "execution_count": 2,
   "metadata": {},
   "outputs": [],
   "source": [
    "import warnings\n",
    "from sklearn.exceptions import UndefinedMetricWarning\n",
    "warnings.filterwarnings(\"ignore\", category=UndefinedMetricWarning)"
   ]
  },
  {
   "cell_type": "markdown",
   "metadata": {},
   "source": [
    "## Step 1. Read data and import necessary libraries"
   ]
  },
  {
   "cell_type": "code",
   "execution_count": 3,
   "metadata": {},
   "outputs": [],
   "source": [
    "import pandas as pd\n",
    "df_train = pd.read_csv(\"./data/concatenated/concat.csv\")"
   ]
  },
  {
   "cell_type": "code",
   "execution_count": 4,
   "metadata": {},
   "outputs": [
    {
     "data": {
      "application/vnd.microsoft.datawrangler.viewer.v0+json": {
       "columns": [
        {
         "name": "index",
         "rawType": "int64",
         "type": "integer"
        },
        {
         "name": " Destination Port",
         "rawType": "int64",
         "type": "integer"
        },
        {
         "name": " Flow Duration",
         "rawType": "int64",
         "type": "integer"
        },
        {
         "name": " Total Fwd Packets",
         "rawType": "int64",
         "type": "integer"
        },
        {
         "name": " Total Backward Packets",
         "rawType": "int64",
         "type": "integer"
        },
        {
         "name": "Total Length of Fwd Packets",
         "rawType": "int64",
         "type": "integer"
        },
        {
         "name": " Total Length of Bwd Packets",
         "rawType": "int64",
         "type": "integer"
        },
        {
         "name": " Fwd Packet Length Max",
         "rawType": "int64",
         "type": "integer"
        },
        {
         "name": " Fwd Packet Length Min",
         "rawType": "int64",
         "type": "integer"
        },
        {
         "name": " Fwd Packet Length Mean",
         "rawType": "float64",
         "type": "float"
        },
        {
         "name": " Fwd Packet Length Std",
         "rawType": "float64",
         "type": "float"
        },
        {
         "name": "Bwd Packet Length Max",
         "rawType": "int64",
         "type": "integer"
        },
        {
         "name": " Bwd Packet Length Min",
         "rawType": "int64",
         "type": "integer"
        },
        {
         "name": " Bwd Packet Length Mean",
         "rawType": "float64",
         "type": "float"
        },
        {
         "name": " Bwd Packet Length Std",
         "rawType": "float64",
         "type": "float"
        },
        {
         "name": "Flow Bytes/s",
         "rawType": "float64",
         "type": "float"
        },
        {
         "name": " Flow Packets/s",
         "rawType": "float64",
         "type": "float"
        },
        {
         "name": " Flow IAT Mean",
         "rawType": "float64",
         "type": "float"
        },
        {
         "name": " Flow IAT Std",
         "rawType": "float64",
         "type": "float"
        },
        {
         "name": " Flow IAT Max",
         "rawType": "int64",
         "type": "integer"
        },
        {
         "name": " Flow IAT Min",
         "rawType": "int64",
         "type": "integer"
        },
        {
         "name": "Fwd IAT Total",
         "rawType": "int64",
         "type": "integer"
        },
        {
         "name": " Fwd IAT Mean",
         "rawType": "float64",
         "type": "float"
        },
        {
         "name": " Fwd IAT Std",
         "rawType": "float64",
         "type": "float"
        },
        {
         "name": " Fwd IAT Max",
         "rawType": "int64",
         "type": "integer"
        },
        {
         "name": " Fwd IAT Min",
         "rawType": "int64",
         "type": "integer"
        },
        {
         "name": "Bwd IAT Total",
         "rawType": "int64",
         "type": "integer"
        },
        {
         "name": " Bwd IAT Mean",
         "rawType": "float64",
         "type": "float"
        },
        {
         "name": " Bwd IAT Std",
         "rawType": "float64",
         "type": "float"
        },
        {
         "name": " Bwd IAT Max",
         "rawType": "int64",
         "type": "integer"
        },
        {
         "name": " Bwd IAT Min",
         "rawType": "int64",
         "type": "integer"
        },
        {
         "name": "Fwd PSH Flags",
         "rawType": "int64",
         "type": "integer"
        },
        {
         "name": " Bwd PSH Flags",
         "rawType": "int64",
         "type": "integer"
        },
        {
         "name": " Fwd URG Flags",
         "rawType": "int64",
         "type": "integer"
        },
        {
         "name": " Bwd URG Flags",
         "rawType": "int64",
         "type": "integer"
        },
        {
         "name": " Fwd Header Length",
         "rawType": "int64",
         "type": "integer"
        },
        {
         "name": " Bwd Header Length",
         "rawType": "int64",
         "type": "integer"
        },
        {
         "name": "Fwd Packets/s",
         "rawType": "float64",
         "type": "float"
        },
        {
         "name": " Bwd Packets/s",
         "rawType": "float64",
         "type": "float"
        },
        {
         "name": " Min Packet Length",
         "rawType": "int64",
         "type": "integer"
        },
        {
         "name": " Max Packet Length",
         "rawType": "int64",
         "type": "integer"
        },
        {
         "name": " Packet Length Mean",
         "rawType": "float64",
         "type": "float"
        },
        {
         "name": " Packet Length Std",
         "rawType": "float64",
         "type": "float"
        },
        {
         "name": " Packet Length Variance",
         "rawType": "float64",
         "type": "float"
        },
        {
         "name": "FIN Flag Count",
         "rawType": "int64",
         "type": "integer"
        },
        {
         "name": " SYN Flag Count",
         "rawType": "int64",
         "type": "integer"
        },
        {
         "name": " RST Flag Count",
         "rawType": "int64",
         "type": "integer"
        },
        {
         "name": " PSH Flag Count",
         "rawType": "int64",
         "type": "integer"
        },
        {
         "name": " ACK Flag Count",
         "rawType": "int64",
         "type": "integer"
        },
        {
         "name": " URG Flag Count",
         "rawType": "int64",
         "type": "integer"
        },
        {
         "name": " CWE Flag Count",
         "rawType": "int64",
         "type": "integer"
        },
        {
         "name": " ECE Flag Count",
         "rawType": "int64",
         "type": "integer"
        },
        {
         "name": " Down/Up Ratio",
         "rawType": "int64",
         "type": "integer"
        },
        {
         "name": " Average Packet Size",
         "rawType": "float64",
         "type": "float"
        },
        {
         "name": " Avg Fwd Segment Size",
         "rawType": "float64",
         "type": "float"
        },
        {
         "name": " Avg Bwd Segment Size",
         "rawType": "float64",
         "type": "float"
        },
        {
         "name": " Fwd Header Length.1",
         "rawType": "int64",
         "type": "integer"
        },
        {
         "name": "Fwd Avg Bytes/Bulk",
         "rawType": "int64",
         "type": "integer"
        },
        {
         "name": " Fwd Avg Packets/Bulk",
         "rawType": "int64",
         "type": "integer"
        },
        {
         "name": " Fwd Avg Bulk Rate",
         "rawType": "int64",
         "type": "integer"
        },
        {
         "name": " Bwd Avg Bytes/Bulk",
         "rawType": "int64",
         "type": "integer"
        },
        {
         "name": " Bwd Avg Packets/Bulk",
         "rawType": "int64",
         "type": "integer"
        },
        {
         "name": "Bwd Avg Bulk Rate",
         "rawType": "int64",
         "type": "integer"
        },
        {
         "name": "Subflow Fwd Packets",
         "rawType": "int64",
         "type": "integer"
        },
        {
         "name": " Subflow Fwd Bytes",
         "rawType": "int64",
         "type": "integer"
        },
        {
         "name": " Subflow Bwd Packets",
         "rawType": "int64",
         "type": "integer"
        },
        {
         "name": " Subflow Bwd Bytes",
         "rawType": "int64",
         "type": "integer"
        },
        {
         "name": "Init_Win_bytes_forward",
         "rawType": "int64",
         "type": "integer"
        },
        {
         "name": " Init_Win_bytes_backward",
         "rawType": "int64",
         "type": "integer"
        },
        {
         "name": " act_data_pkt_fwd",
         "rawType": "int64",
         "type": "integer"
        },
        {
         "name": " min_seg_size_forward",
         "rawType": "int64",
         "type": "integer"
        },
        {
         "name": "Active Mean",
         "rawType": "float64",
         "type": "float"
        },
        {
         "name": " Active Std",
         "rawType": "float64",
         "type": "float"
        },
        {
         "name": " Active Max",
         "rawType": "int64",
         "type": "integer"
        },
        {
         "name": " Active Min",
         "rawType": "int64",
         "type": "integer"
        },
        {
         "name": "Idle Mean",
         "rawType": "float64",
         "type": "float"
        },
        {
         "name": " Idle Std",
         "rawType": "float64",
         "type": "float"
        },
        {
         "name": " Idle Max",
         "rawType": "int64",
         "type": "integer"
        },
        {
         "name": " Idle Min",
         "rawType": "int64",
         "type": "integer"
        },
        {
         "name": " Label",
         "rawType": "object",
         "type": "string"
        }
       ],
       "conversionMethod": "pd.DataFrame",
       "ref": "2fdd65e0-278d-43b2-80c6-d38022694a88",
       "rows": [
        [
         "0",
         "49188",
         "4",
         "2",
         "0",
         "12",
         "0",
         "6",
         "6",
         "6.0",
         "0.0",
         "0",
         "0",
         "0.0",
         "0.0",
         "3000000.0",
         "500000.0",
         "4.0",
         "0.0",
         "4",
         "4",
         "4",
         "4.0",
         "0.0",
         "4",
         "4",
         "0",
         "0.0",
         "0.0",
         "0",
         "0",
         "0",
         "0",
         "0",
         "0",
         "40",
         "0",
         "500000.0",
         "0.0",
         "6",
         "6",
         "6.0",
         "0.0",
         "0.0",
         "0",
         "0",
         "0",
         "0",
         "1",
         "1",
         "0",
         "0",
         "0",
         "9.0",
         "6.0",
         "0.0",
         "40",
         "0",
         "0",
         "0",
         "0",
         "0",
         "0",
         "2",
         "12",
         "0",
         "0",
         "329",
         "-1",
         "1",
         "20",
         "0.0",
         "0.0",
         "0",
         "0",
         "0.0",
         "0.0",
         "0",
         "0",
         "BENIGN"
        ],
        [
         "1",
         "49188",
         "1",
         "2",
         "0",
         "12",
         "0",
         "6",
         "6",
         "6.0",
         "0.0",
         "0",
         "0",
         "0.0",
         "0.0",
         "12000000.0",
         "2000000.0",
         "1.0",
         "0.0",
         "1",
         "1",
         "1",
         "1.0",
         "0.0",
         "1",
         "1",
         "0",
         "0.0",
         "0.0",
         "0",
         "0",
         "0",
         "0",
         "0",
         "0",
         "40",
         "0",
         "2000000.0",
         "0.0",
         "6",
         "6",
         "6.0",
         "0.0",
         "0.0",
         "0",
         "0",
         "0",
         "0",
         "1",
         "1",
         "0",
         "0",
         "0",
         "9.0",
         "6.0",
         "0.0",
         "40",
         "0",
         "0",
         "0",
         "0",
         "0",
         "0",
         "2",
         "12",
         "0",
         "0",
         "329",
         "-1",
         "1",
         "20",
         "0.0",
         "0.0",
         "0",
         "0",
         "0.0",
         "0.0",
         "0",
         "0",
         "BENIGN"
        ],
        [
         "2",
         "49188",
         "1",
         "2",
         "0",
         "12",
         "0",
         "6",
         "6",
         "6.0",
         "0.0",
         "0",
         "0",
         "0.0",
         "0.0",
         "12000000.0",
         "2000000.0",
         "1.0",
         "0.0",
         "1",
         "1",
         "1",
         "1.0",
         "0.0",
         "1",
         "1",
         "0",
         "0.0",
         "0.0",
         "0",
         "0",
         "0",
         "0",
         "0",
         "0",
         "40",
         "0",
         "2000000.0",
         "0.0",
         "6",
         "6",
         "6.0",
         "0.0",
         "0.0",
         "0",
         "0",
         "0",
         "0",
         "1",
         "1",
         "0",
         "0",
         "0",
         "9.0",
         "6.0",
         "0.0",
         "40",
         "0",
         "0",
         "0",
         "0",
         "0",
         "0",
         "2",
         "12",
         "0",
         "0",
         "329",
         "-1",
         "1",
         "20",
         "0.0",
         "0.0",
         "0",
         "0",
         "0.0",
         "0.0",
         "0",
         "0",
         "BENIGN"
        ],
        [
         "3",
         "49188",
         "1",
         "2",
         "0",
         "12",
         "0",
         "6",
         "6",
         "6.0",
         "0.0",
         "0",
         "0",
         "0.0",
         "0.0",
         "12000000.0",
         "2000000.0",
         "1.0",
         "0.0",
         "1",
         "1",
         "1",
         "1.0",
         "0.0",
         "1",
         "1",
         "0",
         "0.0",
         "0.0",
         "0",
         "0",
         "0",
         "0",
         "0",
         "0",
         "40",
         "0",
         "2000000.0",
         "0.0",
         "6",
         "6",
         "6.0",
         "0.0",
         "0.0",
         "0",
         "0",
         "0",
         "0",
         "1",
         "1",
         "0",
         "0",
         "0",
         "9.0",
         "6.0",
         "0.0",
         "40",
         "0",
         "0",
         "0",
         "0",
         "0",
         "0",
         "2",
         "12",
         "0",
         "0",
         "329",
         "-1",
         "1",
         "20",
         "0.0",
         "0.0",
         "0",
         "0",
         "0.0",
         "0.0",
         "0",
         "0",
         "BENIGN"
        ],
        [
         "4",
         "49486",
         "3",
         "2",
         "0",
         "12",
         "0",
         "6",
         "6",
         "6.0",
         "0.0",
         "0",
         "0",
         "0.0",
         "0.0",
         "4000000.0",
         "666666.666666667",
         "3.0",
         "0.0",
         "3",
         "3",
         "3",
         "3.0",
         "0.0",
         "3",
         "3",
         "0",
         "0.0",
         "0.0",
         "0",
         "0",
         "0",
         "0",
         "0",
         "0",
         "40",
         "0",
         "666666.666666667",
         "0.0",
         "6",
         "6",
         "6.0",
         "0.0",
         "0.0",
         "0",
         "0",
         "0",
         "0",
         "1",
         "1",
         "0",
         "0",
         "0",
         "9.0",
         "6.0",
         "0.0",
         "40",
         "0",
         "0",
         "0",
         "0",
         "0",
         "0",
         "2",
         "12",
         "0",
         "0",
         "245",
         "-1",
         "1",
         "20",
         "0.0",
         "0.0",
         "0",
         "0",
         "0.0",
         "0.0",
         "0",
         "0",
         "BENIGN"
        ]
       ],
       "shape": {
        "columns": 79,
        "rows": 5
       }
      },
      "text/html": [
       "<div>\n",
       "<style scoped>\n",
       "    .dataframe tbody tr th:only-of-type {\n",
       "        vertical-align: middle;\n",
       "    }\n",
       "\n",
       "    .dataframe tbody tr th {\n",
       "        vertical-align: top;\n",
       "    }\n",
       "\n",
       "    .dataframe thead th {\n",
       "        text-align: right;\n",
       "    }\n",
       "</style>\n",
       "<table border=\"1\" class=\"dataframe\">\n",
       "  <thead>\n",
       "    <tr style=\"text-align: right;\">\n",
       "      <th></th>\n",
       "      <th>Destination Port</th>\n",
       "      <th>Flow Duration</th>\n",
       "      <th>Total Fwd Packets</th>\n",
       "      <th>Total Backward Packets</th>\n",
       "      <th>Total Length of Fwd Packets</th>\n",
       "      <th>Total Length of Bwd Packets</th>\n",
       "      <th>Fwd Packet Length Max</th>\n",
       "      <th>Fwd Packet Length Min</th>\n",
       "      <th>Fwd Packet Length Mean</th>\n",
       "      <th>Fwd Packet Length Std</th>\n",
       "      <th>...</th>\n",
       "      <th>min_seg_size_forward</th>\n",
       "      <th>Active Mean</th>\n",
       "      <th>Active Std</th>\n",
       "      <th>Active Max</th>\n",
       "      <th>Active Min</th>\n",
       "      <th>Idle Mean</th>\n",
       "      <th>Idle Std</th>\n",
       "      <th>Idle Max</th>\n",
       "      <th>Idle Min</th>\n",
       "      <th>Label</th>\n",
       "    </tr>\n",
       "  </thead>\n",
       "  <tbody>\n",
       "    <tr>\n",
       "      <th>0</th>\n",
       "      <td>49188</td>\n",
       "      <td>4</td>\n",
       "      <td>2</td>\n",
       "      <td>0</td>\n",
       "      <td>12</td>\n",
       "      <td>0</td>\n",
       "      <td>6</td>\n",
       "      <td>6</td>\n",
       "      <td>6.0</td>\n",
       "      <td>0.0</td>\n",
       "      <td>...</td>\n",
       "      <td>20</td>\n",
       "      <td>0.0</td>\n",
       "      <td>0.0</td>\n",
       "      <td>0</td>\n",
       "      <td>0</td>\n",
       "      <td>0.0</td>\n",
       "      <td>0.0</td>\n",
       "      <td>0</td>\n",
       "      <td>0</td>\n",
       "      <td>BENIGN</td>\n",
       "    </tr>\n",
       "    <tr>\n",
       "      <th>1</th>\n",
       "      <td>49188</td>\n",
       "      <td>1</td>\n",
       "      <td>2</td>\n",
       "      <td>0</td>\n",
       "      <td>12</td>\n",
       "      <td>0</td>\n",
       "      <td>6</td>\n",
       "      <td>6</td>\n",
       "      <td>6.0</td>\n",
       "      <td>0.0</td>\n",
       "      <td>...</td>\n",
       "      <td>20</td>\n",
       "      <td>0.0</td>\n",
       "      <td>0.0</td>\n",
       "      <td>0</td>\n",
       "      <td>0</td>\n",
       "      <td>0.0</td>\n",
       "      <td>0.0</td>\n",
       "      <td>0</td>\n",
       "      <td>0</td>\n",
       "      <td>BENIGN</td>\n",
       "    </tr>\n",
       "    <tr>\n",
       "      <th>2</th>\n",
       "      <td>49188</td>\n",
       "      <td>1</td>\n",
       "      <td>2</td>\n",
       "      <td>0</td>\n",
       "      <td>12</td>\n",
       "      <td>0</td>\n",
       "      <td>6</td>\n",
       "      <td>6</td>\n",
       "      <td>6.0</td>\n",
       "      <td>0.0</td>\n",
       "      <td>...</td>\n",
       "      <td>20</td>\n",
       "      <td>0.0</td>\n",
       "      <td>0.0</td>\n",
       "      <td>0</td>\n",
       "      <td>0</td>\n",
       "      <td>0.0</td>\n",
       "      <td>0.0</td>\n",
       "      <td>0</td>\n",
       "      <td>0</td>\n",
       "      <td>BENIGN</td>\n",
       "    </tr>\n",
       "    <tr>\n",
       "      <th>3</th>\n",
       "      <td>49188</td>\n",
       "      <td>1</td>\n",
       "      <td>2</td>\n",
       "      <td>0</td>\n",
       "      <td>12</td>\n",
       "      <td>0</td>\n",
       "      <td>6</td>\n",
       "      <td>6</td>\n",
       "      <td>6.0</td>\n",
       "      <td>0.0</td>\n",
       "      <td>...</td>\n",
       "      <td>20</td>\n",
       "      <td>0.0</td>\n",
       "      <td>0.0</td>\n",
       "      <td>0</td>\n",
       "      <td>0</td>\n",
       "      <td>0.0</td>\n",
       "      <td>0.0</td>\n",
       "      <td>0</td>\n",
       "      <td>0</td>\n",
       "      <td>BENIGN</td>\n",
       "    </tr>\n",
       "    <tr>\n",
       "      <th>4</th>\n",
       "      <td>49486</td>\n",
       "      <td>3</td>\n",
       "      <td>2</td>\n",
       "      <td>0</td>\n",
       "      <td>12</td>\n",
       "      <td>0</td>\n",
       "      <td>6</td>\n",
       "      <td>6</td>\n",
       "      <td>6.0</td>\n",
       "      <td>0.0</td>\n",
       "      <td>...</td>\n",
       "      <td>20</td>\n",
       "      <td>0.0</td>\n",
       "      <td>0.0</td>\n",
       "      <td>0</td>\n",
       "      <td>0</td>\n",
       "      <td>0.0</td>\n",
       "      <td>0.0</td>\n",
       "      <td>0</td>\n",
       "      <td>0</td>\n",
       "      <td>BENIGN</td>\n",
       "    </tr>\n",
       "  </tbody>\n",
       "</table>\n",
       "<p>5 rows × 79 columns</p>\n",
       "</div>"
      ],
      "text/plain": [
       "    Destination Port   Flow Duration   Total Fwd Packets  \\\n",
       "0              49188               4                   2   \n",
       "1              49188               1                   2   \n",
       "2              49188               1                   2   \n",
       "3              49188               1                   2   \n",
       "4              49486               3                   2   \n",
       "\n",
       "    Total Backward Packets  Total Length of Fwd Packets  \\\n",
       "0                        0                           12   \n",
       "1                        0                           12   \n",
       "2                        0                           12   \n",
       "3                        0                           12   \n",
       "4                        0                           12   \n",
       "\n",
       "    Total Length of Bwd Packets   Fwd Packet Length Max  \\\n",
       "0                             0                       6   \n",
       "1                             0                       6   \n",
       "2                             0                       6   \n",
       "3                             0                       6   \n",
       "4                             0                       6   \n",
       "\n",
       "    Fwd Packet Length Min   Fwd Packet Length Mean   Fwd Packet Length Std  \\\n",
       "0                       6                      6.0                     0.0   \n",
       "1                       6                      6.0                     0.0   \n",
       "2                       6                      6.0                     0.0   \n",
       "3                       6                      6.0                     0.0   \n",
       "4                       6                      6.0                     0.0   \n",
       "\n",
       "   ...   min_seg_size_forward  Active Mean   Active Std   Active Max  \\\n",
       "0  ...                     20          0.0          0.0            0   \n",
       "1  ...                     20          0.0          0.0            0   \n",
       "2  ...                     20          0.0          0.0            0   \n",
       "3  ...                     20          0.0          0.0            0   \n",
       "4  ...                     20          0.0          0.0            0   \n",
       "\n",
       "    Active Min  Idle Mean   Idle Std   Idle Max   Idle Min   Label  \n",
       "0            0        0.0        0.0          0          0  BENIGN  \n",
       "1            0        0.0        0.0          0          0  BENIGN  \n",
       "2            0        0.0        0.0          0          0  BENIGN  \n",
       "3            0        0.0        0.0          0          0  BENIGN  \n",
       "4            0        0.0        0.0          0          0  BENIGN  \n",
       "\n",
       "[5 rows x 79 columns]"
      ]
     },
     "execution_count": 4,
     "metadata": {},
     "output_type": "execute_result"
    }
   ],
   "source": [
    "df_train.head(5)"
   ]
  },
  {
   "cell_type": "code",
   "execution_count": 5,
   "metadata": {},
   "outputs": [],
   "source": [
    "# df_train.shape"
   ]
  },
  {
   "cell_type": "code",
   "execution_count": 6,
   "metadata": {},
   "outputs": [],
   "source": [
    "# df_train.info()"
   ]
  },
  {
   "cell_type": "code",
   "execution_count": 7,
   "metadata": {},
   "outputs": [],
   "source": [
    "# df_train.describe()"
   ]
  },
  {
   "cell_type": "code",
   "execution_count": 8,
   "metadata": {},
   "outputs": [],
   "source": [
    "# Remove leading and trailing whitespaces from column names\n",
    "df_train.columns = df_train.columns.str.strip()"
   ]
  },
  {
   "cell_type": "code",
   "execution_count": 9,
   "metadata": {},
   "outputs": [
    {
     "data": {
      "text/plain": [
       "Index(['Destination Port', 'Flow Duration', 'Total Fwd Packets',\n",
       "       'Total Backward Packets', 'Total Length of Fwd Packets',\n",
       "       'Total Length of Bwd Packets', 'Fwd Packet Length Max',\n",
       "       'Fwd Packet Length Min', 'Fwd Packet Length Mean',\n",
       "       'Fwd Packet Length Std', 'Bwd Packet Length Max',\n",
       "       'Bwd Packet Length Min', 'Bwd Packet Length Mean',\n",
       "       'Bwd Packet Length Std', 'Flow Bytes/s', 'Flow Packets/s',\n",
       "       'Flow IAT Mean', 'Flow IAT Std', 'Flow IAT Max', 'Flow IAT Min',\n",
       "       'Fwd IAT Total', 'Fwd IAT Mean', 'Fwd IAT Std', 'Fwd IAT Max',\n",
       "       'Fwd IAT Min', 'Bwd IAT Total', 'Bwd IAT Mean', 'Bwd IAT Std',\n",
       "       'Bwd IAT Max', 'Bwd IAT Min', 'Fwd PSH Flags', 'Bwd PSH Flags',\n",
       "       'Fwd URG Flags', 'Bwd URG Flags', 'Fwd Header Length',\n",
       "       'Bwd Header Length', 'Fwd Packets/s', 'Bwd Packets/s',\n",
       "       'Min Packet Length', 'Max Packet Length', 'Packet Length Mean',\n",
       "       'Packet Length Std', 'Packet Length Variance', 'FIN Flag Count',\n",
       "       'SYN Flag Count', 'RST Flag Count', 'PSH Flag Count', 'ACK Flag Count',\n",
       "       'URG Flag Count', 'CWE Flag Count', 'ECE Flag Count', 'Down/Up Ratio',\n",
       "       'Average Packet Size', 'Avg Fwd Segment Size', 'Avg Bwd Segment Size',\n",
       "       'Fwd Header Length.1', 'Fwd Avg Bytes/Bulk', 'Fwd Avg Packets/Bulk',\n",
       "       'Fwd Avg Bulk Rate', 'Bwd Avg Bytes/Bulk', 'Bwd Avg Packets/Bulk',\n",
       "       'Bwd Avg Bulk Rate', 'Subflow Fwd Packets', 'Subflow Fwd Bytes',\n",
       "       'Subflow Bwd Packets', 'Subflow Bwd Bytes', 'Init_Win_bytes_forward',\n",
       "       'Init_Win_bytes_backward', 'act_data_pkt_fwd', 'min_seg_size_forward',\n",
       "       'Active Mean', 'Active Std', 'Active Max', 'Active Min', 'Idle Mean',\n",
       "       'Idle Std', 'Idle Max', 'Idle Min', 'Label'],\n",
       "      dtype='object')"
      ]
     },
     "execution_count": 9,
     "metadata": {},
     "output_type": "execute_result"
    }
   ],
   "source": [
    "df_train.columns"
   ]
  },
  {
   "cell_type": "markdown",
   "metadata": {},
   "source": [
    "## Step 2. Data Cleaning"
   ]
  },
  {
   "cell_type": "markdown",
   "metadata": {},
   "source": [
    "### A. Missing values"
   ]
  },
  {
   "cell_type": "code",
   "execution_count": 10,
   "metadata": {},
   "outputs": [
    {
     "name": "stdout",
     "output_type": "stream",
     "text": [
      "1358\n"
     ]
    }
   ],
   "source": [
    "print(df_train.isna().sum().sum())"
   ]
  },
  {
   "cell_type": "code",
   "execution_count": 11,
   "metadata": {},
   "outputs": [],
   "source": [
    "df_train.dropna(subset=[\"Flow Bytes/s\"], inplace=True)"
   ]
  },
  {
   "cell_type": "code",
   "execution_count": 12,
   "metadata": {},
   "outputs": [
    {
     "name": "stdout",
     "output_type": "stream",
     "text": [
      "0\n"
     ]
    }
   ],
   "source": [
    "print(df_train.isna().sum().sum())"
   ]
  },
  {
   "cell_type": "markdown",
   "metadata": {},
   "source": [
    "### Inf. values"
   ]
  },
  {
   "cell_type": "code",
   "execution_count": 13,
   "metadata": {},
   "outputs": [],
   "source": [
    "import numpy as np\n",
    "df_train = df_train.replace([np.inf, -np.inf], np.nan).dropna()"
   ]
  },
  {
   "cell_type": "markdown",
   "metadata": {},
   "source": [
    "## Step 3. Data Preparation"
   ]
  },
  {
   "cell_type": "markdown",
   "metadata": {},
   "source": [
    "### A. Map labels"
   ]
  },
  {
   "cell_type": "code",
   "execution_count": 14,
   "metadata": {},
   "outputs": [
    {
     "data": {
      "text/plain": [
       "Label\n",
       "BENIGN                        2271320\n",
       "DoS Hulk                       230124\n",
       "PortScan                       158804\n",
       "DDoS                           128025\n",
       "DoS GoldenEye                   10293\n",
       "FTP-Patator                      7935\n",
       "SSH-Patator                      5897\n",
       "DoS slowloris                    5796\n",
       "DoS Slowhttptest                 5499\n",
       "Bot                              1956\n",
       "Web Attack � Brute Force         1507\n",
       "Web Attack � XSS                  652\n",
       "Infiltration                       36\n",
       "Web Attack � Sql Injection         21\n",
       "Heartbleed                         11\n",
       "Name: count, dtype: int64"
      ]
     },
     "execution_count": 14,
     "metadata": {},
     "output_type": "execute_result"
    }
   ],
   "source": [
    "df_train[\"Label\"].value_counts()"
   ]
  },
  {
   "cell_type": "code",
   "execution_count": 15,
   "metadata": {},
   "outputs": [],
   "source": [
    "# BINARY MAPPING - (Benign/Attack)\n",
    "attack_mapping = {\n",
    "\t\"BENIGN\": 0,\n",
    "\t\"DoS Hulk\": 1,\n",
    "\t\"PortScan\": 1,\n",
    "\t\"DDoS\": 1,\n",
    "\t\"DoS GoldenEye\": 1,\n",
    "\t\"FTP-Patator\": 1,\n",
    "\t\"SSH-Patator\": 1,\n",
    "\t\"DoS slowloris\": 1,\n",
    "\t\"DoS Slowhttptest\": 1,\n",
    "\t\"Bot\": 1,\n",
    "\t\"Web Attack � Brute Force\": 1,\n",
    "\t\"Web Attack � XSS\": 1,\n",
    "\t\"Infiltration\": 1,\n",
    "\t\"Web Attack � Sql Injection\": 1,\n",
    "\t\"Heartbleed\": 1,\n",
    "}\n",
    "\n",
    "df_train[\"Label\"] = df_train[\"Label\"].map(attack_mapping)"
   ]
  },
  {
   "cell_type": "code",
   "execution_count": 16,
   "metadata": {},
   "outputs": [
    {
     "data": {
      "text/plain": [
       "Label\n",
       "0    2271320\n",
       "1     556556\n",
       "Name: count, dtype: int64"
      ]
     },
     "execution_count": 16,
     "metadata": {},
     "output_type": "execute_result"
    }
   ],
   "source": [
    "df_train[\"Label\"].value_counts()"
   ]
  },
  {
   "cell_type": "markdown",
   "metadata": {},
   "source": [
    "### B. Data Splitting"
   ]
  },
  {
   "cell_type": "code",
   "execution_count": 17,
   "metadata": {},
   "outputs": [],
   "source": [
    "X = df_train.drop(columns=\"Label\")\n",
    "y = df_train[\"Label\"]"
   ]
  },
  {
   "cell_type": "markdown",
   "metadata": {},
   "source": [
    "### C. Data Scaling"
   ]
  },
  {
   "cell_type": "code",
   "execution_count": 18,
   "metadata": {},
   "outputs": [],
   "source": [
    "# Standardize the data (PCA assumes zero-mean, unit variance)\n",
    "from sklearn.preprocessing import StandardScaler\n",
    "\n",
    "scaler = StandardScaler()\n",
    "X_scaled = scaler.fit_transform(X)"
   ]
  },
  {
   "cell_type": "markdown",
   "metadata": {},
   "source": [
    "## Step 4. Model"
   ]
  },
  {
   "cell_type": "markdown",
   "metadata": {},
   "source": [
    "#### A. Defining the model"
   ]
  },
  {
   "cell_type": "code",
   "execution_count": 19,
   "metadata": {},
   "outputs": [],
   "source": [
    "from sklearn.decomposition import PCA\n",
    "\n",
    "# Train PCA on **only benign data**\n",
    "X_benign = X_scaled[y == 0]"
   ]
  },
  {
   "cell_type": "markdown",
   "metadata": {},
   "source": [
    "### B. Training the model"
   ]
  },
  {
   "cell_type": "code",
   "execution_count": 20,
   "metadata": {},
   "outputs": [],
   "source": [
    "from sklearn.metrics import roc_auc_score, f1_score, classification_report"
   ]
  },
  {
   "cell_type": "code",
   "execution_count": 21,
   "metadata": {},
   "outputs": [],
   "source": [
    "best_n = None\n",
    "best_auc = 0\n",
    "best_f1 = 0\n",
    "best_predictions = None"
   ]
  },
  {
   "cell_type": "code",
   "execution_count": 22,
   "metadata": {},
   "outputs": [
    {
     "name": "stdout",
     "output_type": "stream",
     "text": [
      "n_components=9\t\tAUC=0.7652 F1=0.5467\n",
      "n_components=10\t\tAUC=0.7983 F1=0.5584\n",
      "n_components=11\t\tAUC=0.7999 F1=0.5596\n",
      "n_components=12\t\tAUC=0.8023 F1=0.5620\n",
      "n_components=13\t\tAUC=0.8024 F1=0.5621\n",
      "n_components=14\t\tAUC=0.8083 F1=0.5609\n",
      "n_components=15\t\tAUC=0.8168 F1=0.5584\n",
      "n_components=16\t\tAUC=0.8199 F1=0.5636\n",
      "n_components=17\t\tAUC=0.8274 F1=0.5705\n",
      "n_components=18\t\tAUC=0.8450 F1=0.5581\n",
      "n_components=19\t\tAUC=0.8472 F1=0.5639\n",
      "n_components=20\t\tAUC=0.8531 F1=0.5691\n",
      "n_components=21\t\tAUC=0.8456 F1=0.5252\n",
      "n_components=22\t\tAUC=0.8522 F1=0.5459\n",
      "n_components=23\t\tAUC=0.8601 F1=0.5623\n",
      "n_components=24\t\tAUC=0.8703 F1=0.5408\n",
      "n_components=25\t\tAUC=0.8726 F1=0.5630\n",
      "n_components=26\t\tAUC=0.8969 F1=0.5665\n",
      "n_components=27\t\tAUC=0.8870 F1=0.5607\n",
      "n_components=28\t\tAUC=0.8362 F1=0.5356\n",
      "n_components=29\t\tAUC=0.8487 F1=0.5468\n",
      "n_components=30\t\tAUC=0.8476 F1=0.5469\n",
      "n_components=31\t\tAUC=0.8476 F1=0.5469\n",
      "n_components=32\t\tAUC=0.8490 F1=0.5525\n",
      "n_components=33\t\tAUC=0.8388 F1=0.5524\n",
      "n_components=34\t\tAUC=0.8299 F1=0.5516\n",
      "n_components=35\t\tAUC=0.8261 F1=0.5481\n",
      "n_components=36\t\tAUC=0.8250 F1=0.5480\n",
      "n_components=37\t\tAUC=0.8240 F1=0.5492\n",
      "n_components=38\t\tAUC=0.8327 F1=0.5493\n",
      "n_components=39\t\tAUC=0.8281 F1=0.5498\n",
      "n_components=40\t\tAUC=0.8313 F1=0.5505\n",
      "\n",
      "Best n_components=26 AUC=0.8969 F1=0.5665\n"
     ]
    }
   ],
   "source": [
    "# Define range of principal components to test\n",
    "n_components_list = np.arange(9, 41, 1)\n",
    "\n",
    "# DataFrame to store results\n",
    "results_df = pd.DataFrame(columns=[\"n_components\", \"AUC\", \"F1\"])\n",
    "\n",
    "# Loop over each number of principal components, and fit a model\n",
    "for idx, n_components in enumerate(n_components_list, 1):\n",
    "\t# Fit PCA on benign traffic\n",
    "\tpca = PCA(n_components=n_components)\n",
    "\tpca.fit(X_benign)\n",
    "\n",
    "\t# Transform and then inverse transform the entire dataset\n",
    "\tX_pca = pca.transform(X_scaled)\n",
    "\tX_reconstructed = pca.inverse_transform(X_pca)\n",
    "\n",
    "\t# Compute Reconstruction Error (Sum of Squared Errors - SSE)\n",
    "\treconstruction_error = np.sum((X_scaled - X_reconstructed) ** 2, axis=1)\n",
    "\n",
    "\t# Determine anomaly threshold (e.g., 95th percentile of benign errors)\n",
    "\tthreshold = np.percentile(reconstruction_error[y == 0], 95)\n",
    "\n",
    "\t# Predict anomalies\n",
    "\ty_pred = (reconstruction_error > threshold).astype(int)\n",
    "\n",
    "\t# Evaluate performance\n",
    "\tauc_score = roc_auc_score(y, reconstruction_error)\n",
    "\tf1 = f1_score(y, y_pred)\n",
    "\n",
    "\t# Store results in DataFrame\n",
    "\tresults_df.loc[idx] = [n_components, auc_score, f1]\n",
    "\n",
    "\t# Print progress\n",
    "\tprint(f\"n_components={n_components}\\t\\tAUC={auc_score:.4f} F1={f1:.4f}\")\n",
    "\n",
    "\t# Update best parameters\n",
    "\tif auc_score > best_auc:\n",
    "\t\tbest_n = n_components\n",
    "\t\tbest_auc = auc_score\n",
    "\t\tbest_f1 = f1\n",
    "\t\tbest_predictions = y_pred\n",
    "\n",
    "print(f\"\\nBest n_components={best_n} AUC={best_auc:.4f} F1={best_f1:.4f}\")"
   ]
  },
  {
   "cell_type": "code",
   "execution_count": 23,
   "metadata": {},
   "outputs": [],
   "source": [
    "import matplotlib.pyplot as plt\n",
    "import seaborn as sns\n",
    "sns.set(style=\"whitegrid\")"
   ]
  },
  {
   "cell_type": "code",
   "execution_count": 31,
   "metadata": {},
   "outputs": [
    {
     "data": {
      "image/png": "[encoded data removed]",
      "text/plain": [
       "<Figure size 800x400 with 1 Axes>"
      ]
     },
     "metadata": {},
     "output_type": "display_data"
    }
   ],
   "source": [
    "results_df[\"sum_of_f1_and_auc\"] = results_df[\"F1\"] + results_df[\"AUC\"]\n",
    "\n",
    "# Plot AUC and F1 scores\n",
    "plt.figure(figsize=(8, 4))\n",
    "sns.lineplot(x=\"n_components\", y=\"AUC\", data=results_df, label=\"AUC\", color=\"orange\")\n",
    "sns.lineplot(x=\"n_components\", y=\"F1\", data=results_df, label=\"F1\")\n",
    "# sns.lineplot(x=\"n_components\", y=\"sum_of_f1_and_auc\", data=results_df, label=\"sum\", color=\"purple\")\n",
    "plt.title(\"PCA Performance\", fontweight=\"bold\")\n",
    "\n",
    "# Place a vertical line at the best n_components\n",
    "plt.axvline(x=best_n, color=\"purple\", linestyle=\"--\", linewidth=0.5)\n",
    "plt.text(best_n + 1, 0.77, f\"n_components={best_n}\", color=\"purple\")\n",
    "\n",
    "plt.xlabel(\"Number of Principal Components\")\n",
    "plt.ylabel(\"Score\")\n",
    "plt.xticks(np.arange(n_components_list[0], n_components_list[-1] + 1, 5))\n",
    "plt.legend()\n",
    "sns.despine()\n",
    "plt.show()"
   ]
  },
  {
   "cell_type": "code",
   "execution_count": 25,
   "metadata": {},
   "outputs": [
    {
     "data": {
      "image/png": "[encoded data removed]",
      "text/plain": [
       "<Figure size 800x400 with 1 Axes>"
      ]
     },
     "metadata": {},
     "output_type": "display_data"
    }
   ],
   "source": [
    "# Plot cumulative explained variance\n",
    "plt.figure(figsize=(8, 4))\n",
    "plt.plot(np.cumsum(pca.explained_variance_ratio_), linestyle=\"-\")\n",
    "plt.xlabel(\"Number of Principal Components\")\n",
    "plt.ylabel(\"Cumulative Explained Variance\")\n",
    "plt.title(\"Explained Variance vs. Number of Components\", fontweight=\"bold\")\n",
    "plt.axhline(y=0.95, color='r', linestyle='--')  # 95% variance line\n",
    "\n",
    "# Place a vertical line at the best n_components\n",
    "plt.axvline(x=best_n, color=\"purple\", linestyle=\"--\", linewidth=0.5)\n",
    "plt.text(best_n + 1, 0.75, f\"n_components={best_n}\", color=\"purple\")\n",
    "\n",
    "# Place a vertical line where 95% variance is achieved\n",
    "plt.axvline(x=np.argmax(np.cumsum(pca.explained_variance_ratio_) > 0.95), color=\"red\", linestyle=\"--\", linewidth=0.5)\n",
    "plt.text(np.argmax(np.cumsum(pca.explained_variance_ratio_) > 0.95) + 1, 0.5, \"95% variance\", color=\"red\")\n",
    "\n",
    "sns.despine()\n",
    "plt.show()"
   ]
  },
  {
   "cell_type": "markdown",
   "metadata": {},
   "source": [
    "### C. Run PCA with best parameters, and show classification report"
   ]
  },
  {
   "cell_type": "code",
   "execution_count": 32,
   "metadata": {},
   "outputs": [
    {
     "name": "stdout",
     "output_type": "stream",
     "text": [
      "Classification report:\n",
      "              precision    recall  f1-score   support\n",
      "\n",
      "           0       0.88      0.95      0.91   2271320\n",
      "           1       0.70      0.48      0.57    556556\n",
      "\n",
      "    accuracy                           0.86   2827876\n",
      "   macro avg       0.79      0.71      0.74   2827876\n",
      "weighted avg       0.85      0.86      0.85   2827876\n",
      "\n"
     ]
    }
   ],
   "source": [
    "pca = PCA(n_components=best_n)\n",
    "pca.fit(X_benign)\n",
    "X_pca = pca.transform(X_scaled)\n",
    "X_reconstructed = pca.inverse_transform(X_pca)\n",
    "reconstruction_error = np.sum((X_scaled - X_reconstructed) ** 2, axis=1)\n",
    "threshold = np.percentile(reconstruction_error[y == 0], 95)\n",
    "y_pred = (reconstruction_error > threshold).astype(int)\n",
    "print(f\"Classification report:\\n{classification_report(y, y_pred)}\")"
   ]
  }
 ],
 "metadata": {
  "kernelspec": {
   "display_name": "Python 3",
   "language": "python",
   "name": "python3"
  },
  "language_info": {
   "codemirror_mode": {
    "name": "ipython",
    "version": 3
   },
   "file_extension": ".py",
   "mimetype": "text/x-python",
   "name": "python",
   "nbconvert_exporter": "python",
   "pygments_lexer": "ipython3",
   "version": "3.12.7"
  }
 },
 "nbformat": 4,
 "nbformat_minor": 2
}
